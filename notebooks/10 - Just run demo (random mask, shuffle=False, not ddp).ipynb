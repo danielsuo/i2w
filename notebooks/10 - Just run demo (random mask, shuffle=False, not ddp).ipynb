{
 "cells": [
  {
   "cell_type": "code",
   "execution_count": 2,
   "id": "6db6a05a",
   "metadata": {},
   "outputs": [
    {
     "name": "stdout",
     "output_type": "stream",
     "text": [
      "Extension horovod.torch has not been built: /opt/conda/lib/python3.7/site-packages/horovod/torch/mpi_lib/_mpi_lib.cpython-37m-x86_64-linux-gnu.so not found\n",
      "If this is not expected, reinstall Horovod with HOROVOD_WITH_PYTORCH=1 to debug the build error.\n",
      "Warning! MPI libs are missing, but python applications are still avaiable.\n"
     ]
    }
   ],
   "source": [
    "import os\n",
    "import pathlib\n",
    "import argparse\n",
    "\n",
    "import pytorch_lightning as pl\n",
    "from fastmri.data.mri_data import fetch_dir\n",
    "from fastmri.data.subsample import create_mask_for_mask_type\n",
    "from fastmri.data.transforms import UnetDataTransform\n",
    "from fastmri.pl_modules import FastMriDataModule, UnetModule"
   ]
  },
  {
   "cell_type": "code",
   "execution_count": 4,
   "id": "ac608a26",
   "metadata": {},
   "outputs": [],
   "source": [
    "# Grabbed from `train_unet_demo.build_args()`.\n",
    "\n",
    "args = argparse.Namespace(\n",
    "    accelerations=[4],\n",
    "    accelerator='gpu',  # Should be `ddp`, but not available in interactive mode\n",
    "    accumulate_grad_batches=None,\n",
    "    amp_backend='native',\n",
    "    amp_level=None,\n",
    "    auto_lr_find=False,\n",
    "    auto_scale_batch_size=False,\n",
    "    auto_select_gpus=False,\n",
    "    batch_size=8,\n",
    "    benchmark=False,\n",
    "#     callbacks=[<pytorch_lightning.callbacks.model_checkpoint.ModelCheckpoint object at 0x7f409795e090>],\n",
    "    center_fractions=[0.08],\n",
    "    challenge='singlecoil',\n",
    "    chans=32,\n",
    "    check_val_every_n_epoch=1,\n",
    "    checkpoint_callback=None,\n",
    "    combine_train_val=False,\n",
    "    data_path=pathlib.PosixPath('/home/dsuo'),\n",
    "    default_root_dir=pathlib.PosixPath('unet/unet_demo'),\n",
    "    detect_anomaly=False, deterministic=True,\n",
    "    devices=None, drop_prob=0.0,\n",
    "    enable_checkpointing=True,\n",
    "    enable_model_summary=True,\n",
    "    enable_progress_bar=True,\n",
    "    fast_dev_run=False,\n",
    "    flush_logs_every_n_steps=None,\n",
    "    gpus=8,\n",
    "    gradient_clip_algorithm=None,\n",
    "    gradient_clip_val=None,\n",
    "    in_chans=1,\n",
    "    ipus=None,\n",
    "    limit_predict_batches=1.0,\n",
    "    limit_test_batches=1.0,\n",
    "    limit_train_batches=1.0,\n",
    "    limit_val_batches=1.0,\n",
    "    log_every_n_steps=50,\n",
    "    log_gpu_memory=None,\n",
    "    logger=True,\n",
    "    lr=0.001,\n",
    "    lr_gamma=0.1,\n",
    "    lr_step_size=40,\n",
    "    mask_type='random',  # Should be `random`, but tying out without\n",
    "    max_epochs=50,\n",
    "    max_steps=-1,\n",
    "    max_time=None,\n",
    "    min_epochs=None,\n",
    "    min_steps=None,\n",
    "    mode='train',\n",
    "    move_metrics_to_cpu=False,\n",
    "    multiple_trainloader_mode='max_size_cycle',\n",
    "    num_log_images=16,\n",
    "    num_nodes=1,\n",
    "    num_pool_layers=4,\n",
    "    num_processes=1,\n",
    "    num_sanity_val_steps=2,\n",
    "    num_workers=4,\n",
    "    out_chans=1,\n",
    "    overfit_batches=0.0,\n",
    "    plugins=None,\n",
    "    precision=32,\n",
    "    prepare_data_per_node=None,\n",
    "    process_position=0,\n",
    "    profiler=None,\n",
    "    progress_bar_refresh_rate=None,\n",
    "    reload_dataloaders_every_epoch=False,\n",
    "    reload_dataloaders_every_n_epochs=0,\n",
    "    replace_sampler_ddp=False,\n",
    "    resume_from_checkpoint=None,\n",
    "    sample_rate=None,\n",
    "    seed=42,\n",
    "    stochastic_weight_avg=False,\n",
    "    strategy='dp',  # This should be None\n",
    "    sync_batchnorm=False,\n",
    "    terminate_on_nan=None,\n",
    "    test_path=None,\n",
    "    test_sample_rate=None,\n",
    "    test_split='test',\n",
    "    test_volume_sample_rate=None,\n",
    "    tpu_cores=None,\n",
    "    track_grad_norm=-1,\n",
    "    use_dataset_cache_file=True,\n",
    "    val_check_interval=1.0,\n",
    "    val_sample_rate=None,\n",
    "    val_volume_sample_rate=None,\n",
    "    volume_sample_rate=None,\n",
    "    weight_decay=0.0,\n",
    "    weights_save_path=None,\n",
    "    weights_summary='top')"
   ]
  },
  {
   "cell_type": "code",
   "execution_count": 7,
   "id": "e2e456ad",
   "metadata": {},
   "outputs": [
    {
     "name": "stderr",
     "output_type": "stream",
     "text": [
      "Global seed set to 42\n",
      "/opt/conda/lib/python3.7/site-packages/pytorch_lightning/trainer/connectors/accelerator_connector.py:464: UserWarning: more than one device specific flag has been set\n",
      "  rank_zero_warn(\"more than one device specific flag has been set\")\n",
      "GPU available: True, used: True\n",
      "TPU available: False, using: 0 TPU cores\n",
      "IPU available: False, using: 0 IPUs\n",
      "HPU available: False, using: 0 HPUs\n",
      "`Trainer(limit_train_batches=1.0)` was configured so 100% of the batches per epoch will be used..\n",
      "`Trainer(limit_val_batches=1.0)` was configured so 100% of the batches will be used..\n",
      "`Trainer(limit_test_batches=1.0)` was configured so 100% of the batches will be used..\n",
      "`Trainer(limit_predict_batches=1.0)` was configured so 100% of the batches will be used..\n",
      "`Trainer(val_check_interval=1.0)` was configured so validation will run at the end of the training epoch..\n"
     ]
    }
   ],
   "source": [
    "pl.seed_everything(args.seed)\n",
    "\n",
    "# ------------\n",
    "# data\n",
    "# ------------\n",
    "# this creates a k-space mask for transforming input data\n",
    "mask = create_mask_for_mask_type(\n",
    "    args.mask_type, args.center_fractions, args.accelerations\n",
    ")\n",
    "\n",
    "mask = None\n",
    "\n",
    "# use random masks for train transform, fixed masks for val transform\n",
    "train_transform = UnetDataTransform(args.challenge, mask_func=mask, use_seed=False)\n",
    "val_transform = UnetDataTransform(args.challenge, mask_func=mask)\n",
    "test_transform = UnetDataTransform(args.challenge)\n",
    "# ptl data module - this handles data loaders\n",
    "data_module = FastMriDataModule(\n",
    "    data_path=args.data_path,\n",
    "    challenge=args.challenge,\n",
    "    train_transform=train_transform,\n",
    "    val_transform=val_transform,\n",
    "    test_transform=test_transform,\n",
    "    test_split=args.test_split,\n",
    "    test_path=args.test_path,\n",
    "    sample_rate=args.sample_rate,\n",
    "    batch_size=args.batch_size,\n",
    "    num_workers=args.num_workers,\n",
    "    distributed_sampler=(args.accelerator in (\"ddp\", \"ddp_cpu\")),\n",
    ")\n",
    "\n",
    "# ------------\n",
    "# model\n",
    "# ------------\n",
    "model = UnetModule(\n",
    "    in_chans=args.in_chans,\n",
    "    out_chans=args.out_chans,\n",
    "    chans=args.chans,\n",
    "    num_pool_layers=args.num_pool_layers,\n",
    "    drop_prob=args.drop_prob,\n",
    "    lr=args.lr,\n",
    "    lr_step_size=args.lr_step_size,\n",
    "    lr_gamma=args.lr_gamma,\n",
    "    weight_decay=args.weight_decay,\n",
    ")\n",
    "\n",
    "# ------------\n",
    "# trainer\n",
    "# ------------\n",
    "trainer = pl.Trainer.from_argparse_args(args)"
   ]
  },
  {
   "cell_type": "code",
   "execution_count": 8,
   "id": "06047612",
   "metadata": {},
   "outputs": [
    {
     "name": "stderr",
     "output_type": "stream",
     "text": [
      "LOCAL_RANK: 0 - CUDA_VISIBLE_DEVICES: [0,1,2,3,4,5,6,7]\n",
      "\n",
      "  | Name             | Type                 | Params\n",
      "----------------------------------------------------------\n",
      "0 | NMSE             | DistributedMetricSum | 0     \n",
      "1 | SSIM             | DistributedMetricSum | 0     \n",
      "2 | PSNR             | DistributedMetricSum | 0     \n",
      "3 | ValLoss          | DistributedMetricSum | 0     \n",
      "4 | TotExamples      | DistributedMetricSum | 0     \n",
      "5 | TotSliceExamples | DistributedMetricSum | 0     \n",
      "6 | unet             | Unet                 | 7.8 M \n",
      "----------------------------------------------------------\n",
      "7.8 M     Trainable params\n",
      "0         Non-trainable params\n",
      "7.8 M     Total params\n",
      "31.024    Total estimated model params size (MB)\n"
     ]
    },
    {
     "data": {
      "application/vnd.jupyter.widget-view+json": {
       "model_id": "",
       "version_major": 2,
       "version_minor": 0
      },
      "text/plain": [
       "Sanity Checking: 0it [00:00, ?it/s]"
      ]
     },
     "metadata": {},
     "output_type": "display_data"
    },
    {
     "data": {
      "application/vnd.jupyter.widget-view+json": {
       "model_id": "05358553b0364523b60183f77501de7a",
       "version_major": 2,
       "version_minor": 0
      },
      "text/plain": [
       "Training: 0it [00:00, ?it/s]"
      ]
     },
     "metadata": {},
     "output_type": "display_data"
    },
    {
     "data": {
      "application/vnd.jupyter.widget-view+json": {
       "model_id": "",
       "version_major": 2,
       "version_minor": 0
      },
      "text/plain": [
       "Validation: 0it [00:00, ?it/s]"
      ]
     },
     "metadata": {},
     "output_type": "display_data"
    },
    {
     "data": {
      "application/vnd.jupyter.widget-view+json": {
       "model_id": "",
       "version_major": 2,
       "version_minor": 0
      },
      "text/plain": [
       "Validation: 0it [00:00, ?it/s]"
      ]
     },
     "metadata": {},
     "output_type": "display_data"
    },
    {
     "data": {
      "application/vnd.jupyter.widget-view+json": {
       "model_id": "",
       "version_major": 2,
       "version_minor": 0
      },
      "text/plain": [
       "Validation: 0it [00:00, ?it/s]"
      ]
     },
     "metadata": {},
     "output_type": "display_data"
    },
    {
     "data": {
      "application/vnd.jupyter.widget-view+json": {
       "model_id": "",
       "version_major": 2,
       "version_minor": 0
      },
      "text/plain": [
       "Validation: 0it [00:00, ?it/s]"
      ]
     },
     "metadata": {},
     "output_type": "display_data"
    },
    {
     "data": {
      "application/vnd.jupyter.widget-view+json": {
       "model_id": "",
       "version_major": 2,
       "version_minor": 0
      },
      "text/plain": [
       "Validation: 0it [00:00, ?it/s]"
      ]
     },
     "metadata": {},
     "output_type": "display_data"
    },
    {
     "data": {
      "application/vnd.jupyter.widget-view+json": {
       "model_id": "",
       "version_major": 2,
       "version_minor": 0
      },
      "text/plain": [
       "Validation: 0it [00:00, ?it/s]"
      ]
     },
     "metadata": {},
     "output_type": "display_data"
    },
    {
     "data": {
      "application/vnd.jupyter.widget-view+json": {
       "model_id": "",
       "version_major": 2,
       "version_minor": 0
      },
      "text/plain": [
       "Validation: 0it [00:00, ?it/s]"
      ]
     },
     "metadata": {},
     "output_type": "display_data"
    },
    {
     "data": {
      "application/vnd.jupyter.widget-view+json": {
       "model_id": "",
       "version_major": 2,
       "version_minor": 0
      },
      "text/plain": [
       "Validation: 0it [00:00, ?it/s]"
      ]
     },
     "metadata": {},
     "output_type": "display_data"
    },
    {
     "data": {
      "application/vnd.jupyter.widget-view+json": {
       "model_id": "",
       "version_major": 2,
       "version_minor": 0
      },
      "text/plain": [
       "Validation: 0it [00:00, ?it/s]"
      ]
     },
     "metadata": {},
     "output_type": "display_data"
    },
    {
     "data": {
      "application/vnd.jupyter.widget-view+json": {
       "model_id": "",
       "version_major": 2,
       "version_minor": 0
      },
      "text/plain": [
       "Validation: 0it [00:00, ?it/s]"
      ]
     },
     "metadata": {},
     "output_type": "display_data"
    },
    {
     "data": {
      "application/vnd.jupyter.widget-view+json": {
       "model_id": "",
       "version_major": 2,
       "version_minor": 0
      },
      "text/plain": [
       "Validation: 0it [00:00, ?it/s]"
      ]
     },
     "metadata": {},
     "output_type": "display_data"
    },
    {
     "data": {
      "application/vnd.jupyter.widget-view+json": {
       "model_id": "",
       "version_major": 2,
       "version_minor": 0
      },
      "text/plain": [
       "Validation: 0it [00:00, ?it/s]"
      ]
     },
     "metadata": {},
     "output_type": "display_data"
    },
    {
     "data": {
      "application/vnd.jupyter.widget-view+json": {
       "model_id": "",
       "version_major": 2,
       "version_minor": 0
      },
      "text/plain": [
       "Validation: 0it [00:00, ?it/s]"
      ]
     },
     "metadata": {},
     "output_type": "display_data"
    },
    {
     "data": {
      "application/vnd.jupyter.widget-view+json": {
       "model_id": "",
       "version_major": 2,
       "version_minor": 0
      },
      "text/plain": [
       "Validation: 0it [00:00, ?it/s]"
      ]
     },
     "metadata": {},
     "output_type": "display_data"
    },
    {
     "data": {
      "application/vnd.jupyter.widget-view+json": {
       "model_id": "",
       "version_major": 2,
       "version_minor": 0
      },
      "text/plain": [
       "Validation: 0it [00:00, ?it/s]"
      ]
     },
     "metadata": {},
     "output_type": "display_data"
    },
    {
     "data": {
      "application/vnd.jupyter.widget-view+json": {
       "model_id": "",
       "version_major": 2,
       "version_minor": 0
      },
      "text/plain": [
       "Validation: 0it [00:00, ?it/s]"
      ]
     },
     "metadata": {},
     "output_type": "display_data"
    },
    {
     "data": {
      "application/vnd.jupyter.widget-view+json": {
       "model_id": "",
       "version_major": 2,
       "version_minor": 0
      },
      "text/plain": [
       "Validation: 0it [00:00, ?it/s]"
      ]
     },
     "metadata": {},
     "output_type": "display_data"
    },
    {
     "name": "stderr",
     "output_type": "stream",
     "text": [
      "/opt/conda/lib/python3.7/site-packages/pytorch_lightning/trainer/trainer.py:724: UserWarning: Detected KeyboardInterrupt, attempting graceful shutdown...\n",
      "  rank_zero_warn(\"Detected KeyboardInterrupt, attempting graceful shutdown...\")\n"
     ]
    }
   ],
   "source": [
    "trainer.fit(model, datamodule=data_module)"
   ]
  },
  {
   "cell_type": "code",
   "execution_count": null,
   "id": "204304b8",
   "metadata": {},
   "outputs": [],
   "source": []
  }
 ],
 "metadata": {
  "kernelspec": {
   "display_name": "Python 3 (ipykernel)",
   "language": "python",
   "name": "python3"
  },
  "language_info": {
   "codemirror_mode": {
    "name": "ipython",
    "version": 3
   },
   "file_extension": ".py",
   "mimetype": "text/x-python",
   "name": "python",
   "nbconvert_exporter": "python",
   "pygments_lexer": "ipython3",
   "version": "3.7.12"
  }
 },
 "nbformat": 4,
 "nbformat_minor": 5
}
