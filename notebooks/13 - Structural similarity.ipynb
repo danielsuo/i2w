{
 "cells": [
  {
   "cell_type": "code",
   "execution_count": 1,
   "id": "0353a9e8",
   "metadata": {},
   "outputs": [],
   "source": [
    "import numpy as np\n",
    "from skimage.metrics import structural_similarity as ssim\n",
    "import scipy\n",
    "import functools\n",
    "\n",
    "import jax\n",
    "import jax.numpy as jnp\n",
    "import jax.scipy as jsp"
   ]
  },
  {
   "cell_type": "code",
   "execution_count": 2,
   "id": "0f4500bf",
   "metadata": {},
   "outputs": [],
   "source": [
    "def uniform_filter(im, size=7):\n",
    "    conv = lambda x: jnp.convolve(jnp.pad(x, pad_width=size//2, mode='symmetric'), jnp.ones(size), mode='valid') / size\n",
    "    im = jax.vmap(conv, (0,))(im)\n",
    "    im = jax.vmap(conv, (1,))(im)\n",
    "    return im.T"
   ]
  },
  {
   "cell_type": "code",
   "execution_count": 3,
   "id": "80243873",
   "metadata": {},
   "outputs": [],
   "source": [
    "def structural_similarity(im1,\n",
    "                          im2,\n",
    "                          data_range=1.0,\n",
    "                          win_size=7,\n",
    "                          k1=0.01,\n",
    "                          k2=0.03):\n",
    "    \"\"\"Compute the mean structural similarity index between two images.\n",
    "\n",
    "    NOTE(dsuo): modified from skimage.metrics.structural_similarity.\n",
    "\n",
    "    Args:\n",
    "    im1: ndarray Images. Any dimensionality with same shape.\n",
    "    im2: ndarray Images. Any dimensionality with same shape.\n",
    "    data_range: float. The data range of the input image (distance\n",
    "      between minimum and maximum possible values). By default, this is\n",
    "    win_size: int or None. The side-length of the sliding window used\n",
    "      in comparison. Must be an odd value. If `gaussian_weights` is True, this\n",
    "      is ignored and the window size will depend on `sigma`.\n",
    "      estimated from the image data-type.\n",
    "    k1: float. Algorithm parameter K1 (see [1]).\n",
    "    k2: float. Algorithm parameter K2 (see [2]).\n",
    "\n",
    "    Returns:\n",
    "    mssim: float\n",
    "        The mean structural similarity index over the image.\n",
    "\n",
    "    References\n",
    "    [1] Wang, Z., Bovik, A. C., Sheikh, H. R., & Simoncelli, E. P.\n",
    "      (2004). Image quality assessment: From error visibility to\n",
    "      structural similarity. IEEE Transactions on Image Processing,\n",
    "      13, 600-612.\n",
    "      https://ece.uwaterloo.ca/~z70wang/publications/ssim.pdf,\n",
    "      :DOI:`10.1109/TIP.2003.819861`\n",
    "    \"\"\"\n",
    "    filter_func = functools.partial(uniform_filter, size=win_size)\n",
    "\n",
    "    num_points = win_size ** len(im1.shape)\n",
    "\n",
    "    # filter has already normalized by num_points\n",
    "    cov_norm = num_points / (num_points - 1)  # sample covariance\n",
    "\n",
    "    # compute (weighted) means\n",
    "    ux = filter_func(im1)\n",
    "    uy = filter_func(im2)\n",
    "\n",
    "    # compute (weighted) variances and covariances\n",
    "    uxx = filter_func(im1 * im1)\n",
    "    uyy = filter_func(im2 * im2)\n",
    "    uxy = filter_func(im1 * im2)\n",
    "    vx = cov_norm * (uxx - ux * ux)\n",
    "    vy = cov_norm * (uyy - uy * uy)\n",
    "    vxy = cov_norm * (uxy - ux * uy)\n",
    "\n",
    "    c1 = (k1 * data_range) ** 2\n",
    "    c2 = (k2 * data_range) ** 2\n",
    "\n",
    "    a1 = 2 * ux * uy + c1\n",
    "    a2 = 2 * vxy + c2\n",
    "    b1 = ux ** 2 + uy ** 2 + c1\n",
    "    b2 = vx + vy + c2\n",
    "\n",
    "    d = b1 * b2\n",
    "    s = (a1 * a2) / d\n",
    "\n",
    "    # to avoid edge effects will ignore filter radius strip around edges\n",
    "    pad = (win_size - 1) // 2\n",
    "\n",
    "    # compute (weighted) mean of ssim.\n",
    "    return jnp.mean(s.at[pad:-pad, pad:-pad].get())"
   ]
  },
  {
   "cell_type": "code",
   "execution_count": 4,
   "id": "60ad8aa3",
   "metadata": {},
   "outputs": [],
   "source": [
    "im1 = np.random.uniform(size=(10, 10))\n",
    "im2 = np.random.uniform(size=(10, 10))"
   ]
  },
  {
   "cell_type": "code",
   "execution_count": 5,
   "id": "94eb440f",
   "metadata": {},
   "outputs": [
    {
     "data": {
      "text/plain": [
       "DeviceArray(0.12685718, dtype=float32)"
      ]
     },
     "execution_count": 5,
     "metadata": {},
     "output_type": "execute_result"
    }
   ],
   "source": [
    "structural_similarity(jnp.array(im1), jnp.array(im2), data_range=1.0)"
   ]
  },
  {
   "cell_type": "code",
   "execution_count": 6,
   "id": "eef304d1",
   "metadata": {},
   "outputs": [
    {
     "data": {
      "text/plain": [
       "0.12685720939286826"
      ]
     },
     "execution_count": 6,
     "metadata": {},
     "output_type": "execute_result"
    }
   ],
   "source": [
    "ssim(im1, im2, data_range=1.0)"
   ]
  }
 ],
 "metadata": {
  "kernelspec": {
   "display_name": "Python 3 (ipykernel)",
   "language": "python",
   "name": "python3"
  },
  "language_info": {
   "codemirror_mode": {
    "name": "ipython",
    "version": 3
   },
   "file_extension": ".py",
   "mimetype": "text/x-python",
   "name": "python",
   "nbconvert_exporter": "python",
   "pygments_lexer": "ipython3",
   "version": "3.7.12"
  }
 },
 "nbformat": 4,
 "nbformat_minor": 5
}
