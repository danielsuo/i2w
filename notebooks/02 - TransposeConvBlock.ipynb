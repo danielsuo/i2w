{
 "cells": [
  {
   "cell_type": "code",
   "execution_count": 1,
   "id": "6db6a05a",
   "metadata": {},
   "outputs": [
    {
     "data": {
      "text/plain": [
       "[GpuDevice(id=0, process_index=0),\n",
       " GpuDevice(id=1, process_index=0),\n",
       " GpuDevice(id=2, process_index=0),\n",
       " GpuDevice(id=3, process_index=0),\n",
       " GpuDevice(id=4, process_index=0),\n",
       " GpuDevice(id=5, process_index=0),\n",
       " GpuDevice(id=6, process_index=0),\n",
       " GpuDevice(id=7, process_index=0)]"
      ]
     },
     "execution_count": 1,
     "metadata": {},
     "output_type": "execute_result"
    }
   ],
   "source": [
    "%load_ext autoreload\n",
    "%autoreload 2\n",
    "\n",
    "import pathlib\n",
    "import os\n",
    "\n",
    "import flax\n",
    "from flax import jax_utils\n",
    "import jax\n",
    "import jax.numpy as jnp\n",
    "import numpy as np\n",
    "import optax\n",
    "import torch\n",
    "import tensorflow as tf\n",
    "import tqdm\n",
    "\n",
    "import init2winit\n",
    "import fastmri\n",
    "\n",
    "import i2w\n",
    "\n",
    "from fastmri.models import unet as t_unet\n",
    "from fastmri.pl_modules import data_module\n",
    "from fastmri.pl_modules import unet_module\n",
    "from fastmri.data.transforms import UnetDataTransform\n",
    "from fastmri.data.subsample import create_mask_for_mask_type\n",
    "\n",
    "from init2winit.model_lib import unet as f_unet\n",
    "from init2winit.dataset_lib import fastmri_dataset\n",
    "from init2winit.dataset_lib import data_utils\n",
    "from init2winit.optimizer_lib import optimizers\n",
    "\n",
    "jax.devices()"
   ]
  },
  {
   "cell_type": "markdown",
   "id": "a0763a57",
   "metadata": {},
   "source": [
    "# TransposeConvBlock"
   ]
  },
  {
   "cell_type": "code",
   "execution_count": 2,
   "id": "9a193963",
   "metadata": {},
   "outputs": [],
   "source": [
    "t_data = np.random.uniform(size=(8, 1, 320, 320))\n",
    "f_data = np.transpose(t_data, axes=(0, 2, 3, 1))"
   ]
  },
  {
   "cell_type": "markdown",
   "id": "065fd19c",
   "metadata": {},
   "source": [
    "## `fastmri`"
   ]
  },
  {
   "cell_type": "code",
   "execution_count": 3,
   "id": "8ab77242",
   "metadata": {},
   "outputs": [
    {
     "name": "stdout",
     "output_type": "stream",
     "text": [
      "layers.0.weight (1, 1, 2, 2)\n"
     ]
    }
   ],
   "source": [
    "t_block = t_unet.TransposeConvBlock(in_chans=1, out_chans=1)\n",
    "t_out = t_block(torch.Tensor(t_data)).detach().numpy()\n",
    "\n",
    "for name, param in t_block.named_parameters():\n",
    "     print(name, param.data.numpy().shape)\n",
    "        \n",
    "t_params = list(t_block.parameters())"
   ]
  },
  {
   "cell_type": "markdown",
   "id": "10395837",
   "metadata": {},
   "source": [
    "## `init2winit`"
   ]
  },
  {
   "cell_type": "code",
   "execution_count": 4,
   "id": "64845d5a",
   "metadata": {},
   "outputs": [],
   "source": [
    "f_block = f_unet.TransposeConvBlock(out_chans=1)\n",
    "f_block_params = f_block.init(jax.random.PRNGKey(0), f_data)\n",
    "\n",
    "f_block_params = flax.core.unfreeze(f_block_params)\n",
    "p = jnp.array(np.transpose(t_params[0].detach().numpy(), axes = (2, 3, 0, 1)))\n",
    "f_block_params['params']['ConvTranspose_0']['kernel'] = jnp.flip(p, axis=(0, 1))\n",
    "\n",
    "f_out = np.array(f_block.apply(f_block_params, f_data).transpose((0, 3, 1, 2)))"
   ]
  },
  {
   "cell_type": "markdown",
   "id": "748b7ecb",
   "metadata": {},
   "source": [
    "## Compared"
   ]
  },
  {
   "cell_type": "code",
   "execution_count": 5,
   "id": "f6145ff9",
   "metadata": {},
   "outputs": [
    {
     "data": {
      "text/plain": [
       "3.6069867e-08"
      ]
     },
     "execution_count": 5,
     "metadata": {},
     "output_type": "execute_result"
    }
   ],
   "source": [
    "np.mean(np.abs(t_out - f_out))"
   ]
  }
 ],
 "metadata": {
  "kernelspec": {
   "display_name": "Python 3 (ipykernel)",
   "language": "python",
   "name": "python3"
  },
  "language_info": {
   "codemirror_mode": {
    "name": "ipython",
    "version": 3
   },
   "file_extension": ".py",
   "mimetype": "text/x-python",
   "name": "python",
   "nbconvert_exporter": "python",
   "pygments_lexer": "ipython3",
   "version": "3.7.12"
  }
 },
 "nbformat": 4,
 "nbformat_minor": 5
}
