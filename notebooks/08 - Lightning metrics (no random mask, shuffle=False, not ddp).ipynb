{
 "cells": [
  {
   "cell_type": "code",
   "execution_count": 1,
   "id": "6db6a05a",
   "metadata": {},
   "outputs": [
    {
     "name": "stdout",
     "output_type": "stream",
     "text": [
      "Extension horovod.torch has not been built: /opt/conda/lib/python3.7/site-packages/horovod/torch/mpi_lib/_mpi_lib.cpython-37m-x86_64-linux-gnu.so not found\n",
      "If this is not expected, reinstall Horovod with HOROVOD_WITH_PYTORCH=1 to debug the build error.\n",
      "Warning! MPI libs are missing, but python applications are still avaiable.\n"
     ]
    },
    {
     "data": {
      "text/plain": [
       "[CpuDevice(id=0)]"
      ]
     },
     "execution_count": 1,
     "metadata": {},
     "output_type": "execute_result"
    }
   ],
   "source": [
    "%load_ext autoreload\n",
    "%autoreload 2\n",
    "\n",
    "import functools\n",
    "import inspect\n",
    "import pathlib\n",
    "import os\n",
    "\n",
    "import argparse\n",
    "import flax\n",
    "from flax import jax_utils\n",
    "import jax\n",
    "import jax.numpy as jnp\n",
    "import matplotlib.pyplot as plt\n",
    "import numpy as np\n",
    "import optax\n",
    "import torch\n",
    "import tensorflow as tf\n",
    "import tqdm\n",
    "\n",
    "import init2winit\n",
    "import fastmri\n",
    "\n",
    "import i2w\n",
    "\n",
    "import pytorch_lightning as pl\n",
    "from pytorch_lightning import strategies\n",
    "from pytorch_lightning.trainer.states import RunningStage, TrainerFn, TrainerState, TrainerStatus\n",
    "\n",
    "from fastmri.models import unet as t_unet\n",
    "from fastmri.pl_modules import data_module\n",
    "from fastmri.pl_modules import unet_module\n",
    "from fastmri.data.transforms import UnetDataTransform\n",
    "from fastmri.data.subsample import create_mask_for_mask_type\n",
    "from fastmri_examples.unet import train_unet_demo\n",
    "\n",
    "from init2winit.model_lib import unet as f_unet\n",
    "from init2winit.dataset_lib import fastmri_dataset\n",
    "from init2winit.dataset_lib import data_utils\n",
    "from init2winit.optimizer_lib import optimizers\n",
    "from init2winit.optimizer_lib import transform\n",
    "\n",
    "jax.devices()"
   ]
  },
  {
   "cell_type": "markdown",
   "id": "a0763a57",
   "metadata": {},
   "source": [
    "# Train step with lightning"
   ]
  },
  {
   "cell_type": "code",
   "execution_count": 2,
   "id": "ac608a26",
   "metadata": {},
   "outputs": [],
   "source": [
    "# Grabbed from `train_unet_demo.build_args()`.\n",
    "\n",
    "args = argparse.Namespace(\n",
    "    accelerations=[4],\n",
    "    accelerator='gpu',  # Should be `ddp`, but not available in interactive mode\n",
    "    accumulate_grad_batches=None,\n",
    "    amp_backend='native',\n",
    "    amp_level=None,\n",
    "    auto_lr_find=False,\n",
    "    auto_scale_batch_size=False,\n",
    "    auto_select_gpus=False,\n",
    "    batch_size=8,\n",
    "    benchmark=False,\n",
    "#     callbacks=[<pytorch_lightning.callbacks.model_checkpoint.ModelCheckpoint object at 0x7f409795e090>],\n",
    "    center_fractions=[0.08],\n",
    "    challenge='singlecoil',\n",
    "    chans=32,\n",
    "    check_val_every_n_epoch=1,\n",
    "    checkpoint_callback=None,\n",
    "    combine_train_val=False,\n",
    "    data_path=pathlib.PosixPath('/home/dsuo'),\n",
    "    default_root_dir=pathlib.PosixPath('unet/unet_demo'),\n",
    "    detect_anomaly=False, deterministic=True,\n",
    "    devices=None, drop_prob=0.0,\n",
    "    enable_checkpointing=True,\n",
    "    enable_model_summary=True,\n",
    "    enable_progress_bar=True,\n",
    "    fast_dev_run=False,\n",
    "    flush_logs_every_n_steps=None,\n",
    "    gpus=8,\n",
    "    gradient_clip_algorithm=None,\n",
    "    gradient_clip_val=None,\n",
    "    in_chans=1,\n",
    "    ipus=None,\n",
    "    limit_predict_batches=1.0,\n",
    "    limit_test_batches=1.0,\n",
    "    limit_train_batches=1.0,\n",
    "    limit_val_batches=1.0,\n",
    "    log_every_n_steps=50,\n",
    "    log_gpu_memory=None,\n",
    "    logger=True,\n",
    "    lr=0.001,\n",
    "    lr_gamma=0.1,\n",
    "    lr_step_size=40,\n",
    "    mask_type=None,  # Should be `random`, but tying out without\n",
    "    max_epochs=50,\n",
    "    max_steps=-1,\n",
    "    max_time=None,\n",
    "    min_epochs=None,\n",
    "    min_steps=None,\n",
    "    mode='train',\n",
    "    move_metrics_to_cpu=False,\n",
    "    multiple_trainloader_mode='max_size_cycle',\n",
    "    num_log_images=16,\n",
    "    num_nodes=1,\n",
    "    num_pool_layers=4,\n",
    "    num_processes=1,\n",
    "    num_sanity_val_steps=2,\n",
    "    num_workers=4,\n",
    "    out_chans=1,\n",
    "    overfit_batches=0.0,\n",
    "    plugins=None,\n",
    "    precision=32,\n",
    "    prepare_data_per_node=None,\n",
    "    process_position=0,\n",
    "    profiler=None,\n",
    "    progress_bar_refresh_rate=None,\n",
    "    reload_dataloaders_every_epoch=False,\n",
    "    reload_dataloaders_every_n_epochs=0,\n",
    "    replace_sampler_ddp=False,\n",
    "    resume_from_checkpoint=None,\n",
    "    sample_rate=None,\n",
    "    seed=42,\n",
    "    stochastic_weight_avg=False,\n",
    "    strategy='dp',  # This should be None\n",
    "    sync_batchnorm=False,\n",
    "    terminate_on_nan=None,\n",
    "    test_path=None,\n",
    "    test_sample_rate=None,\n",
    "    test_split='test',\n",
    "    test_volume_sample_rate=None,\n",
    "    tpu_cores=None,\n",
    "    track_grad_norm=-1,\n",
    "    use_dataset_cache_file=True,\n",
    "    val_check_interval=1.0,\n",
    "    val_sample_rate=None,\n",
    "    val_volume_sample_rate=None,\n",
    "    volume_sample_rate=None,\n",
    "    weight_decay=0.0,\n",
    "    weights_save_path=None,\n",
    "    weights_summary='top')"
   ]
  },
  {
   "cell_type": "code",
   "execution_count": 3,
   "id": "e2e456ad",
   "metadata": {},
   "outputs": [],
   "source": [
    "train_transform = UnetDataTransform(args.challenge, mask_func=args.mask_type, use_seed=False)\n",
    "val_transform = UnetDataTransform(args.challenge, mask_func=args.mask_type)\n",
    "test_transform = UnetDataTransform(args.challenge)\n",
    "\n",
    "dm = data_module.FastMriDataModule(\n",
    "        data_path=args.data_path,\n",
    "        challenge=args.challenge,\n",
    "        train_transform=train_transform,\n",
    "        val_transform=val_transform,\n",
    "        test_transform=test_transform,\n",
    "        test_split=args.test_split,\n",
    "        test_path=args.test_path,\n",
    "        sample_rate=args.sample_rate,\n",
    "        batch_size=args.batch_size,\n",
    "        num_workers=args.num_workers,\n",
    "        distributed_sampler=(args.accelerator in (\"ddp\", \"ddp_cpu\")),\n",
    "    )"
   ]
  },
  {
   "cell_type": "markdown",
   "id": "065fd19c",
   "metadata": {},
   "source": [
    "## `fastmri`"
   ]
  },
  {
   "cell_type": "code",
   "execution_count": 4,
   "id": "01a74ebb",
   "metadata": {},
   "outputs": [],
   "source": [
    "t_model = unet_module.UnetModule()"
   ]
  },
  {
   "cell_type": "markdown",
   "id": "62e2c93f",
   "metadata": {},
   "source": [
    "## Comparison"
   ]
  },
  {
   "cell_type": "code",
   "execution_count": 5,
   "id": "9cef9571",
   "metadata": {
    "scrolled": false
   },
   "outputs": [
    {
     "name": "stderr",
     "output_type": "stream",
     "text": [
      "/opt/conda/lib/python3.7/site-packages/pytorch_lightning/trainer/connectors/accelerator_connector.py:464: UserWarning: more than one device specific flag has been set\n",
      "  rank_zero_warn(\"more than one device specific flag has been set\")\n",
      "GPU available: True, used: True\n",
      "TPU available: False, using: 0 TPU cores\n",
      "IPU available: False, using: 0 IPUs\n",
      "HPU available: False, using: 0 HPUs\n",
      "`Trainer(limit_train_batches=1.0)` was configured so 100% of the batches per epoch will be used..\n",
      "`Trainer(limit_val_batches=1.0)` was configured so 100% of the batches will be used..\n",
      "`Trainer(limit_test_batches=1.0)` was configured so 100% of the batches will be used..\n",
      "`Trainer(limit_predict_batches=1.0)` was configured so 100% of the batches will be used..\n",
      "`Trainer(val_check_interval=1.0)` was configured so validation will run at the end of the training epoch..\n",
      "LOCAL_RANK: 0 - CUDA_VISIBLE_DEVICES: [0,1,2,3,4,5,6,7]\n",
      "\n",
      "  | Name             | Type                 | Params\n",
      "----------------------------------------------------------\n",
      "0 | NMSE             | DistributedMetricSum | 0     \n",
      "1 | SSIM             | DistributedMetricSum | 0     \n",
      "2 | PSNR             | DistributedMetricSum | 0     \n",
      "3 | ValLoss          | DistributedMetricSum | 0     \n",
      "4 | TotExamples      | DistributedMetricSum | 0     \n",
      "5 | TotSliceExamples | DistributedMetricSum | 0     \n",
      "6 | unet             | Unet                 | 7.8 M \n",
      "----------------------------------------------------------\n",
      "7.8 M     Trainable params\n",
      "0         Non-trainable params\n",
      "7.8 M     Total params\n",
      "31.024    Total estimated model params size (MB)\n"
     ]
    },
    {
     "data": {
      "application/vnd.jupyter.widget-view+json": {
       "model_id": "",
       "version_major": 2,
       "version_minor": 0
      },
      "text/plain": [
       "Sanity Checking: 0it [00:00, ?it/s]"
      ]
     },
     "metadata": {},
     "output_type": "display_data"
    },
    {
     "data": {
      "application/vnd.jupyter.widget-view+json": {
       "model_id": "799664f3eb5a497ea62b58207f10e659",
       "version_major": 2,
       "version_minor": 0
      },
      "text/plain": [
       "Training: 0it [00:00, ?it/s]"
      ]
     },
     "metadata": {},
     "output_type": "display_data"
    },
    {
     "data": {
      "application/vnd.jupyter.widget-view+json": {
       "model_id": "",
       "version_major": 2,
       "version_minor": 0
      },
      "text/plain": [
       "Validation: 0it [00:00, ?it/s]"
      ]
     },
     "metadata": {},
     "output_type": "display_data"
    },
    {
     "name": "stderr",
     "output_type": "stream",
     "text": [
      "/opt/conda/lib/python3.7/site-packages/pytorch_lightning/trainer/trainer.py:724: UserWarning: Detected KeyboardInterrupt, attempting graceful shutdown...\n",
      "  rank_zero_warn(\"Detected KeyboardInterrupt, attempting graceful shutdown...\")\n"
     ]
    }
   ],
   "source": [
    "trainer = pl.Trainer.from_argparse_args(args)\n",
    "trainer.fit(t_model, datamodule=dm)"
   ]
  },
  {
   "cell_type": "code",
   "execution_count": 6,
   "id": "376249b6",
   "metadata": {},
   "outputs": [
    {
     "ename": "NameError",
     "evalue": "name 'data' is not defined",
     "output_type": "error",
     "traceback": [
      "\u001b[0;31m---------------------------------------------------------------------------\u001b[0m",
      "\u001b[0;31mNameError\u001b[0m                                 Traceback (most recent call last)",
      "\u001b[0;32m/tmp/ipykernel_95702/938829050.py\u001b[0m in \u001b[0;36m<module>\u001b[0;34m\u001b[0m\n\u001b[0;32m----> 1\u001b[0;31m \u001b[0mplt\u001b[0m\u001b[0;34m.\u001b[0m\u001b[0mplot\u001b[0m\u001b[0;34m(\u001b[0m\u001b[0mnp\u001b[0m\u001b[0;34m.\u001b[0m\u001b[0marray\u001b[0m\u001b[0;34m(\u001b[0m\u001b[0mdata\u001b[0m\u001b[0;34m)\u001b[0m\u001b[0;34m)\u001b[0m\u001b[0;34m\u001b[0m\u001b[0;34m\u001b[0m\u001b[0m\n\u001b[0m",
      "\u001b[0;31mNameError\u001b[0m: name 'data' is not defined"
     ]
    }
   ],
   "source": [
    "plt.plot(np.array(data))"
   ]
  },
  {
   "cell_type": "markdown",
   "id": "2bc394fd",
   "metadata": {},
   "source": [
    "# Notes\n",
    "After Epoch 0:\n",
    "- We see train/valid loss of 0.012/0.026 in this notebook (widget gets deleted)\n",
    "- We see train/valid loss of 0.258/0.300 with `python train_unet_demo.py --challenge singlecoil --mask_type random`\n",
    "- We see train/valid loss of 0.197/0.318 with `python train_unet_demo.py --challenge singlecoil --mask_type random --accelerator gpu --batch-size 8`"
   ]
  },
  {
   "cell_type": "code",
   "execution_count": null,
   "id": "2d510aab",
   "metadata": {},
   "outputs": [],
   "source": []
  }
 ],
 "metadata": {
  "kernelspec": {
   "display_name": "Python 3 (ipykernel)",
   "language": "python",
   "name": "python3"
  },
  "language_info": {
   "codemirror_mode": {
    "name": "ipython",
    "version": 3
   },
   "file_extension": ".py",
   "mimetype": "text/x-python",
   "name": "python",
   "nbconvert_exporter": "python",
   "pygments_lexer": "ipython3",
   "version": "3.7.12"
  },
  "widgets": {
   "application/vnd.jupyter.widget-state+json": {
    "state": {
     "0260d60eba4147c89b6151bb19b7023e": {
      "model_module": "@jupyter-widgets/controls",
      "model_module_version": "1.5.0",
      "model_name": "ProgressStyleModel",
      "state": {
       "description_width": ""
      }
     },
     "237b07c574cb4230ba64c78e9068aa97": {
      "model_module": "@jupyter-widgets/controls",
      "model_module_version": "1.5.0",
      "model_name": "HTMLModel",
      "state": {
       "layout": "IPY_MODEL_9ec8fe42e5d24c50b6d15336ecc50223",
       "style": "IPY_MODEL_89275cef0fde42ea8fb437bd7ba278ba",
       "value": " 2/2 [00:00&lt;00:00,  6.30it/s]"
      }
     },
     "2d6fd03b51ef473e80e73cc92aa1c64e": {
      "model_module": "@jupyter-widgets/base",
      "model_module_version": "1.2.0",
      "model_name": "LayoutModel",
      "state": {
       "display": "inline-flex",
       "flex_flow": "row wrap",
       "width": "100%"
      }
     },
     "3c76039d60e74f8eb6549a561e73ed92": {
      "model_module": "@jupyter-widgets/base",
      "model_module_version": "1.2.0",
      "model_name": "LayoutModel",
      "state": {
       "flex": "2"
      }
     },
     "459827c2a9e443cbb068eac76114d960": {
      "model_module": "@jupyter-widgets/base",
      "model_module_version": "1.2.0",
      "model_name": "LayoutModel",
      "state": {
       "display": "inline-flex",
       "flex_flow": "row wrap",
       "width": "100%"
      }
     },
     "45d85541c771483aa9159ed0560ade84": {
      "model_module": "@jupyter-widgets/base",
      "model_module_version": "1.2.0",
      "model_name": "LayoutModel",
      "state": {}
     },
     "56ffc98570bb4e3eafea049c8af4c59b": {
      "model_module": "@jupyter-widgets/base",
      "model_module_version": "1.2.0",
      "model_name": "LayoutModel",
      "state": {}
     },
     "58cd4c3220544a4da05cef93586e36da": {
      "model_module": "@jupyter-widgets/base",
      "model_module_version": "1.2.0",
      "model_name": "LayoutModel",
      "state": {
       "flex": "2"
      }
     },
     "5e116b387ce9495687543dfa1b10654e": {
      "model_module": "@jupyter-widgets/base",
      "model_module_version": "1.2.0",
      "model_name": "LayoutModel",
      "state": {
       "display": "inline-flex",
       "flex_flow": "row wrap",
       "width": "100%"
      }
     },
     "62ddad25b7fa4968b6bc86456c1d4950": {
      "model_module": "@jupyter-widgets/base",
      "model_module_version": "1.2.0",
      "model_name": "LayoutModel",
      "state": {}
     },
     "6b2b4696d4724f1fb4437fc5dac1f7ee": {
      "model_module": "@jupyter-widgets/controls",
      "model_module_version": "1.5.0",
      "model_name": "FloatProgressModel",
      "state": {
       "layout": "IPY_MODEL_3c76039d60e74f8eb6549a561e73ed92",
       "max": 5235,
       "style": "IPY_MODEL_0260d60eba4147c89b6151bb19b7023e",
       "value": 22
      }
     },
     "6c6f927eeb4a4082b764a11c88ba9132": {
      "model_module": "@jupyter-widgets/controls",
      "model_module_version": "1.5.0",
      "model_name": "HTMLModel",
      "state": {
       "layout": "IPY_MODEL_62ddad25b7fa4968b6bc86456c1d4950",
       "style": "IPY_MODEL_f304c19f963a40c784881b6071bbd082",
       "value": "Sanity Checking DataLoader 0: 100%"
      }
     },
     "6ce7667b14014fe6b8a51d3e32af872f": {
      "model_module": "@jupyter-widgets/controls",
      "model_module_version": "1.5.0",
      "model_name": "ProgressStyleModel",
      "state": {
       "description_width": ""
      }
     },
     "72b9c25fc9434b7caed471abba341003": {
      "model_module": "@jupyter-widgets/controls",
      "model_module_version": "1.5.0",
      "model_name": "DescriptionStyleModel",
      "state": {
       "description_width": ""
      }
     },
     "799664f3eb5a497ea62b58207f10e659": {
      "model_module": "@jupyter-widgets/controls",
      "model_module_version": "1.5.0",
      "model_name": "HBoxModel",
      "state": {
       "children": [
        "IPY_MODEL_ff3beee7033745a281960d61a0c96205",
        "IPY_MODEL_6b2b4696d4724f1fb4437fc5dac1f7ee",
        "IPY_MODEL_c15ec3d598f6474ca69340e65b5c5f3c"
       ],
       "layout": "IPY_MODEL_2d6fd03b51ef473e80e73cc92aa1c64e"
      }
     },
     "7b1eec6d6cdc4b12aaf8da933f6ed650": {
      "model_module": "@jupyter-widgets/controls",
      "model_module_version": "1.5.0",
      "model_name": "DescriptionStyleModel",
      "state": {
       "description_width": ""
      }
     },
     "89275cef0fde42ea8fb437bd7ba278ba": {
      "model_module": "@jupyter-widgets/controls",
      "model_module_version": "1.5.0",
      "model_name": "DescriptionStyleModel",
      "state": {
       "description_width": ""
      }
     },
     "8e5f660f2d1442d7bf86f452429c0648": {
      "model_module": "@jupyter-widgets/base",
      "model_module_version": "1.2.0",
      "model_name": "LayoutModel",
      "state": {
       "flex": "2"
      }
     },
     "9cf6669f4b93477da2d5f9a6ef00ffe6": {
      "model_module": "@jupyter-widgets/controls",
      "model_module_version": "1.5.0",
      "model_name": "HTMLModel",
      "state": {
       "layout": "IPY_MODEL_56ffc98570bb4e3eafea049c8af4c59b",
       "style": "IPY_MODEL_72b9c25fc9434b7caed471abba341003",
       "value": "Validation DataLoader 0: 100%"
      }
     },
     "9d75d9006d5647aeb21f8fec49c2a67a": {
      "model_module": "@jupyter-widgets/controls",
      "model_module_version": "1.5.0",
      "model_name": "DescriptionStyleModel",
      "state": {
       "description_width": ""
      }
     },
     "9ec8fe42e5d24c50b6d15336ecc50223": {
      "model_module": "@jupyter-widgets/base",
      "model_module_version": "1.2.0",
      "model_name": "LayoutModel",
      "state": {}
     },
     "ab2312e24be94a0984c3118fef5d028d": {
      "model_module": "@jupyter-widgets/controls",
      "model_module_version": "1.5.0",
      "model_name": "FloatProgressModel",
      "state": {
       "layout": "IPY_MODEL_58cd4c3220544a4da05cef93586e36da",
       "max": 892,
       "style": "IPY_MODEL_6ce7667b14014fe6b8a51d3e32af872f",
       "value": 892
      }
     },
     "c15ec3d598f6474ca69340e65b5c5f3c": {
      "model_module": "@jupyter-widgets/controls",
      "model_module_version": "1.5.0",
      "model_name": "HTMLModel",
      "state": {
       "layout": "IPY_MODEL_e04b32cc39dd428e920c3e3e66336b5a",
       "style": "IPY_MODEL_9d75d9006d5647aeb21f8fec49c2a67a",
       "value": " 22/5235 [00:03&lt;14:02,  6.19it/s, loss=0.0203, v_num=2, validation_loss=0.0186]"
      }
     },
     "cca5bb7e8ec549499d2b61d1dc353aaa": {
      "model_module": "@jupyter-widgets/base",
      "model_module_version": "1.2.0",
      "model_name": "LayoutModel",
      "state": {}
     },
     "d07a63b500fa453fa0c3a698d4148aba": {
      "model_module": "@jupyter-widgets/controls",
      "model_module_version": "1.5.0",
      "model_name": "HTMLModel",
      "state": {
       "layout": "IPY_MODEL_cca5bb7e8ec549499d2b61d1dc353aaa",
       "style": "IPY_MODEL_d09e4a97e6a04b34a56a3ca7cf461c70",
       "value": " 892/892 [01:27&lt;00:00, 10.53it/s]"
      }
     },
     "d09e4a97e6a04b34a56a3ca7cf461c70": {
      "model_module": "@jupyter-widgets/controls",
      "model_module_version": "1.5.0",
      "model_name": "DescriptionStyleModel",
      "state": {
       "description_width": ""
      }
     },
     "d5e76117daaf4034be2c2148069f536b": {
      "model_module": "@jupyter-widgets/controls",
      "model_module_version": "1.5.0",
      "model_name": "ProgressStyleModel",
      "state": {
       "description_width": ""
      }
     },
     "d9321abc7b334f7c83820750258fe0fc": {
      "model_module": "@jupyter-widgets/controls",
      "model_module_version": "1.5.0",
      "model_name": "FloatProgressModel",
      "state": {
       "layout": "IPY_MODEL_8e5f660f2d1442d7bf86f452429c0648",
       "max": 2,
       "style": "IPY_MODEL_d5e76117daaf4034be2c2148069f536b",
       "value": 2
      }
     },
     "e04b32cc39dd428e920c3e3e66336b5a": {
      "model_module": "@jupyter-widgets/base",
      "model_module_version": "1.2.0",
      "model_name": "LayoutModel",
      "state": {}
     },
     "f304c19f963a40c784881b6071bbd082": {
      "model_module": "@jupyter-widgets/controls",
      "model_module_version": "1.5.0",
      "model_name": "DescriptionStyleModel",
      "state": {
       "description_width": ""
      }
     },
     "ff3beee7033745a281960d61a0c96205": {
      "model_module": "@jupyter-widgets/controls",
      "model_module_version": "1.5.0",
      "model_name": "HTMLModel",
      "state": {
       "layout": "IPY_MODEL_45d85541c771483aa9159ed0560ade84",
       "style": "IPY_MODEL_7b1eec6d6cdc4b12aaf8da933f6ed650",
       "value": "Epoch 1:   0%"
      }
     }
    },
    "version_major": 2,
    "version_minor": 0
   }
  }
 },
 "nbformat": 4,
 "nbformat_minor": 5
}
