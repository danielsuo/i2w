{
 "cells": [
  {
   "cell_type": "code",
   "execution_count": 5,
   "id": "ae9a2b78",
   "metadata": {},
   "outputs": [
    {
     "name": "stdout",
     "output_type": "stream",
     "text": [
      "Extension horovod.torch has not been built: /opt/conda/lib/python3.7/site-packages/horovod/torch/mpi_lib/_mpi_lib.cpython-37m-x86_64-linux-gnu.so not found\n",
      "If this is not expected, reinstall Horovod with HOROVOD_WITH_PYTORCH=1 to debug the build error.\n",
      "Warning! MPI libs are missing, but python applications are still avaiable.\n"
     ]
    },
    {
     "data": {
      "text/plain": [
       "[GpuDevice(id=0, process_index=0),\n",
       " GpuDevice(id=1, process_index=0),\n",
       " GpuDevice(id=2, process_index=0),\n",
       " GpuDevice(id=3, process_index=0),\n",
       " GpuDevice(id=4, process_index=0),\n",
       " GpuDevice(id=5, process_index=0),\n",
       " GpuDevice(id=6, process_index=0),\n",
       " GpuDevice(id=7, process_index=0)]"
      ]
     },
     "execution_count": 5,
     "metadata": {},
     "output_type": "execute_result"
    }
   ],
   "source": [
    "%load_ext autoreload\n",
    "%autoreload 2\n",
    "\n",
    "import pathlib\n",
    "import os\n",
    "\n",
    "import flax\n",
    "from flax import jax_utils\n",
    "import jax\n",
    "import jax.numpy as jnp\n",
    "import h5py\n",
    "import matplotlib.pyplot as plt\n",
    "import numpy as np\n",
    "import optax\n",
    "import torch\n",
    "import tensorflow as tf\n",
    "import tqdm\n",
    "\n",
    "import init2winit\n",
    "import fastmri\n",
    "\n",
    "import i2w\n",
    "\n",
    "from fastmri.models import unet as t_unet\n",
    "from fastmri.pl_modules import data_module\n",
    "from fastmri.pl_modules import unet_module\n",
    "from fastmri.data.transforms import UnetDataTransform\n",
    "from fastmri.data.subsample import create_mask_for_mask_type\n",
    "from fastmri.data.subsample import RandomMaskFunc\n",
    "\n",
    "from init2winit.model_lib import unet as f_unet\n",
    "from init2winit.dataset_lib import fastmri_dataset\n",
    "from init2winit.dataset_lib import data_utils\n",
    "from init2winit.optimizer_lib import optimizers\n",
    "from init2winit.optimizer_lib import transform\n",
    "\n",
    "jax.devices()"
   ]
  },
  {
   "cell_type": "code",
   "execution_count": 69,
   "id": "68a63acd",
   "metadata": {},
   "outputs": [],
   "source": [
    "def get_prob(kspace, target, seed=None):\n",
    "    num_cols = kspace.shape[0]\n",
    "    num_low_frequencies = num_cols * 0.8\n",
    "    prob = (num_cols / 4.0 - num_low_frequencies) / (\n",
    "      num_cols - num_low_frequencies\n",
    "    )\n",
    "    return prob"
   ]
  },
  {
   "cell_type": "code",
   "execution_count": 70,
   "id": "d8f0bb5e",
   "metadata": {},
   "outputs": [],
   "source": [
    "def tf_acceleration_mask(kspace, target, seed=None):\n",
    "    kspace_shape = kspace.shape\n",
    "    target_shape = target.shape\n",
    "\n",
    "    # sample_mask\n",
    "    num_cols = kspace_shape[0]\n",
    "    num_cols_float = tf.cast(num_cols, dtype=tf.float32)\n",
    "\n",
    "    # choose_acceleration\n",
    "    center_fraction = tf.convert_to_tensor(0.8, dtype=tf.float32)\n",
    "    acceleration = tf.convert_to_tensor(4.0, dtype=tf.float32)\n",
    "\n",
    "    num_low_frequencies = tf.cast(\n",
    "      num_cols_float * center_fraction, dtype=tf.int32)\n",
    "\n",
    "    # calculate_center_mask\n",
    "    mask = tf.zeros(num_cols, dtype=tf.float32)\n",
    "    pad = (num_cols - num_low_frequencies + 1) // 2\n",
    "    mask = tf.tensor_scatter_nd_update(\n",
    "      mask, tf.reshape(tf.range(pad, pad + num_low_frequencies), (-1, 1)),\n",
    "      tf.ones(num_low_frequencies))\n",
    "\n",
    "    # reshape_mask\n",
    "    center_mask = tf.reshape(mask, (num_cols, 1))\n",
    "\n",
    "    # calculate_acceleration_mask\n",
    "    num_low_frequencies_float = tf.cast(num_low_frequencies, dtype=tf.float32)\n",
    "    prob = (num_cols_float / acceleration - num_low_frequencies_float) / (\n",
    "      num_cols_float - num_low_frequencies_float\n",
    "    )\n",
    "    \n",
    "    mask = tf.cast(\n",
    "      tf.random.stateless_uniform((num_cols,), seed) < prob,\n",
    "      dtype=tf.float32)\n",
    "    acceleration_mask = tf.reshape(mask, (num_cols, 1))\n",
    "    \n",
    "    return center_mask, acceleration_mask, num_low_frequencies"
   ]
  },
  {
   "cell_type": "code",
   "execution_count": 71,
   "id": "1bb07541",
   "metadata": {},
   "outputs": [],
   "source": [
    "def pytorch_acceleration_mask(kspace, target, seed=None):\n",
    "    data = kspace\n",
    "    shape = (1,) * len(data.shape[:-3]) + tuple(data.shape[-3:])\n",
    "    mask_fn = RandomMaskFunc([0.8], [4.0], seed=seed)\n",
    "    \n",
    "    num_cols = shape[-2]\n",
    "    \n",
    "    num_low_frequencies = round(num_cols * 0.8)\n",
    "    \n",
    "    center_mask = mask_fn.reshape_mask(\n",
    "        mask_fn.calculate_center_mask(shape, num_low_frequencies), shape\n",
    "    )\n",
    "    acceleration_mask = mask_fn.reshape_mask(\n",
    "        mask_fn.calculate_acceleration_mask(\n",
    "            num_cols, 4.0, None, num_low_frequencies\n",
    "        ),\n",
    "        shape,\n",
    "    )\n",
    "    return center_mask, acceleration_mask, num_low_frequencies"
   ]
  },
  {
   "cell_type": "code",
   "execution_count": 72,
   "id": "ef97a189",
   "metadata": {},
   "outputs": [],
   "source": [
    "directory = '/home/dsuo/singlecoil_train'\n",
    "files = tf.io.gfile.listdir(directory)\n",
    "paths = [os.path.join(directory, file) for file in files]"
   ]
  },
  {
   "cell_type": "code",
   "execution_count": 74,
   "id": "825df286",
   "metadata": {},
   "outputs": [
    {
     "name": "stderr",
     "output_type": "stream",
     "text": [
      "100%|████████████████████████████████████████████████████████████████████████████████████████████████████████████████████████████████████████████████████████████████████████████| 973/973 [03:28<00:00,  4.67it/s]\n"
     ]
    }
   ],
   "source": [
    "for path in tqdm.tqdm(paths):\n",
    "    with tf.io.gfile.GFile(path, 'rb') as gf:\n",
    "        path = gf\n",
    "    with h5py.File(path, 'r') as hf:\n",
    "        volume_max = hf.attrs.get('max', 0.0)\n",
    "        \n",
    "        for slice_idx in range(hf['kspace'].shape[0]):\n",
    "            kspace = hf['kspace'][slice_idx]\n",
    "            target = hf['reconstruction_esc'][slice_idx]\n",
    "            \n",
    "            t_c, t_a, t_n = tf_acceleration_mask(kspace, target, tf.cast(jax.random.PRNGKey(0), tf.int64))\n",
    "            p_c, p_a, p_n = pytorch_acceleration_mask(kspace, target, 0)\n",
    "\n",
    "            c_close = np.allclose(t_c.numpy(), p_c.detach().numpy())\n",
    "            a_close = np.allclose(t_a.numpy(), p_a.detach().numpy())\n",
    "\n",
    "            if not c_close or not a_close:\n",
    "                print(os.path.basename(path), i, get_prob(kspace, target), c_close, a_close)"
   ]
  },
  {
   "cell_type": "code",
   "execution_count": null,
   "id": "364946b6",
   "metadata": {},
   "outputs": [],
   "source": []
  }
 ],
 "metadata": {
  "kernelspec": {
   "display_name": "Python 3 (ipykernel)",
   "language": "python",
   "name": "python3"
  },
  "language_info": {
   "codemirror_mode": {
    "name": "ipython",
    "version": 3
   },
   "file_extension": ".py",
   "mimetype": "text/x-python",
   "name": "python",
   "nbconvert_exporter": "python",
   "pygments_lexer": "ipython3",
   "version": "3.7.12"
  }
 },
 "nbformat": 4,
 "nbformat_minor": 5
}
