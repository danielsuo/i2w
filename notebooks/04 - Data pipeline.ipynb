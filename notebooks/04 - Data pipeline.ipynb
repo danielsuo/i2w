{
 "cells": [
  {
   "cell_type": "code",
   "execution_count": 1,
   "id": "6db6a05a",
   "metadata": {},
   "outputs": [
    {
     "data": {
      "text/plain": [
       "[GpuDevice(id=0, process_index=0),\n",
       " GpuDevice(id=1, process_index=0),\n",
       " GpuDevice(id=2, process_index=0),\n",
       " GpuDevice(id=3, process_index=0),\n",
       " GpuDevice(id=4, process_index=0),\n",
       " GpuDevice(id=5, process_index=0),\n",
       " GpuDevice(id=6, process_index=0),\n",
       " GpuDevice(id=7, process_index=0)]"
      ]
     },
     "execution_count": 1,
     "metadata": {},
     "output_type": "execute_result"
    }
   ],
   "source": [
    "%load_ext autoreload\n",
    "%autoreload 2\n",
    "\n",
    "import pathlib\n",
    "import os\n",
    "\n",
    "import flax\n",
    "from flax import jax_utils\n",
    "import jax\n",
    "import jax.numpy as jnp\n",
    "import numpy as np\n",
    "import optax\n",
    "import torch\n",
    "import tensorflow as tf\n",
    "import tqdm\n",
    "\n",
    "import init2winit\n",
    "import fastmri\n",
    "\n",
    "import i2w\n",
    "\n",
    "from fastmri.models import unet as t_unet\n",
    "from fastmri.pl_modules import data_module\n",
    "from fastmri.pl_modules import unet_module\n",
    "from fastmri.data.transforms import UnetDataTransform\n",
    "from fastmri.data.subsample import create_mask_for_mask_type\n",
    "\n",
    "from init2winit.model_lib import unet as f_unet\n",
    "from init2winit.dataset_lib import fastmri_dataset\n",
    "from init2winit.dataset_lib import data_utils\n",
    "from init2winit.optimizer_lib import optimizers\n",
    "\n",
    "jax.devices()"
   ]
  },
  {
   "cell_type": "markdown",
   "id": "a0763a57",
   "metadata": {},
   "source": [
    "# Data pipeline"
   ]
  },
  {
   "cell_type": "code",
   "execution_count": 8,
   "id": "3f17673c",
   "metadata": {},
   "outputs": [],
   "source": [
    "data_path = pathlib.Path('../../')\n",
    "challenge = 'singlecoil'\n",
    "center_fractions = [0.08]\n",
    "accelerations = [4]\n",
    "mask_type = None  # Should be `random`, but tying out without\n",
    "test_split = 'test'"
   ]
  },
  {
   "cell_type": "markdown",
   "id": "065fd19c",
   "metadata": {},
   "source": [
    "## `fastmri`"
   ]
  },
  {
   "cell_type": "code",
   "execution_count": 9,
   "id": "8ab77242",
   "metadata": {},
   "outputs": [],
   "source": [
    "# mask = create_mask_for_mask_type(mask_type, center_fractions, accelerations)\n",
    "mask = None\n",
    "\n",
    "train_transform = UnetDataTransform(challenge, mask_func=mask, use_seed=False)\n",
    "val_transform = UnetDataTransform(challenge, mask_func=mask)\n",
    "test_transform = UnetDataTransform(challenge)\n",
    "\n",
    "dm = data_module.FastMriDataModule(\n",
    "    data_path=data_path,\n",
    "    challenge=challenge,\n",
    "    train_transform=train_transform,\n",
    "    val_transform=val_transform,\n",
    "    test_transform=test_transform,\n",
    "    test_split=test_split,\n",
    "    batch_size=1,\n",
    "    num_workers=4,\n",
    ")\n",
    "\n",
    "dl = iter(dm._create_data_loader(train_transform, data_partition='train'))"
   ]
  },
  {
   "cell_type": "markdown",
   "id": "10395837",
   "metadata": {},
   "source": [
    "## `init2winit`"
   ]
  },
  {
   "cell_type": "code",
   "execution_count": 11,
   "id": "64845d5a",
   "metadata": {},
   "outputs": [
    {
     "name": "stderr",
     "output_type": "stream",
     "text": [
      "100%|███████████████████████████████████████████████████████████████████████████████████████████████████████████████████████████████████████████████████████████████████████▉| 34741/34742 [12:13<00:00, 47.34it/s]\n"
     ]
    }
   ],
   "source": [
    "for i, t_batch in enumerate(tqdm.tqdm(dl)):\n",
    "    inputs = i2w.get_slice(os.path.join('../../singlecoil_train', t_batch.fname[0]), t_batch.slice_num[0])\n",
    "    f_batch = fastmri_dataset._process_example(*inputs, tf.cast(jax.random.PRNGKey(0), tf.int64))\n",
    "    \n",
    "    input_delta = np.mean(np.abs(f_batch['inputs'].numpy() - t_batch.image.numpy().squeeze()))\n",
    "    output_delta = np.mean(np.abs(f_batch['targets'].numpy() - t_batch.target.numpy().squeeze()))\n",
    "    vol_delta = f_batch['volume_max'] - t_batch.max_value.numpy().squeeze()\n",
    "    \n",
    "    if input_delta > 1e-5 or output_delta > 1e-5:\n",
    "        print(i, input_delta, output_delta, vol_delta)"
   ]
  },
  {
   "cell_type": "code",
   "execution_count": null,
   "id": "9070f024",
   "metadata": {},
   "outputs": [],
   "source": []
  }
 ],
 "metadata": {
  "kernelspec": {
   "display_name": "Python 3 (ipykernel)",
   "language": "python",
   "name": "python3"
  },
  "language_info": {
   "codemirror_mode": {
    "name": "ipython",
    "version": 3
   },
   "file_extension": ".py",
   "mimetype": "text/x-python",
   "name": "python",
   "nbconvert_exporter": "python",
   "pygments_lexer": "ipython3",
   "version": "3.7.12"
  }
 },
 "nbformat": 4,
 "nbformat_minor": 5
}
