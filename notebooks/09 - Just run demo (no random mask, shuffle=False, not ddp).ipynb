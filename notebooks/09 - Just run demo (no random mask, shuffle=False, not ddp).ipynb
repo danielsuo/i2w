{
 "cells": [
  {
   "cell_type": "code",
   "execution_count": 1,
   "id": "6db6a05a",
   "metadata": {},
   "outputs": [
    {
     "name": "stdout",
     "output_type": "stream",
     "text": [
      "Extension horovod.torch has not been built: /opt/conda/lib/python3.7/site-packages/horovod/torch/mpi_lib/_mpi_lib.cpython-37m-x86_64-linux-gnu.so not found\n",
      "If this is not expected, reinstall Horovod with HOROVOD_WITH_PYTORCH=1 to debug the build error.\n",
      "Warning! MPI libs are missing, but python applications are still avaiable.\n"
     ]
    }
   ],
   "source": [
    "import os\n",
    "import pathlib\n",
    "import argparse\n",
    "\n",
    "import pytorch_lightning as pl\n",
    "from fastmri.data.mri_data import fetch_dir\n",
    "from fastmri.data.subsample import create_mask_for_mask_type\n",
    "from fastmri.data.transforms import UnetDataTransform\n",
    "from fastmri.pl_modules import FastMriDataModule, UnetModule"
   ]
  },
  {
   "cell_type": "code",
   "execution_count": 2,
   "id": "ac608a26",
   "metadata": {},
   "outputs": [],
   "source": [
    "# Grabbed from `train_unet_demo.build_args()`.\n",
    "\n",
    "args = argparse.Namespace(\n",
    "    accelerations=[4],\n",
    "    accelerator='gpu',  # Should be `ddp`, but not available in interactive mode\n",
    "    accumulate_grad_batches=None,\n",
    "    amp_backend='native',\n",
    "    amp_level=None,\n",
    "    auto_lr_find=False,\n",
    "    auto_scale_batch_size=False,\n",
    "    auto_select_gpus=False,\n",
    "    batch_size=8,\n",
    "    benchmark=False,\n",
    "#     callbacks=[<pytorch_lightning.callbacks.model_checkpoint.ModelCheckpoint object at 0x7f409795e090>],\n",
    "    center_fractions=[0.08],\n",
    "    challenge='singlecoil',\n",
    "    chans=32,\n",
    "    check_val_every_n_epoch=1,\n",
    "    checkpoint_callback=None,\n",
    "    combine_train_val=False,\n",
    "    data_path=pathlib.PosixPath('/home/dsuo'),\n",
    "    default_root_dir=pathlib.PosixPath('unet/unet_demo'),\n",
    "    detect_anomaly=False, deterministic=True,\n",
    "    devices=None, drop_prob=0.0,\n",
    "    enable_checkpointing=True,\n",
    "    enable_model_summary=True,\n",
    "    enable_progress_bar=True,\n",
    "    fast_dev_run=False,\n",
    "    flush_logs_every_n_steps=None,\n",
    "    gpus=8,\n",
    "    gradient_clip_algorithm=None,\n",
    "    gradient_clip_val=None,\n",
    "    in_chans=1,\n",
    "    ipus=None,\n",
    "    limit_predict_batches=1.0,\n",
    "    limit_test_batches=1.0,\n",
    "    limit_train_batches=1.0,\n",
    "    limit_val_batches=1.0,\n",
    "    log_every_n_steps=50,\n",
    "    log_gpu_memory=None,\n",
    "    logger=True,\n",
    "    lr=0.001,\n",
    "    lr_gamma=0.1,\n",
    "    lr_step_size=40,\n",
    "    mask_type='random',  # Should be `random`, but tying out without\n",
    "    max_epochs=50,\n",
    "    max_steps=-1,\n",
    "    max_time=None,\n",
    "    min_epochs=None,\n",
    "    min_steps=None,\n",
    "    mode='train',\n",
    "    move_metrics_to_cpu=False,\n",
    "    multiple_trainloader_mode='max_size_cycle',\n",
    "    num_log_images=16,\n",
    "    num_nodes=1,\n",
    "    num_pool_layers=4,\n",
    "    num_processes=1,\n",
    "    num_sanity_val_steps=2,\n",
    "    num_workers=4,\n",
    "    out_chans=1,\n",
    "    overfit_batches=0.0,\n",
    "    plugins=None,\n",
    "    precision=32,\n",
    "    prepare_data_per_node=None,\n",
    "    process_position=0,\n",
    "    profiler=None,\n",
    "    progress_bar_refresh_rate=None,\n",
    "    reload_dataloaders_every_epoch=False,\n",
    "    reload_dataloaders_every_n_epochs=0,\n",
    "    replace_sampler_ddp=False,\n",
    "    resume_from_checkpoint=None,\n",
    "    sample_rate=None,\n",
    "    seed=42,\n",
    "    stochastic_weight_avg=False,\n",
    "    strategy='dp',  # This should be None\n",
    "    sync_batchnorm=False,\n",
    "    terminate_on_nan=None,\n",
    "    test_path=None,\n",
    "    test_sample_rate=None,\n",
    "    test_split='test',\n",
    "    test_volume_sample_rate=None,\n",
    "    tpu_cores=None,\n",
    "    track_grad_norm=-1,\n",
    "    use_dataset_cache_file=True,\n",
    "    val_check_interval=1.0,\n",
    "    val_sample_rate=None,\n",
    "    val_volume_sample_rate=None,\n",
    "    volume_sample_rate=None,\n",
    "    weight_decay=0.0,\n",
    "    weights_save_path=None,\n",
    "    weights_summary='top')"
   ]
  },
  {
   "cell_type": "code",
   "execution_count": 3,
   "id": "e2e456ad",
   "metadata": {},
   "outputs": [
    {
     "name": "stderr",
     "output_type": "stream",
     "text": [
      "Global seed set to 42\n",
      "/opt/conda/lib/python3.7/site-packages/pytorch_lightning/trainer/connectors/accelerator_connector.py:464: UserWarning: more than one device specific flag has been set\n",
      "  rank_zero_warn(\"more than one device specific flag has been set\")\n",
      "GPU available: True, used: True\n",
      "TPU available: False, using: 0 TPU cores\n",
      "IPU available: False, using: 0 IPUs\n",
      "HPU available: False, using: 0 HPUs\n",
      "`Trainer(limit_train_batches=1.0)` was configured so 100% of the batches per epoch will be used..\n",
      "`Trainer(limit_val_batches=1.0)` was configured so 100% of the batches will be used..\n",
      "`Trainer(limit_test_batches=1.0)` was configured so 100% of the batches will be used..\n",
      "`Trainer(limit_predict_batches=1.0)` was configured so 100% of the batches will be used..\n",
      "`Trainer(val_check_interval=1.0)` was configured so validation will run at the end of the training epoch..\n"
     ]
    }
   ],
   "source": [
    "pl.seed_everything(args.seed)\n",
    "\n",
    "# ------------\n",
    "# data\n",
    "# ------------\n",
    "# this creates a k-space mask for transforming input data\n",
    "mask = create_mask_for_mask_type(\n",
    "    args.mask_type, args.center_fractions, args.accelerations\n",
    ")\n",
    "\n",
    "mask = None\n",
    "\n",
    "# use random masks for train transform, fixed masks for val transform\n",
    "train_transform = UnetDataTransform(args.challenge, mask_func=mask, use_seed=False)\n",
    "val_transform = UnetDataTransform(args.challenge, mask_func=mask)\n",
    "test_transform = UnetDataTransform(args.challenge)\n",
    "# ptl data module - this handles data loaders\n",
    "data_module = FastMriDataModule(\n",
    "    data_path=args.data_path,\n",
    "    challenge=args.challenge,\n",
    "    train_transform=train_transform,\n",
    "    val_transform=val_transform,\n",
    "    test_transform=test_transform,\n",
    "    test_split=args.test_split,\n",
    "    test_path=args.test_path,\n",
    "    sample_rate=args.sample_rate,\n",
    "    batch_size=args.batch_size,\n",
    "    num_workers=args.num_workers,\n",
    "    distributed_sampler=(args.accelerator in (\"ddp\", \"ddp_cpu\")),\n",
    ")\n",
    "\n",
    "# ------------\n",
    "# model\n",
    "# ------------\n",
    "model = UnetModule(\n",
    "    in_chans=args.in_chans,\n",
    "    out_chans=args.out_chans,\n",
    "    chans=args.chans,\n",
    "    num_pool_layers=args.num_pool_layers,\n",
    "    drop_prob=args.drop_prob,\n",
    "    lr=args.lr,\n",
    "    lr_step_size=args.lr_step_size,\n",
    "    lr_gamma=args.lr_gamma,\n",
    "    weight_decay=args.weight_decay,\n",
    ")\n",
    "\n",
    "# ------------\n",
    "# trainer\n",
    "# ------------\n",
    "trainer = pl.Trainer.from_argparse_args(args)"
   ]
  },
  {
   "cell_type": "code",
   "execution_count": 4,
   "id": "c1965efe",
   "metadata": {},
   "outputs": [
    {
     "name": "stderr",
     "output_type": "stream",
     "text": [
      "LOCAL_RANK: 0 - CUDA_VISIBLE_DEVICES: [0,1,2,3,4,5,6,7]\n",
      "\n",
      "  | Name             | Type                 | Params\n",
      "----------------------------------------------------------\n",
      "0 | NMSE             | DistributedMetricSum | 0     \n",
      "1 | SSIM             | DistributedMetricSum | 0     \n",
      "2 | PSNR             | DistributedMetricSum | 0     \n",
      "3 | ValLoss          | DistributedMetricSum | 0     \n",
      "4 | TotExamples      | DistributedMetricSum | 0     \n",
      "5 | TotSliceExamples | DistributedMetricSum | 0     \n",
      "6 | unet             | Unet                 | 7.8 M \n",
      "----------------------------------------------------------\n",
      "7.8 M     Trainable params\n",
      "0         Non-trainable params\n",
      "7.8 M     Total params\n",
      "31.024    Total estimated model params size (MB)\n",
      "2022-05-06 21:43:06.466248: I tensorflow/stream_executor/platform/default/dso_loader.cc:53] Successfully opened dynamic library libcudart.so.11.0\n"
     ]
    },
    {
     "data": {
      "application/vnd.jupyter.widget-view+json": {
       "model_id": "",
       "version_major": 2,
       "version_minor": 0
      },
      "text/plain": [
       "Sanity Checking: 0it [00:00, ?it/s]"
      ]
     },
     "metadata": {},
     "output_type": "display_data"
    },
    {
     "data": {
      "application/vnd.jupyter.widget-view+json": {
       "model_id": "224f5c855ff6459fafa11a09827bb19f",
       "version_major": 2,
       "version_minor": 0
      },
      "text/plain": [
       "Training: 0it [00:00, ?it/s]"
      ]
     },
     "metadata": {},
     "output_type": "display_data"
    },
    {
     "data": {
      "application/vnd.jupyter.widget-view+json": {
       "model_id": "",
       "version_major": 2,
       "version_minor": 0
      },
      "text/plain": [
       "Validation: 0it [00:00, ?it/s]"
      ]
     },
     "metadata": {},
     "output_type": "display_data"
    },
    {
     "data": {
      "application/vnd.jupyter.widget-view+json": {
       "model_id": "",
       "version_major": 2,
       "version_minor": 0
      },
      "text/plain": [
       "Validation: 0it [00:00, ?it/s]"
      ]
     },
     "metadata": {},
     "output_type": "display_data"
    },
    {
     "data": {
      "application/vnd.jupyter.widget-view+json": {
       "model_id": "",
       "version_major": 2,
       "version_minor": 0
      },
      "text/plain": [
       "Validation: 0it [00:00, ?it/s]"
      ]
     },
     "metadata": {},
     "output_type": "display_data"
    },
    {
     "data": {
      "application/vnd.jupyter.widget-view+json": {
       "model_id": "",
       "version_major": 2,
       "version_minor": 0
      },
      "text/plain": [
       "Validation: 0it [00:00, ?it/s]"
      ]
     },
     "metadata": {},
     "output_type": "display_data"
    },
    {
     "data": {
      "application/vnd.jupyter.widget-view+json": {
       "model_id": "",
       "version_major": 2,
       "version_minor": 0
      },
      "text/plain": [
       "Validation: 0it [00:00, ?it/s]"
      ]
     },
     "metadata": {},
     "output_type": "display_data"
    },
    {
     "data": {
      "application/vnd.jupyter.widget-view+json": {
       "model_id": "",
       "version_major": 2,
       "version_minor": 0
      },
      "text/plain": [
       "Validation: 0it [00:00, ?it/s]"
      ]
     },
     "metadata": {},
     "output_type": "display_data"
    },
    {
     "data": {
      "application/vnd.jupyter.widget-view+json": {
       "model_id": "",
       "version_major": 2,
       "version_minor": 0
      },
      "text/plain": [
       "Validation: 0it [00:00, ?it/s]"
      ]
     },
     "metadata": {},
     "output_type": "display_data"
    },
    {
     "data": {
      "application/vnd.jupyter.widget-view+json": {
       "model_id": "",
       "version_major": 2,
       "version_minor": 0
      },
      "text/plain": [
       "Validation: 0it [00:00, ?it/s]"
      ]
     },
     "metadata": {},
     "output_type": "display_data"
    },
    {
     "data": {
      "application/vnd.jupyter.widget-view+json": {
       "model_id": "",
       "version_major": 2,
       "version_minor": 0
      },
      "text/plain": [
       "Validation: 0it [00:00, ?it/s]"
      ]
     },
     "metadata": {},
     "output_type": "display_data"
    },
    {
     "data": {
      "application/vnd.jupyter.widget-view+json": {
       "model_id": "",
       "version_major": 2,
       "version_minor": 0
      },
      "text/plain": [
       "Validation: 0it [00:00, ?it/s]"
      ]
     },
     "metadata": {},
     "output_type": "display_data"
    },
    {
     "data": {
      "application/vnd.jupyter.widget-view+json": {
       "model_id": "",
       "version_major": 2,
       "version_minor": 0
      },
      "text/plain": [
       "Validation: 0it [00:00, ?it/s]"
      ]
     },
     "metadata": {},
     "output_type": "display_data"
    },
    {
     "data": {
      "application/vnd.jupyter.widget-view+json": {
       "model_id": "",
       "version_major": 2,
       "version_minor": 0
      },
      "text/plain": [
       "Validation: 0it [00:00, ?it/s]"
      ]
     },
     "metadata": {},
     "output_type": "display_data"
    },
    {
     "data": {
      "application/vnd.jupyter.widget-view+json": {
       "model_id": "",
       "version_major": 2,
       "version_minor": 0
      },
      "text/plain": [
       "Validation: 0it [00:00, ?it/s]"
      ]
     },
     "metadata": {},
     "output_type": "display_data"
    },
    {
     "data": {
      "application/vnd.jupyter.widget-view+json": {
       "model_id": "",
       "version_major": 2,
       "version_minor": 0
      },
      "text/plain": [
       "Validation: 0it [00:00, ?it/s]"
      ]
     },
     "metadata": {},
     "output_type": "display_data"
    },
    {
     "data": {
      "application/vnd.jupyter.widget-view+json": {
       "model_id": "",
       "version_major": 2,
       "version_minor": 0
      },
      "text/plain": [
       "Validation: 0it [00:00, ?it/s]"
      ]
     },
     "metadata": {},
     "output_type": "display_data"
    },
    {
     "data": {
      "application/vnd.jupyter.widget-view+json": {
       "model_id": "",
       "version_major": 2,
       "version_minor": 0
      },
      "text/plain": [
       "Validation: 0it [00:00, ?it/s]"
      ]
     },
     "metadata": {},
     "output_type": "display_data"
    },
    {
     "data": {
      "application/vnd.jupyter.widget-view+json": {
       "model_id": "",
       "version_major": 2,
       "version_minor": 0
      },
      "text/plain": [
       "Validation: 0it [00:00, ?it/s]"
      ]
     },
     "metadata": {},
     "output_type": "display_data"
    },
    {
     "data": {
      "application/vnd.jupyter.widget-view+json": {
       "model_id": "",
       "version_major": 2,
       "version_minor": 0
      },
      "text/plain": [
       "Validation: 0it [00:00, ?it/s]"
      ]
     },
     "metadata": {},
     "output_type": "display_data"
    },
    {
     "data": {
      "application/vnd.jupyter.widget-view+json": {
       "model_id": "",
       "version_major": 2,
       "version_minor": 0
      },
      "text/plain": [
       "Validation: 0it [00:00, ?it/s]"
      ]
     },
     "metadata": {},
     "output_type": "display_data"
    },
    {
     "data": {
      "application/vnd.jupyter.widget-view+json": {
       "model_id": "",
       "version_major": 2,
       "version_minor": 0
      },
      "text/plain": [
       "Validation: 0it [00:00, ?it/s]"
      ]
     },
     "metadata": {},
     "output_type": "display_data"
    },
    {
     "data": {
      "application/vnd.jupyter.widget-view+json": {
       "model_id": "",
       "version_major": 2,
       "version_minor": 0
      },
      "text/plain": [
       "Validation: 0it [00:00, ?it/s]"
      ]
     },
     "metadata": {},
     "output_type": "display_data"
    },
    {
     "data": {
      "application/vnd.jupyter.widget-view+json": {
       "model_id": "",
       "version_major": 2,
       "version_minor": 0
      },
      "text/plain": [
       "Validation: 0it [00:00, ?it/s]"
      ]
     },
     "metadata": {},
     "output_type": "display_data"
    },
    {
     "data": {
      "application/vnd.jupyter.widget-view+json": {
       "model_id": "",
       "version_major": 2,
       "version_minor": 0
      },
      "text/plain": [
       "Validation: 0it [00:00, ?it/s]"
      ]
     },
     "metadata": {},
     "output_type": "display_data"
    },
    {
     "data": {
      "application/vnd.jupyter.widget-view+json": {
       "model_id": "",
       "version_major": 2,
       "version_minor": 0
      },
      "text/plain": [
       "Validation: 0it [00:00, ?it/s]"
      ]
     },
     "metadata": {},
     "output_type": "display_data"
    },
    {
     "data": {
      "application/vnd.jupyter.widget-view+json": {
       "model_id": "",
       "version_major": 2,
       "version_minor": 0
      },
      "text/plain": [
       "Validation: 0it [00:00, ?it/s]"
      ]
     },
     "metadata": {},
     "output_type": "display_data"
    },
    {
     "data": {
      "application/vnd.jupyter.widget-view+json": {
       "model_id": "",
       "version_major": 2,
       "version_minor": 0
      },
      "text/plain": [
       "Validation: 0it [00:00, ?it/s]"
      ]
     },
     "metadata": {},
     "output_type": "display_data"
    },
    {
     "data": {
      "application/vnd.jupyter.widget-view+json": {
       "model_id": "",
       "version_major": 2,
       "version_minor": 0
      },
      "text/plain": [
       "Validation: 0it [00:00, ?it/s]"
      ]
     },
     "metadata": {},
     "output_type": "display_data"
    },
    {
     "data": {
      "application/vnd.jupyter.widget-view+json": {
       "model_id": "",
       "version_major": 2,
       "version_minor": 0
      },
      "text/plain": [
       "Validation: 0it [00:00, ?it/s]"
      ]
     },
     "metadata": {},
     "output_type": "display_data"
    },
    {
     "data": {
      "application/vnd.jupyter.widget-view+json": {
       "model_id": "",
       "version_major": 2,
       "version_minor": 0
      },
      "text/plain": [
       "Validation: 0it [00:00, ?it/s]"
      ]
     },
     "metadata": {},
     "output_type": "display_data"
    },
    {
     "data": {
      "application/vnd.jupyter.widget-view+json": {
       "model_id": "",
       "version_major": 2,
       "version_minor": 0
      },
      "text/plain": [
       "Validation: 0it [00:00, ?it/s]"
      ]
     },
     "metadata": {},
     "output_type": "display_data"
    },
    {
     "data": {
      "application/vnd.jupyter.widget-view+json": {
       "model_id": "",
       "version_major": 2,
       "version_minor": 0
      },
      "text/plain": [
       "Validation: 0it [00:00, ?it/s]"
      ]
     },
     "metadata": {},
     "output_type": "display_data"
    },
    {
     "data": {
      "application/vnd.jupyter.widget-view+json": {
       "model_id": "",
       "version_major": 2,
       "version_minor": 0
      },
      "text/plain": [
       "Validation: 0it [00:00, ?it/s]"
      ]
     },
     "metadata": {},
     "output_type": "display_data"
    },
    {
     "data": {
      "application/vnd.jupyter.widget-view+json": {
       "model_id": "",
       "version_major": 2,
       "version_minor": 0
      },
      "text/plain": [
       "Validation: 0it [00:00, ?it/s]"
      ]
     },
     "metadata": {},
     "output_type": "display_data"
    },
    {
     "data": {
      "application/vnd.jupyter.widget-view+json": {
       "model_id": "",
       "version_major": 2,
       "version_minor": 0
      },
      "text/plain": [
       "Validation: 0it [00:00, ?it/s]"
      ]
     },
     "metadata": {},
     "output_type": "display_data"
    },
    {
     "data": {
      "application/vnd.jupyter.widget-view+json": {
       "model_id": "",
       "version_major": 2,
       "version_minor": 0
      },
      "text/plain": [
       "Validation: 0it [00:00, ?it/s]"
      ]
     },
     "metadata": {},
     "output_type": "display_data"
    },
    {
     "data": {
      "application/vnd.jupyter.widget-view+json": {
       "model_id": "",
       "version_major": 2,
       "version_minor": 0
      },
      "text/plain": [
       "Validation: 0it [00:00, ?it/s]"
      ]
     },
     "metadata": {},
     "output_type": "display_data"
    },
    {
     "data": {
      "application/vnd.jupyter.widget-view+json": {
       "model_id": "",
       "version_major": 2,
       "version_minor": 0
      },
      "text/plain": [
       "Validation: 0it [00:00, ?it/s]"
      ]
     },
     "metadata": {},
     "output_type": "display_data"
    },
    {
     "data": {
      "application/vnd.jupyter.widget-view+json": {
       "model_id": "",
       "version_major": 2,
       "version_minor": 0
      },
      "text/plain": [
       "Validation: 0it [00:00, ?it/s]"
      ]
     },
     "metadata": {},
     "output_type": "display_data"
    },
    {
     "data": {
      "application/vnd.jupyter.widget-view+json": {
       "model_id": "",
       "version_major": 2,
       "version_minor": 0
      },
      "text/plain": [
       "Validation: 0it [00:00, ?it/s]"
      ]
     },
     "metadata": {},
     "output_type": "display_data"
    },
    {
     "data": {
      "application/vnd.jupyter.widget-view+json": {
       "model_id": "",
       "version_major": 2,
       "version_minor": 0
      },
      "text/plain": [
       "Validation: 0it [00:00, ?it/s]"
      ]
     },
     "metadata": {},
     "output_type": "display_data"
    },
    {
     "data": {
      "application/vnd.jupyter.widget-view+json": {
       "model_id": "",
       "version_major": 2,
       "version_minor": 0
      },
      "text/plain": [
       "Validation: 0it [00:00, ?it/s]"
      ]
     },
     "metadata": {},
     "output_type": "display_data"
    },
    {
     "data": {
      "application/vnd.jupyter.widget-view+json": {
       "model_id": "",
       "version_major": 2,
       "version_minor": 0
      },
      "text/plain": [
       "Validation: 0it [00:00, ?it/s]"
      ]
     },
     "metadata": {},
     "output_type": "display_data"
    },
    {
     "data": {
      "application/vnd.jupyter.widget-view+json": {
       "model_id": "",
       "version_major": 2,
       "version_minor": 0
      },
      "text/plain": [
       "Validation: 0it [00:00, ?it/s]"
      ]
     },
     "metadata": {},
     "output_type": "display_data"
    },
    {
     "data": {
      "application/vnd.jupyter.widget-view+json": {
       "model_id": "",
       "version_major": 2,
       "version_minor": 0
      },
      "text/plain": [
       "Validation: 0it [00:00, ?it/s]"
      ]
     },
     "metadata": {},
     "output_type": "display_data"
    },
    {
     "data": {
      "application/vnd.jupyter.widget-view+json": {
       "model_id": "",
       "version_major": 2,
       "version_minor": 0
      },
      "text/plain": [
       "Validation: 0it [00:00, ?it/s]"
      ]
     },
     "metadata": {},
     "output_type": "display_data"
    },
    {
     "data": {
      "application/vnd.jupyter.widget-view+json": {
       "model_id": "",
       "version_major": 2,
       "version_minor": 0
      },
      "text/plain": [
       "Validation: 0it [00:00, ?it/s]"
      ]
     },
     "metadata": {},
     "output_type": "display_data"
    },
    {
     "data": {
      "application/vnd.jupyter.widget-view+json": {
       "model_id": "",
       "version_major": 2,
       "version_minor": 0
      },
      "text/plain": [
       "Validation: 0it [00:00, ?it/s]"
      ]
     },
     "metadata": {},
     "output_type": "display_data"
    },
    {
     "data": {
      "application/vnd.jupyter.widget-view+json": {
       "model_id": "",
       "version_major": 2,
       "version_minor": 0
      },
      "text/plain": [
       "Validation: 0it [00:00, ?it/s]"
      ]
     },
     "metadata": {},
     "output_type": "display_data"
    },
    {
     "data": {
      "application/vnd.jupyter.widget-view+json": {
       "model_id": "",
       "version_major": 2,
       "version_minor": 0
      },
      "text/plain": [
       "Validation: 0it [00:00, ?it/s]"
      ]
     },
     "metadata": {},
     "output_type": "display_data"
    },
    {
     "data": {
      "application/vnd.jupyter.widget-view+json": {
       "model_id": "",
       "version_major": 2,
       "version_minor": 0
      },
      "text/plain": [
       "Validation: 0it [00:00, ?it/s]"
      ]
     },
     "metadata": {},
     "output_type": "display_data"
    }
   ],
   "source": [
    "trainer.fit(model, datamodule=data_module)"
   ]
  },
  {
   "cell_type": "markdown",
   "id": "939e083b",
   "metadata": {},
   "source": [
    "# Results\n",
    "After 50 epochs: `5235/5235 [12:04<00:00, 7.23it/s, loss=0.00108, v_num=5, validation_loss=0.00136]`"
   ]
  },
  {
   "cell_type": "code",
   "execution_count": null,
   "id": "e4fd6d91",
   "metadata": {},
   "outputs": [],
   "source": []
  }
 ],
 "metadata": {
  "kernelspec": {
   "display_name": "Python 3 (ipykernel)",
   "language": "python",
   "name": "python3"
  },
  "language_info": {
   "codemirror_mode": {
    "name": "ipython",
    "version": 3
   },
   "file_extension": ".py",
   "mimetype": "text/x-python",
   "name": "python",
   "nbconvert_exporter": "python",
   "pygments_lexer": "ipython3",
   "version": "3.7.12"
  },
  "widgets": {
   "application/vnd.jupyter.widget-state+json": {
    "state": {
     "0044c9dd1cf5490096ea76c472569391": {
      "model_module": "@jupyter-widgets/controls",
      "model_module_version": "1.5.0",
      "model_name": "HTMLModel",
      "state": {
       "layout": "IPY_MODEL_05cdccce6aeb442fac32f99f11886719",
       "style": "IPY_MODEL_a891eb9610ac4c47a22cd3fde7dff308",
       "value": " 892/892 [01:27&lt;00:00, 10.31it/s]"
      }
     },
     "011e165745de451da5f9e44604ad00ee": {
      "model_module": "@jupyter-widgets/base",
      "model_module_version": "1.2.0",
      "model_name": "LayoutModel",
      "state": {}
     },
     "020c254b9e6d417dab2663a4543ea1db": {
      "model_module": "@jupyter-widgets/controls",
      "model_module_version": "1.5.0",
      "model_name": "ProgressStyleModel",
      "state": {
       "description_width": ""
      }
     },
     "034a6f9de2ad48f696376c4e19c59e5a": {
      "model_module": "@jupyter-widgets/controls",
      "model_module_version": "1.5.0",
      "model_name": "ProgressStyleModel",
      "state": {
       "description_width": ""
      }
     },
     "040fb6a3848e413898229850aab24e75": {
      "model_module": "@jupyter-widgets/controls",
      "model_module_version": "1.5.0",
      "model_name": "DescriptionStyleModel",
      "state": {
       "description_width": ""
      }
     },
     "059f3d3a377c4c7c9274c82048a9f684": {
      "model_module": "@jupyter-widgets/controls",
      "model_module_version": "1.5.0",
      "model_name": "FloatProgressModel",
      "state": {
       "layout": "IPY_MODEL_f2dc86ca5c3c406ba3bf8b73a977a8ad",
       "max": 892,
       "style": "IPY_MODEL_e24af094d40f4747a75ed4b7a7db1427",
       "value": 892
      }
     },
     "05aa5625cb7a45b98e61449c500ef4c4": {
      "model_module": "@jupyter-widgets/controls",
      "model_module_version": "1.5.0",
      "model_name": "DescriptionStyleModel",
      "state": {
       "description_width": ""
      }
     },
     "05cdccce6aeb442fac32f99f11886719": {
      "model_module": "@jupyter-widgets/base",
      "model_module_version": "1.2.0",
      "model_name": "LayoutModel",
      "state": {}
     },
     "05f79c20694b4483a25e06fefe20cda7": {
      "model_module": "@jupyter-widgets/controls",
      "model_module_version": "1.5.0",
      "model_name": "HTMLModel",
      "state": {
       "layout": "IPY_MODEL_a6e1b503b0574b8fa342d00dee2581ff",
       "style": "IPY_MODEL_1a35e91a96094ceeae4fa718df64ca96",
       "value": "Validation DataLoader 0: 100%"
      }
     },
     "067b95f705ba456b8b8deae7dab03bd0": {
      "model_module": "@jupyter-widgets/base",
      "model_module_version": "1.2.0",
      "model_name": "LayoutModel",
      "state": {}
     },
     "069fe2d9bf4a46b4b97d818d6b08fda0": {
      "model_module": "@jupyter-widgets/controls",
      "model_module_version": "1.5.0",
      "model_name": "HTMLModel",
      "state": {
       "layout": "IPY_MODEL_51ad69384b844760b32b6b150c99e6ad",
       "style": "IPY_MODEL_3a457d221a1447889b6bcc9ceacb68f6",
       "value": "Validation DataLoader 0: 100%"
      }
     },
     "07203c7a4f864c229216e4a886662d47": {
      "model_module": "@jupyter-widgets/controls",
      "model_module_version": "1.5.0",
      "model_name": "FloatProgressModel",
      "state": {
       "layout": "IPY_MODEL_78e8c12aab194683a46e7dad6a73109b",
       "max": 892,
       "style": "IPY_MODEL_59870204f21f4eba86b253897eba0097",
       "value": 892
      }
     },
     "07dc96bab03d4cc08844ed5de2c64f7e": {
      "model_module": "@jupyter-widgets/base",
      "model_module_version": "1.2.0",
      "model_name": "LayoutModel",
      "state": {
       "display": "inline-flex",
       "flex_flow": "row wrap",
       "width": "100%"
      }
     },
     "07f1e9bc500b486ead47a62683500f82": {
      "model_module": "@jupyter-widgets/base",
      "model_module_version": "1.2.0",
      "model_name": "LayoutModel",
      "state": {
       "display": "inline-flex",
       "flex_flow": "row wrap",
       "width": "100%"
      }
     },
     "07f28aadc38e49b2b8b7b5c60e8ef880": {
      "model_module": "@jupyter-widgets/controls",
      "model_module_version": "1.5.0",
      "model_name": "DescriptionStyleModel",
      "state": {
       "description_width": ""
      }
     },
     "082426e5906a404c895288a488ab1bd3": {
      "model_module": "@jupyter-widgets/controls",
      "model_module_version": "1.5.0",
      "model_name": "FloatProgressModel",
      "state": {
       "layout": "IPY_MODEL_921ecacbabd6455d8d6ed638863284b3",
       "max": 892,
       "style": "IPY_MODEL_ae4a39fddab3425798b015a4001386c2",
       "value": 892
      }
     },
     "08a4ff028d3e4320a606b7d97beb6476": {
      "model_module": "@jupyter-widgets/controls",
      "model_module_version": "1.5.0",
      "model_name": "DescriptionStyleModel",
      "state": {
       "description_width": ""
      }
     },
     "0a700d39d8bc44a79d09f85d7e0c83c9": {
      "model_module": "@jupyter-widgets/base",
      "model_module_version": "1.2.0",
      "model_name": "LayoutModel",
      "state": {}
     },
     "0b38444507374dc29f521eab4f84aca7": {
      "model_module": "@jupyter-widgets/controls",
      "model_module_version": "1.5.0",
      "model_name": "HTMLModel",
      "state": {
       "layout": "IPY_MODEL_4520ced22290481c961f23d7e5b6d693",
       "style": "IPY_MODEL_6b900cba46d14631bc20883435cfab29",
       "value": "Validation DataLoader 0: 100%"
      }
     },
     "0bd15151be1f408b9f05e98e5d7191a4": {
      "model_module": "@jupyter-widgets/base",
      "model_module_version": "1.2.0",
      "model_name": "LayoutModel",
      "state": {
       "display": "inline-flex",
       "flex_flow": "row wrap",
       "width": "100%"
      }
     },
     "0c2431d9179649c9bd23a56b414d274c": {
      "model_module": "@jupyter-widgets/controls",
      "model_module_version": "1.5.0",
      "model_name": "DescriptionStyleModel",
      "state": {
       "description_width": ""
      }
     },
     "0c785fd96cc9421b84243dca5e738166": {
      "model_module": "@jupyter-widgets/controls",
      "model_module_version": "1.5.0",
      "model_name": "DescriptionStyleModel",
      "state": {
       "description_width": ""
      }
     },
     "0c99b9c298c44c5a9c42e412ff28e7a8": {
      "model_module": "@jupyter-widgets/controls",
      "model_module_version": "1.5.0",
      "model_name": "DescriptionStyleModel",
      "state": {
       "description_width": ""
      }
     },
     "0d55e24de3ff4d8389e27fe972439614": {
      "model_module": "@jupyter-widgets/base",
      "model_module_version": "1.2.0",
      "model_name": "LayoutModel",
      "state": {
       "flex": "2"
      }
     },
     "0e17cff55d4941acb90f7b5e1cfa197f": {
      "model_module": "@jupyter-widgets/controls",
      "model_module_version": "1.5.0",
      "model_name": "FloatProgressModel",
      "state": {
       "layout": "IPY_MODEL_d51391dfa1fe4f288d726c67d56fb254",
       "max": 892,
       "style": "IPY_MODEL_b8c214acfa194c72b8c12f4af1b7f0fe",
       "value": 892
      }
     },
     "0f7f1ff0e685463e9caad5010f2fdfcc": {
      "model_module": "@jupyter-widgets/controls",
      "model_module_version": "1.5.0",
      "model_name": "ProgressStyleModel",
      "state": {
       "description_width": ""
      }
     },
     "10a1d8e026c64b60a3553b17af141a24": {
      "model_module": "@jupyter-widgets/base",
      "model_module_version": "1.2.0",
      "model_name": "LayoutModel",
      "state": {
       "flex": "2"
      }
     },
     "11b9673bfeb34f638febcdf5bb6ecc53": {
      "model_module": "@jupyter-widgets/controls",
      "model_module_version": "1.5.0",
      "model_name": "HTMLModel",
      "state": {
       "layout": "IPY_MODEL_fb2b8d808a0b403883952941e8f2b972",
       "style": "IPY_MODEL_94634d1253ac444da1592cd49ea23c18",
       "value": " 892/892 [01:27&lt;00:00, 10.87it/s]"
      }
     },
     "12446e20bb4443c5a279fbd1fc8064d3": {
      "model_module": "@jupyter-widgets/controls",
      "model_module_version": "1.5.0",
      "model_name": "FloatProgressModel",
      "state": {
       "layout": "IPY_MODEL_10a1d8e026c64b60a3553b17af141a24",
       "max": 892,
       "style": "IPY_MODEL_cfe7b1cca9ce449fb8fd97c5e3289a91",
       "value": 892
      }
     },
     "13798d334b1b4ee7b386dfc2e0ffdfba": {
      "model_module": "@jupyter-widgets/controls",
      "model_module_version": "1.5.0",
      "model_name": "FloatProgressModel",
      "state": {
       "layout": "IPY_MODEL_8c35d47a6ae14efe84ff63ac20de969d",
       "max": 892,
       "style": "IPY_MODEL_34541ff6216d42f284a1550e8fe91a5a",
       "value": 892
      }
     },
     "137b2354ff804088a371fe865ff0e61e": {
      "model_module": "@jupyter-widgets/base",
      "model_module_version": "1.2.0",
      "model_name": "LayoutModel",
      "state": {}
     },
     "13db659243894517ab1a42bf92aa6c77": {
      "model_module": "@jupyter-widgets/base",
      "model_module_version": "1.2.0",
      "model_name": "LayoutModel",
      "state": {}
     },
     "143f9fa92a344ff787ecda307fdb389a": {
      "model_module": "@jupyter-widgets/controls",
      "model_module_version": "1.5.0",
      "model_name": "DescriptionStyleModel",
      "state": {
       "description_width": ""
      }
     },
     "14d84c82a41d4026bcd74e2cd3c0bf1d": {
      "model_module": "@jupyter-widgets/controls",
      "model_module_version": "1.5.0",
      "model_name": "DescriptionStyleModel",
      "state": {
       "description_width": ""
      }
     },
     "15b952f84e8142f5ac6be6fb096e047b": {
      "model_module": "@jupyter-widgets/controls",
      "model_module_version": "1.5.0",
      "model_name": "HTMLModel",
      "state": {
       "layout": "IPY_MODEL_520bbab99ead4ad9854a65d4adebde6e",
       "style": "IPY_MODEL_5ca68a750cc34eb5bc9e2c14a5eccfa0",
       "value": "Validation DataLoader 0: 100%"
      }
     },
     "15ece280fc894f8c991175ec29ab711c": {
      "model_module": "@jupyter-widgets/base",
      "model_module_version": "1.2.0",
      "model_name": "LayoutModel",
      "state": {}
     },
     "162e32198c704914979e878b85700a81": {
      "model_module": "@jupyter-widgets/controls",
      "model_module_version": "1.5.0",
      "model_name": "DescriptionStyleModel",
      "state": {
       "description_width": ""
      }
     },
     "17f69b2218c648dc8b8f07756a6fd664": {
      "model_module": "@jupyter-widgets/base",
      "model_module_version": "1.2.0",
      "model_name": "LayoutModel",
      "state": {
       "flex": "2"
      }
     },
     "185777118ff945cc84b58334ca3eb579": {
      "model_module": "@jupyter-widgets/controls",
      "model_module_version": "1.5.0",
      "model_name": "ProgressStyleModel",
      "state": {
       "description_width": ""
      }
     },
     "1858f8b9a47d4f22b856e9e802c160fc": {
      "model_module": "@jupyter-widgets/controls",
      "model_module_version": "1.5.0",
      "model_name": "HTMLModel",
      "state": {
       "layout": "IPY_MODEL_380af2fa41a94cf8b05b955a0da39330",
       "style": "IPY_MODEL_040fb6a3848e413898229850aab24e75",
       "value": "Validation DataLoader 0: 100%"
      }
     },
     "18684841ffa04c4eb3be8a81c29bf7f1": {
      "model_module": "@jupyter-widgets/base",
      "model_module_version": "1.2.0",
      "model_name": "LayoutModel",
      "state": {
       "display": "inline-flex",
       "flex_flow": "row wrap",
       "width": "100%"
      }
     },
     "19a507bf032b42679bae7b13c1f30c28": {
      "model_module": "@jupyter-widgets/controls",
      "model_module_version": "1.5.0",
      "model_name": "ProgressStyleModel",
      "state": {
       "description_width": ""
      }
     },
     "19f742f4fef840319b8c53898613372f": {
      "model_module": "@jupyter-widgets/base",
      "model_module_version": "1.2.0",
      "model_name": "LayoutModel",
      "state": {
       "flex": "2"
      }
     },
     "1a35e91a96094ceeae4fa718df64ca96": {
      "model_module": "@jupyter-widgets/controls",
      "model_module_version": "1.5.0",
      "model_name": "DescriptionStyleModel",
      "state": {
       "description_width": ""
      }
     },
     "1a8b5ca8af6649738065a5636b5635da": {
      "model_module": "@jupyter-widgets/base",
      "model_module_version": "1.2.0",
      "model_name": "LayoutModel",
      "state": {}
     },
     "1a8ba5dd5d5243afb127e85eae5eac30": {
      "model_module": "@jupyter-widgets/controls",
      "model_module_version": "1.5.0",
      "model_name": "FloatProgressModel",
      "state": {
       "layout": "IPY_MODEL_d2f06cfd4c8542929b97b8e5b2000415",
       "max": 892,
       "style": "IPY_MODEL_8602b32ae6e64253b162c71b31f94df3",
       "value": 892
      }
     },
     "1aced2708b48410cba04260b46a8f415": {
      "model_module": "@jupyter-widgets/base",
      "model_module_version": "1.2.0",
      "model_name": "LayoutModel",
      "state": {
       "flex": "2"
      }
     },
     "1b0c448da0074d0390f12de3849f4aa5": {
      "model_module": "@jupyter-widgets/controls",
      "model_module_version": "1.5.0",
      "model_name": "DescriptionStyleModel",
      "state": {
       "description_width": ""
      }
     },
     "1b2b0296030343b383a491676eab49af": {
      "model_module": "@jupyter-widgets/base",
      "model_module_version": "1.2.0",
      "model_name": "LayoutModel",
      "state": {
       "display": "inline-flex",
       "flex_flow": "row wrap",
       "width": "100%"
      }
     },
     "1bfbdec6708e4d77be79763e94873eb9": {
      "model_module": "@jupyter-widgets/controls",
      "model_module_version": "1.5.0",
      "model_name": "ProgressStyleModel",
      "state": {
       "description_width": ""
      }
     },
     "1c121318c95640939b792e5ff60f5918": {
      "model_module": "@jupyter-widgets/controls",
      "model_module_version": "1.5.0",
      "model_name": "DescriptionStyleModel",
      "state": {
       "description_width": ""
      }
     },
     "1c3cd42ebca4472bafda3fc2ae4d8d52": {
      "model_module": "@jupyter-widgets/base",
      "model_module_version": "1.2.0",
      "model_name": "LayoutModel",
      "state": {}
     },
     "1c4852c8b3ca421896a6c1b5c52fbf1b": {
      "model_module": "@jupyter-widgets/controls",
      "model_module_version": "1.5.0",
      "model_name": "FloatProgressModel",
      "state": {
       "layout": "IPY_MODEL_b149f41195d74da5a0e1b9bebc2dad77",
       "max": 892,
       "style": "IPY_MODEL_ae44392b662148dc9674356d4ee2726a",
       "value": 892
      }
     },
     "1d48dea813e84d44ae98e85a90a5aa6b": {
      "model_module": "@jupyter-widgets/controls",
      "model_module_version": "1.5.0",
      "model_name": "HTMLModel",
      "state": {
       "layout": "IPY_MODEL_15ece280fc894f8c991175ec29ab711c",
       "style": "IPY_MODEL_69dc4b1a7f6140c1968e2a8976194b0d",
       "value": "Sanity Checking DataLoader 0: 100%"
      }
     },
     "1e1da4df104b4a859b4c28505830eb93": {
      "model_module": "@jupyter-widgets/base",
      "model_module_version": "1.2.0",
      "model_name": "LayoutModel",
      "state": {}
     },
     "1edbc838cfff4fb5ac9e6dd4e64bc8e9": {
      "model_module": "@jupyter-widgets/controls",
      "model_module_version": "1.5.0",
      "model_name": "ProgressStyleModel",
      "state": {
       "description_width": ""
      }
     },
     "1f2b5bef550e43a7a22313e024486739": {
      "model_module": "@jupyter-widgets/controls",
      "model_module_version": "1.5.0",
      "model_name": "DescriptionStyleModel",
      "state": {
       "description_width": ""
      }
     },
     "1f929cc80bbe472e9c5aa30f6831e340": {
      "model_module": "@jupyter-widgets/controls",
      "model_module_version": "1.5.0",
      "model_name": "DescriptionStyleModel",
      "state": {
       "description_width": ""
      }
     },
     "21a86088af24485a928ef9d0c47a1e5f": {
      "model_module": "@jupyter-widgets/controls",
      "model_module_version": "1.5.0",
      "model_name": "DescriptionStyleModel",
      "state": {
       "description_width": ""
      }
     },
     "223bd5c6caff424fb90d99532082eae0": {
      "model_module": "@jupyter-widgets/controls",
      "model_module_version": "1.5.0",
      "model_name": "DescriptionStyleModel",
      "state": {
       "description_width": ""
      }
     },
     "224f5c855ff6459fafa11a09827bb19f": {
      "model_module": "@jupyter-widgets/controls",
      "model_module_version": "1.5.0",
      "model_name": "HBoxModel",
      "state": {
       "children": [
        "IPY_MODEL_fa634674b48a4cd2a319521d39d1cd69",
        "IPY_MODEL_37bd0b8336354f1cb4fcf769c511a5c0",
        "IPY_MODEL_53102480eadf4b5f93f424724f9090c8"
       ],
       "layout": "IPY_MODEL_482c713bda384a43b6af2b6ab2f39add"
      }
     },
     "2268517c6278429888c2954eb073250f": {
      "model_module": "@jupyter-widgets/controls",
      "model_module_version": "1.5.0",
      "model_name": "HTMLModel",
      "state": {
       "layout": "IPY_MODEL_60c76349725d48238ef25d0c21e18b92",
       "style": "IPY_MODEL_0c99b9c298c44c5a9c42e412ff28e7a8",
       "value": "Validation DataLoader 0: 100%"
      }
     },
     "2306f833d03348cc9b4d156e09bd4e3f": {
      "model_module": "@jupyter-widgets/controls",
      "model_module_version": "1.5.0",
      "model_name": "ProgressStyleModel",
      "state": {
       "description_width": ""
      }
     },
     "232ff6f8f8f14d809f1eb0c379298913": {
      "model_module": "@jupyter-widgets/controls",
      "model_module_version": "1.5.0",
      "model_name": "ProgressStyleModel",
      "state": {
       "description_width": ""
      }
     },
     "23ea5273aea6484fa4d7c4c9a6491f46": {
      "model_module": "@jupyter-widgets/base",
      "model_module_version": "1.2.0",
      "model_name": "LayoutModel",
      "state": {
       "display": "inline-flex",
       "flex_flow": "row wrap",
       "width": "100%"
      }
     },
     "24a5f1523ca94d9d9fa0b38ea33f0329": {
      "model_module": "@jupyter-widgets/base",
      "model_module_version": "1.2.0",
      "model_name": "LayoutModel",
      "state": {
       "display": "inline-flex",
       "flex_flow": "row wrap",
       "width": "100%"
      }
     },
     "24ff7d51e8894cc5b1a0fa1f71ffafda": {
      "model_module": "@jupyter-widgets/controls",
      "model_module_version": "1.5.0",
      "model_name": "ProgressStyleModel",
      "state": {
       "description_width": ""
      }
     },
     "2522afab8ce14e5ab198069d873e9525": {
      "model_module": "@jupyter-widgets/controls",
      "model_module_version": "1.5.0",
      "model_name": "HTMLModel",
      "state": {
       "layout": "IPY_MODEL_b733de402e774ace87b6db6a9fd51a41",
       "style": "IPY_MODEL_21a86088af24485a928ef9d0c47a1e5f",
       "value": "Validation DataLoader 0: 100%"
      }
     },
     "253cf34b727f440086a9bd1fc26c5260": {
      "model_module": "@jupyter-widgets/controls",
      "model_module_version": "1.5.0",
      "model_name": "HTMLModel",
      "state": {
       "layout": "IPY_MODEL_c16916afa85342d7bde05287a589aa80",
       "style": "IPY_MODEL_66637916fae440eca4c32baf8cbc98a3",
       "value": " 892/892 [01:28&lt;00:00, 10.65it/s]"
      }
     },
     "26647afe37db44ea806e254c6e735e49": {
      "model_module": "@jupyter-widgets/base",
      "model_module_version": "1.2.0",
      "model_name": "LayoutModel",
      "state": {
       "flex": "2"
      }
     },
     "2688b5340bb0472a8077e1af0c36fc07": {
      "model_module": "@jupyter-widgets/base",
      "model_module_version": "1.2.0",
      "model_name": "LayoutModel",
      "state": {
       "flex": "2"
      }
     },
     "2717c8161e6c44b392df034ffaf94f8f": {
      "model_module": "@jupyter-widgets/controls",
      "model_module_version": "1.5.0",
      "model_name": "FloatProgressModel",
      "state": {
       "layout": "IPY_MODEL_b465e36be268437ab94d89311786e7ca",
       "max": 892,
       "style": "IPY_MODEL_741aa8dc681c49c5832594c4d4097ec0",
       "value": 892
      }
     },
     "27d91184aaa74bfa86347144d1c4e556": {
      "model_module": "@jupyter-widgets/base",
      "model_module_version": "1.2.0",
      "model_name": "LayoutModel",
      "state": {
       "flex": "2"
      }
     },
     "28347b89f93f446594dab1c0577d3ea3": {
      "model_module": "@jupyter-widgets/controls",
      "model_module_version": "1.5.0",
      "model_name": "HTMLModel",
      "state": {
       "layout": "IPY_MODEL_91eec9a8cbba4afc9244d2c5eb54b54a",
       "style": "IPY_MODEL_0c785fd96cc9421b84243dca5e738166",
       "value": "Validation DataLoader 0: 100%"
      }
     },
     "29454fd5bbd344678b8a3f6fba86220b": {
      "model_module": "@jupyter-widgets/base",
      "model_module_version": "1.2.0",
      "model_name": "LayoutModel",
      "state": {}
     },
     "295e969a33c84fed8a7fe6bb3274600a": {
      "model_module": "@jupyter-widgets/base",
      "model_module_version": "1.2.0",
      "model_name": "LayoutModel",
      "state": {
       "display": "inline-flex",
       "flex_flow": "row wrap",
       "width": "100%"
      }
     },
     "2af97ad1c6894c0fbb9499d75cd4ba97": {
      "model_module": "@jupyter-widgets/base",
      "model_module_version": "1.2.0",
      "model_name": "LayoutModel",
      "state": {
       "display": "inline-flex",
       "flex_flow": "row wrap",
       "width": "100%"
      }
     },
     "2b73ee3daa564f27b436e9d7e2b5090e": {
      "model_module": "@jupyter-widgets/base",
      "model_module_version": "1.2.0",
      "model_name": "LayoutModel",
      "state": {}
     },
     "2babb7931f064a728be24d4475c5b2e6": {
      "model_module": "@jupyter-widgets/controls",
      "model_module_version": "1.5.0",
      "model_name": "DescriptionStyleModel",
      "state": {
       "description_width": ""
      }
     },
     "2c4b0676eea44f27ba7d305839ab665a": {
      "model_module": "@jupyter-widgets/controls",
      "model_module_version": "1.5.0",
      "model_name": "DescriptionStyleModel",
      "state": {
       "description_width": ""
      }
     },
     "2d86fa39a9644714b8c82d1d207095c9": {
      "model_module": "@jupyter-widgets/controls",
      "model_module_version": "1.5.0",
      "model_name": "HTMLModel",
      "state": {
       "layout": "IPY_MODEL_db347afbf4684b3f8e9b5404f28dfa38",
       "style": "IPY_MODEL_1c121318c95640939b792e5ff60f5918",
       "value": " 892/892 [01:27&lt;00:00, 10.57it/s]"
      }
     },
     "2d9a3a101b93424e9870a306f12b0818": {
      "model_module": "@jupyter-widgets/base",
      "model_module_version": "1.2.0",
      "model_name": "LayoutModel",
      "state": {
       "flex": "2"
      }
     },
     "2e2d9a75125745ecb683b035701e3616": {
      "model_module": "@jupyter-widgets/base",
      "model_module_version": "1.2.0",
      "model_name": "LayoutModel",
      "state": {
       "display": "inline-flex",
       "flex_flow": "row wrap",
       "width": "100%"
      }
     },
     "2e9192d12a724d429fad62044051b3fc": {
      "model_module": "@jupyter-widgets/base",
      "model_module_version": "1.2.0",
      "model_name": "LayoutModel",
      "state": {}
     },
     "2f15943f5ee14555b7a4a68c794b6781": {
      "model_module": "@jupyter-widgets/controls",
      "model_module_version": "1.5.0",
      "model_name": "HTMLModel",
      "state": {
       "layout": "IPY_MODEL_dc1a205ad5d04e19a7d646975945f556",
       "style": "IPY_MODEL_143f9fa92a344ff787ecda307fdb389a",
       "value": "Validation DataLoader 0: 100%"
      }
     },
     "2f893715053c47b5a5a2bd63d755c02b": {
      "model_module": "@jupyter-widgets/base",
      "model_module_version": "1.2.0",
      "model_name": "LayoutModel",
      "state": {
       "display": "inline-flex",
       "flex_flow": "row wrap",
       "width": "100%"
      }
     },
     "2f98b71ced7140a2b5768efa2157ee99": {
      "model_module": "@jupyter-widgets/base",
      "model_module_version": "1.2.0",
      "model_name": "LayoutModel",
      "state": {}
     },
     "30907ae9228a4cb7870b6fd8c5b08bba": {
      "model_module": "@jupyter-widgets/controls",
      "model_module_version": "1.5.0",
      "model_name": "DescriptionStyleModel",
      "state": {
       "description_width": ""
      }
     },
     "31130457e08147a9b80e81e61b07a93a": {
      "model_module": "@jupyter-widgets/base",
      "model_module_version": "1.2.0",
      "model_name": "LayoutModel",
      "state": {
       "flex": "2"
      }
     },
     "31af036f19fd4d09bb1987cd9048e86e": {
      "model_module": "@jupyter-widgets/controls",
      "model_module_version": "1.5.0",
      "model_name": "DescriptionStyleModel",
      "state": {
       "description_width": ""
      }
     },
     "33124814105a49d289148251360b1b98": {
      "model_module": "@jupyter-widgets/controls",
      "model_module_version": "1.5.0",
      "model_name": "FloatProgressModel",
      "state": {
       "layout": "IPY_MODEL_27d91184aaa74bfa86347144d1c4e556",
       "max": 892,
       "style": "IPY_MODEL_785724483cd94f438fdce63266291355",
       "value": 892
      }
     },
     "34541ff6216d42f284a1550e8fe91a5a": {
      "model_module": "@jupyter-widgets/controls",
      "model_module_version": "1.5.0",
      "model_name": "ProgressStyleModel",
      "state": {
       "description_width": ""
      }
     },
     "34b722579fdf43d19d488902555ea56e": {
      "model_module": "@jupyter-widgets/controls",
      "model_module_version": "1.5.0",
      "model_name": "DescriptionStyleModel",
      "state": {
       "description_width": ""
      }
     },
     "36507db18715498dbe7fc5a445b2f2b3": {
      "model_module": "@jupyter-widgets/controls",
      "model_module_version": "1.5.0",
      "model_name": "HTMLModel",
      "state": {
       "layout": "IPY_MODEL_aa88322c59a14d32b280a9f2f45d92f7",
       "style": "IPY_MODEL_39b986185d014eb5be1cd8da27437eaa",
       "value": "Validation DataLoader 0: 100%"
      }
     },
     "36e08a685ab845e796d92884c0ea2c3b": {
      "model_module": "@jupyter-widgets/controls",
      "model_module_version": "1.5.0",
      "model_name": "DescriptionStyleModel",
      "state": {
       "description_width": ""
      }
     },
     "37bd0b8336354f1cb4fcf769c511a5c0": {
      "model_module": "@jupyter-widgets/controls",
      "model_module_version": "1.5.0",
      "model_name": "FloatProgressModel",
      "state": {
       "bar_style": "success",
       "layout": "IPY_MODEL_8d4250eb4f354eafa733c2f7907e74cd",
       "max": 5235,
       "style": "IPY_MODEL_6bc8c8fa4c01493c93859759cc83b561",
       "value": 5235
      }
     },
     "37cb00d8d3f14a15b634a2632a25e8e6": {
      "model_module": "@jupyter-widgets/base",
      "model_module_version": "1.2.0",
      "model_name": "LayoutModel",
      "state": {
       "display": "inline-flex",
       "flex_flow": "row wrap",
       "width": "100%"
      }
     },
     "37dafad9b453437190a5ea9883b068c3": {
      "model_module": "@jupyter-widgets/base",
      "model_module_version": "1.2.0",
      "model_name": "LayoutModel",
      "state": {
       "display": "inline-flex",
       "flex_flow": "row wrap",
       "width": "100%"
      }
     },
     "380af2fa41a94cf8b05b955a0da39330": {
      "model_module": "@jupyter-widgets/base",
      "model_module_version": "1.2.0",
      "model_name": "LayoutModel",
      "state": {}
     },
     "383dc538b38e48f6b6636c8e2e049bfa": {
      "model_module": "@jupyter-widgets/controls",
      "model_module_version": "1.5.0",
      "model_name": "HTMLModel",
      "state": {
       "layout": "IPY_MODEL_a2685ae14620492fa42a1feabcc2abe0",
       "style": "IPY_MODEL_07f28aadc38e49b2b8b7b5c60e8ef880",
       "value": "Validation DataLoader 0: 100%"
      }
     },
     "38b60c2b89aa4ffc836d642b1e88d220": {
      "model_module": "@jupyter-widgets/base",
      "model_module_version": "1.2.0",
      "model_name": "LayoutModel",
      "state": {}
     },
     "3929aa228456431289f4db19538205ea": {
      "model_module": "@jupyter-widgets/controls",
      "model_module_version": "1.5.0",
      "model_name": "HTMLModel",
      "state": {
       "layout": "IPY_MODEL_49097a384e8b4cbfaca6e3b488075d46",
       "style": "IPY_MODEL_ee36297d0b3d42d4b44648a675c54ef9",
       "value": "Validation DataLoader 0: 100%"
      }
     },
     "39b986185d014eb5be1cd8da27437eaa": {
      "model_module": "@jupyter-widgets/controls",
      "model_module_version": "1.5.0",
      "model_name": "DescriptionStyleModel",
      "state": {
       "description_width": ""
      }
     },
     "39e8d3881186410aae4169ac8c0ab093": {
      "model_module": "@jupyter-widgets/base",
      "model_module_version": "1.2.0",
      "model_name": "LayoutModel",
      "state": {}
     },
     "3a457d221a1447889b6bcc9ceacb68f6": {
      "model_module": "@jupyter-widgets/controls",
      "model_module_version": "1.5.0",
      "model_name": "DescriptionStyleModel",
      "state": {
       "description_width": ""
      }
     },
     "3a658f417eed46ac886e5e2e3e0d1383": {
      "model_module": "@jupyter-widgets/controls",
      "model_module_version": "1.5.0",
      "model_name": "DescriptionStyleModel",
      "state": {
       "description_width": ""
      }
     },
     "3a85b534c0614d8eb469b380ef3bbbad": {
      "model_module": "@jupyter-widgets/controls",
      "model_module_version": "1.5.0",
      "model_name": "HTMLModel",
      "state": {
       "layout": "IPY_MODEL_e890b1844b07448e9e04facada7951ea",
       "style": "IPY_MODEL_53173cca98b545adabb3ed0b4ce244cc",
       "value": " 892/892 [01:27&lt;00:00, 10.41it/s]"
      }
     },
     "3b15a3573e13422d9357231b953c1e72": {
      "model_module": "@jupyter-widgets/controls",
      "model_module_version": "1.5.0",
      "model_name": "HTMLModel",
      "state": {
       "layout": "IPY_MODEL_647244e684504ea5bbd0b04d96eabc69",
       "style": "IPY_MODEL_a4252a08e489491194530d4462a29c50",
       "value": " 892/892 [01:27&lt;00:00, 11.02it/s]"
      }
     },
     "3b7b2065983146e399f815a8917b9fe0": {
      "model_module": "@jupyter-widgets/controls",
      "model_module_version": "1.5.0",
      "model_name": "HTMLModel",
      "state": {
       "layout": "IPY_MODEL_58384ba1224e4a189defe0dba58380bc",
       "style": "IPY_MODEL_b20b4936deae476c8a1b0fc382247dd9",
       "value": "Validation DataLoader 0: 100%"
      }
     },
     "3c23569bf46841cb922d7381511d3ebb": {
      "model_module": "@jupyter-widgets/base",
      "model_module_version": "1.2.0",
      "model_name": "LayoutModel",
      "state": {
       "display": "inline-flex",
       "flex_flow": "row wrap",
       "width": "100%"
      }
     },
     "3c781853a63141d494764f8a9efad5ac": {
      "model_module": "@jupyter-widgets/controls",
      "model_module_version": "1.5.0",
      "model_name": "FloatProgressModel",
      "state": {
       "layout": "IPY_MODEL_7f06f15acae24f52a461c7dfefe03b9c",
       "max": 892,
       "style": "IPY_MODEL_be2fe4b1291e4316a9959468a9e988e0",
       "value": 892
      }
     },
     "3c7a1f07f01d40379b8d03da494f850b": {
      "model_module": "@jupyter-widgets/base",
      "model_module_version": "1.2.0",
      "model_name": "LayoutModel",
      "state": {}
     },
     "3cadf72292404de68782d7087d63ddaa": {
      "model_module": "@jupyter-widgets/controls",
      "model_module_version": "1.5.0",
      "model_name": "DescriptionStyleModel",
      "state": {
       "description_width": ""
      }
     },
     "3d87d0c7862344b98c1460fe1cf93b4d": {
      "model_module": "@jupyter-widgets/base",
      "model_module_version": "1.2.0",
      "model_name": "LayoutModel",
      "state": {}
     },
     "3d8dfba879e74fdeb528f5e12721b8e7": {
      "model_module": "@jupyter-widgets/controls",
      "model_module_version": "1.5.0",
      "model_name": "DescriptionStyleModel",
      "state": {
       "description_width": ""
      }
     },
     "3da198a249ec4c2d8621c062c9cdffe5": {
      "model_module": "@jupyter-widgets/controls",
      "model_module_version": "1.5.0",
      "model_name": "ProgressStyleModel",
      "state": {
       "description_width": ""
      }
     },
     "3dec1a9b8c42464d965214ca699a6772": {
      "model_module": "@jupyter-widgets/controls",
      "model_module_version": "1.5.0",
      "model_name": "DescriptionStyleModel",
      "state": {
       "description_width": ""
      }
     },
     "3e8335ec4ed540ff9eb4a6859999192f": {
      "model_module": "@jupyter-widgets/controls",
      "model_module_version": "1.5.0",
      "model_name": "HTMLModel",
      "state": {
       "layout": "IPY_MODEL_ff01843be5e04a258b0f2b44040ba53a",
       "style": "IPY_MODEL_14d84c82a41d4026bcd74e2cd3c0bf1d",
       "value": "Validation DataLoader 0: 100%"
      }
     },
     "3f678776900c4df3974f748fb5a8d1bd": {
      "model_module": "@jupyter-widgets/controls",
      "model_module_version": "1.5.0",
      "model_name": "HTMLModel",
      "state": {
       "layout": "IPY_MODEL_d414ffa0da0343efa2a25e8495fa6915",
       "style": "IPY_MODEL_655868fb755a482aa9edee03c3e346b8",
       "value": " 892/892 [01:27&lt;00:00, 10.84it/s]"
      }
     },
     "3f6a22630ba9450eb00af588af61e187": {
      "model_module": "@jupyter-widgets/base",
      "model_module_version": "1.2.0",
      "model_name": "LayoutModel",
      "state": {}
     },
     "3f6c2bbf4e0b4c96af54ba2014f9a5e1": {
      "model_module": "@jupyter-widgets/base",
      "model_module_version": "1.2.0",
      "model_name": "LayoutModel",
      "state": {
       "display": "inline-flex",
       "flex_flow": "row wrap",
       "width": "100%"
      }
     },
     "3f9d122624dc4795beeed2fc809d55f3": {
      "model_module": "@jupyter-widgets/controls",
      "model_module_version": "1.5.0",
      "model_name": "HTMLModel",
      "state": {
       "layout": "IPY_MODEL_5c01434b901e42ba9dc1e80b84803270",
       "style": "IPY_MODEL_530429d35d7c4c5688be5cd822b8c9cb",
       "value": "Validation DataLoader 0: 100%"
      }
     },
     "422984668e2a488bb1e38e4f5b41a65e": {
      "model_module": "@jupyter-widgets/base",
      "model_module_version": "1.2.0",
      "model_name": "LayoutModel",
      "state": {
       "flex": "2"
      }
     },
     "4250558c278a44719a4975e5d64a5ea8": {
      "model_module": "@jupyter-widgets/controls",
      "model_module_version": "1.5.0",
      "model_name": "DescriptionStyleModel",
      "state": {
       "description_width": ""
      }
     },
     "4336da111d6f4e8195f56b7c5456f341": {
      "model_module": "@jupyter-widgets/base",
      "model_module_version": "1.2.0",
      "model_name": "LayoutModel",
      "state": {
       "flex": "2"
      }
     },
     "43b1dc2f4ae6489aa2111fa8537bf55b": {
      "model_module": "@jupyter-widgets/controls",
      "model_module_version": "1.5.0",
      "model_name": "HTMLModel",
      "state": {
       "layout": "IPY_MODEL_c355f6d065dc429cbdbec425892fb421",
       "style": "IPY_MODEL_5aee6150fee64f86be91f26e5934acb4",
       "value": " 892/892 [01:27&lt;00:00, 10.62it/s]"
      }
     },
     "44762c5ff1264baf8960ff938d11dce2": {
      "model_module": "@jupyter-widgets/controls",
      "model_module_version": "1.5.0",
      "model_name": "DescriptionStyleModel",
      "state": {
       "description_width": ""
      }
     },
     "44a1106a46c44d4fa26a42a44ccb12de": {
      "model_module": "@jupyter-widgets/base",
      "model_module_version": "1.2.0",
      "model_name": "LayoutModel",
      "state": {}
     },
     "4520ced22290481c961f23d7e5b6d693": {
      "model_module": "@jupyter-widgets/base",
      "model_module_version": "1.2.0",
      "model_name": "LayoutModel",
      "state": {}
     },
     "45ff295b42a244569df062accb9336aa": {
      "model_module": "@jupyter-widgets/base",
      "model_module_version": "1.2.0",
      "model_name": "LayoutModel",
      "state": {}
     },
     "46e8a09950fd4abdab1b61407b9b38b8": {
      "model_module": "@jupyter-widgets/controls",
      "model_module_version": "1.5.0",
      "model_name": "FloatProgressModel",
      "state": {
       "layout": "IPY_MODEL_ce8782b71e1f4339b02dc3fa5731461d",
       "max": 892,
       "style": "IPY_MODEL_e7281cdea7d544cc8003b1468a0c22ba",
       "value": 892
      }
     },
     "47a46a2497cc4c278e9a746be25df7b5": {
      "model_module": "@jupyter-widgets/controls",
      "model_module_version": "1.5.0",
      "model_name": "DescriptionStyleModel",
      "state": {
       "description_width": ""
      }
     },
     "482c713bda384a43b6af2b6ab2f39add": {
      "model_module": "@jupyter-widgets/base",
      "model_module_version": "1.2.0",
      "model_name": "LayoutModel",
      "state": {
       "display": "inline-flex",
       "flex_flow": "row wrap",
       "width": "100%"
      }
     },
     "49097a384e8b4cbfaca6e3b488075d46": {
      "model_module": "@jupyter-widgets/base",
      "model_module_version": "1.2.0",
      "model_name": "LayoutModel",
      "state": {}
     },
     "497c2f40ea8f4812b4929d0cfb07cec4": {
      "model_module": "@jupyter-widgets/controls",
      "model_module_version": "1.5.0",
      "model_name": "DescriptionStyleModel",
      "state": {
       "description_width": ""
      }
     },
     "4aac555b7ab249d5a2cfdf8188c559ad": {
      "model_module": "@jupyter-widgets/controls",
      "model_module_version": "1.5.0",
      "model_name": "FloatProgressModel",
      "state": {
       "layout": "IPY_MODEL_1aced2708b48410cba04260b46a8f415",
       "max": 892,
       "style": "IPY_MODEL_020c254b9e6d417dab2663a4543ea1db",
       "value": 892
      }
     },
     "4b463ea4b9b94e2f9852fdd8fd52a06d": {
      "model_module": "@jupyter-widgets/controls",
      "model_module_version": "1.5.0",
      "model_name": "DescriptionStyleModel",
      "state": {
       "description_width": ""
      }
     },
     "4bbb4822b72244da90cea6cdaa503262": {
      "model_module": "@jupyter-widgets/base",
      "model_module_version": "1.2.0",
      "model_name": "LayoutModel",
      "state": {}
     },
     "4be32bdcc03947f6a0d06ecf779652ff": {
      "model_module": "@jupyter-widgets/controls",
      "model_module_version": "1.5.0",
      "model_name": "FloatProgressModel",
      "state": {
       "layout": "IPY_MODEL_558598fe6a8d4d04a7e8a85dca46cd1e",
       "max": 892,
       "style": "IPY_MODEL_861a3aceb4fa4131aa5458ca857179ca",
       "value": 892
      }
     },
     "4c4c9161ce5e4f56bde22a1391d32b33": {
      "model_module": "@jupyter-widgets/controls",
      "model_module_version": "1.5.0",
      "model_name": "DescriptionStyleModel",
      "state": {
       "description_width": ""
      }
     },
     "4c85a8083c724d448d8c3f6446b8beb6": {
      "model_module": "@jupyter-widgets/controls",
      "model_module_version": "1.5.0",
      "model_name": "HTMLModel",
      "state": {
       "layout": "IPY_MODEL_82f32e623ff7474eb6672211e265dae0",
       "style": "IPY_MODEL_c3a081e4316b4e2684d12d76b9a09260",
       "value": " 892/892 [01:28&lt;00:00, 10.80it/s]"
      }
     },
     "4cec5880c99b4dad92a30f935520e552": {
      "model_module": "@jupyter-widgets/base",
      "model_module_version": "1.2.0",
      "model_name": "LayoutModel",
      "state": {
       "display": "inline-flex",
       "flex_flow": "row wrap",
       "width": "100%"
      }
     },
     "4dc8be287bfa4dc081e9b03a9a5f84b3": {
      "model_module": "@jupyter-widgets/controls",
      "model_module_version": "1.5.0",
      "model_name": "HTMLModel",
      "state": {
       "layout": "IPY_MODEL_9daf73b1c1c546ee80c091b297e678fa",
       "style": "IPY_MODEL_81cb7ba360ef4850b1aca3481e3508e3",
       "value": "Validation DataLoader 0: 100%"
      }
     },
     "4e16b78a7ffe441eace1f5822b6683e1": {
      "model_module": "@jupyter-widgets/controls",
      "model_module_version": "1.5.0",
      "model_name": "HTMLModel",
      "state": {
       "layout": "IPY_MODEL_73d79020a325401db32f53b3c05b4dab",
       "style": "IPY_MODEL_fca93c0b6f7440d2b12f60b6b74d3114",
       "value": " 892/892 [01:27&lt;00:00, 10.66it/s]"
      }
     },
     "4e47b7773c844795814475eaf725dfbe": {
      "model_module": "@jupyter-widgets/base",
      "model_module_version": "1.2.0",
      "model_name": "LayoutModel",
      "state": {
       "display": "inline-flex",
       "flex_flow": "row wrap",
       "width": "100%"
      }
     },
     "4fa58f901fa14678a717e0006fe2c0f4": {
      "model_module": "@jupyter-widgets/controls",
      "model_module_version": "1.5.0",
      "model_name": "HTMLModel",
      "state": {
       "layout": "IPY_MODEL_39e8d3881186410aae4169ac8c0ab093",
       "style": "IPY_MODEL_58fe485634b442cdbf7db21ff0946dec",
       "value": " 892/892 [01:28&lt;00:00, 10.67it/s]"
      }
     },
     "4fa798a5ad2540efb50ca9479069c76d": {
      "model_module": "@jupyter-widgets/controls",
      "model_module_version": "1.5.0",
      "model_name": "FloatProgressModel",
      "state": {
       "layout": "IPY_MODEL_72b02babf29b493899a739fda19ebfeb",
       "max": 892,
       "style": "IPY_MODEL_8950a456814645e9bc8a1f97e4637824",
       "value": 892
      }
     },
     "4fd5be91db3544cb90241f658ee288a5": {
      "model_module": "@jupyter-widgets/controls",
      "model_module_version": "1.5.0",
      "model_name": "FloatProgressModel",
      "state": {
       "layout": "IPY_MODEL_a1f859fcb72b4201aade293a19273c8f",
       "max": 892,
       "style": "IPY_MODEL_185777118ff945cc84b58334ca3eb579",
       "value": 892
      }
     },
     "500eb6a70377474ca6ab8bdfbed1423c": {
      "model_module": "@jupyter-widgets/base",
      "model_module_version": "1.2.0",
      "model_name": "LayoutModel",
      "state": {}
     },
     "502a62eeedea4bbe8f9fb0c5ccd2af5d": {
      "model_module": "@jupyter-widgets/controls",
      "model_module_version": "1.5.0",
      "model_name": "HTMLModel",
      "state": {
       "layout": "IPY_MODEL_52fd1c92e13d4590a3aa73614a4bfad2",
       "style": "IPY_MODEL_9259592f8add473ab0f10221d9ee88ac",
       "value": " 892/892 [01:27&lt;00:00, 11.01it/s]"
      }
     },
     "50327cfaae4c487d9b72d3e6cbea36ad": {
      "model_module": "@jupyter-widgets/controls",
      "model_module_version": "1.5.0",
      "model_name": "HTMLModel",
      "state": {
       "layout": "IPY_MODEL_13db659243894517ab1a42bf92aa6c77",
       "style": "IPY_MODEL_162e32198c704914979e878b85700a81",
       "value": "Validation DataLoader 0: 100%"
      }
     },
     "5138d8f9e1e6470b9e13ce5270906fe9": {
      "model_module": "@jupyter-widgets/controls",
      "model_module_version": "1.5.0",
      "model_name": "ProgressStyleModel",
      "state": {
       "description_width": ""
      }
     },
     "516e8e50580442368cca9f63e7a8fe45": {
      "model_module": "@jupyter-widgets/base",
      "model_module_version": "1.2.0",
      "model_name": "LayoutModel",
      "state": {
       "display": "inline-flex",
       "flex_flow": "row wrap",
       "width": "100%"
      }
     },
     "51ad69384b844760b32b6b150c99e6ad": {
      "model_module": "@jupyter-widgets/base",
      "model_module_version": "1.2.0",
      "model_name": "LayoutModel",
      "state": {}
     },
     "520bbab99ead4ad9854a65d4adebde6e": {
      "model_module": "@jupyter-widgets/base",
      "model_module_version": "1.2.0",
      "model_name": "LayoutModel",
      "state": {}
     },
     "52fd1c92e13d4590a3aa73614a4bfad2": {
      "model_module": "@jupyter-widgets/base",
      "model_module_version": "1.2.0",
      "model_name": "LayoutModel",
      "state": {}
     },
     "530429d35d7c4c5688be5cd822b8c9cb": {
      "model_module": "@jupyter-widgets/controls",
      "model_module_version": "1.5.0",
      "model_name": "DescriptionStyleModel",
      "state": {
       "description_width": ""
      }
     },
     "530d23626c8e4374b396fcb818991fee": {
      "model_module": "@jupyter-widgets/controls",
      "model_module_version": "1.5.0",
      "model_name": "FloatProgressModel",
      "state": {
       "layout": "IPY_MODEL_fdc119af0a644909969a11e346e69cd8",
       "max": 892,
       "style": "IPY_MODEL_6a7ccaa3a40443b0aae4d425e5be039a",
       "value": 892
      }
     },
     "53102480eadf4b5f93f424724f9090c8": {
      "model_module": "@jupyter-widgets/controls",
      "model_module_version": "1.5.0",
      "model_name": "HTMLModel",
      "state": {
       "layout": "IPY_MODEL_067b95f705ba456b8b8deae7dab03bd0",
       "style": "IPY_MODEL_4b463ea4b9b94e2f9852fdd8fd52a06d",
       "value": " 5235/5235 [12:04&lt;00:00,  7.23it/s, loss=0.00108, v_num=5, validation_loss=0.00136]"
      }
     },
     "53173cca98b545adabb3ed0b4ce244cc": {
      "model_module": "@jupyter-widgets/controls",
      "model_module_version": "1.5.0",
      "model_name": "DescriptionStyleModel",
      "state": {
       "description_width": ""
      }
     },
     "5417ce94454f407b8f52748faa9b774f": {
      "model_module": "@jupyter-widgets/base",
      "model_module_version": "1.2.0",
      "model_name": "LayoutModel",
      "state": {}
     },
     "542313215691443db26743b55080bfd3": {
      "model_module": "@jupyter-widgets/controls",
      "model_module_version": "1.5.0",
      "model_name": "HTMLModel",
      "state": {
       "layout": "IPY_MODEL_29454fd5bbd344678b8a3f6fba86220b",
       "style": "IPY_MODEL_80642d0ea4944c4d80daed2077e82348",
       "value": " 892/892 [01:27&lt;00:00, 10.86it/s]"
      }
     },
     "5516379f1c09411b9fe273667b001744": {
      "model_module": "@jupyter-widgets/base",
      "model_module_version": "1.2.0",
      "model_name": "LayoutModel",
      "state": {
       "display": "inline-flex",
       "flex_flow": "row wrap",
       "width": "100%"
      }
     },
     "5533153fcded4ea689ca1f94f91f0f37": {
      "model_module": "@jupyter-widgets/base",
      "model_module_version": "1.2.0",
      "model_name": "LayoutModel",
      "state": {}
     },
     "558598fe6a8d4d04a7e8a85dca46cd1e": {
      "model_module": "@jupyter-widgets/base",
      "model_module_version": "1.2.0",
      "model_name": "LayoutModel",
      "state": {
       "flex": "2"
      }
     },
     "566ff8be4d12440b9ba63f6fc9321394": {
      "model_module": "@jupyter-widgets/base",
      "model_module_version": "1.2.0",
      "model_name": "LayoutModel",
      "state": {}
     },
     "573be6e19c134a00b23205680003713e": {
      "model_module": "@jupyter-widgets/controls",
      "model_module_version": "1.5.0",
      "model_name": "HTMLModel",
      "state": {
       "layout": "IPY_MODEL_752b6e935fbc45fa8200c15ce7c48894",
       "style": "IPY_MODEL_3dec1a9b8c42464d965214ca699a6772",
       "value": " 2/2 [00:00&lt;00:00,  7.78it/s]"
      }
     },
     "57d43a08d9e94f928744693d78cc2a54": {
      "model_module": "@jupyter-widgets/base",
      "model_module_version": "1.2.0",
      "model_name": "LayoutModel",
      "state": {
       "display": "inline-flex",
       "flex_flow": "row wrap",
       "width": "100%"
      }
     },
     "58384ba1224e4a189defe0dba58380bc": {
      "model_module": "@jupyter-widgets/base",
      "model_module_version": "1.2.0",
      "model_name": "LayoutModel",
      "state": {}
     },
     "58dab0bc41ac4eab8242e8282e72bc55": {
      "model_module": "@jupyter-widgets/controls",
      "model_module_version": "1.5.0",
      "model_name": "ProgressStyleModel",
      "state": {
       "description_width": ""
      }
     },
     "58fe485634b442cdbf7db21ff0946dec": {
      "model_module": "@jupyter-widgets/controls",
      "model_module_version": "1.5.0",
      "model_name": "DescriptionStyleModel",
      "state": {
       "description_width": ""
      }
     },
     "591c6c8ea68548fb80fa0a51153c5da5": {
      "model_module": "@jupyter-widgets/controls",
      "model_module_version": "1.5.0",
      "model_name": "FloatProgressModel",
      "state": {
       "layout": "IPY_MODEL_f7e28913902d419b874fd8773593255c",
       "max": 2,
       "style": "IPY_MODEL_24ff7d51e8894cc5b1a0fa1f71ffafda",
       "value": 2
      }
     },
     "594a7c7972464707b8fc307ef74bfa5f": {
      "model_module": "@jupyter-widgets/controls",
      "model_module_version": "1.5.0",
      "model_name": "HTMLModel",
      "state": {
       "layout": "IPY_MODEL_5acf8888b0f54619befbef167d8c80a0",
       "style": "IPY_MODEL_a328ea9d5c3443c7a8a8c60c9d6da79d",
       "value": " 892/892 [01:27&lt;00:00, 10.98it/s]"
      }
     },
     "59870204f21f4eba86b253897eba0097": {
      "model_module": "@jupyter-widgets/controls",
      "model_module_version": "1.5.0",
      "model_name": "ProgressStyleModel",
      "state": {
       "description_width": ""
      }
     },
     "5acf8888b0f54619befbef167d8c80a0": {
      "model_module": "@jupyter-widgets/base",
      "model_module_version": "1.2.0",
      "model_name": "LayoutModel",
      "state": {}
     },
     "5aee6150fee64f86be91f26e5934acb4": {
      "model_module": "@jupyter-widgets/controls",
      "model_module_version": "1.5.0",
      "model_name": "DescriptionStyleModel",
      "state": {
       "description_width": ""
      }
     },
     "5bad2b639b53439398faae6e61dce3aa": {
      "model_module": "@jupyter-widgets/controls",
      "model_module_version": "1.5.0",
      "model_name": "HTMLModel",
      "state": {
       "layout": "IPY_MODEL_eb190b05f24e4b42bb254ae6f8cfa239",
       "style": "IPY_MODEL_1f2b5bef550e43a7a22313e024486739",
       "value": "Validation DataLoader 0: 100%"
      }
     },
     "5bd93bf9398e41208f9ed7af0983f349": {
      "model_module": "@jupyter-widgets/base",
      "model_module_version": "1.2.0",
      "model_name": "LayoutModel",
      "state": {
       "display": "inline-flex",
       "flex_flow": "row wrap",
       "width": "100%"
      }
     },
     "5c01434b901e42ba9dc1e80b84803270": {
      "model_module": "@jupyter-widgets/base",
      "model_module_version": "1.2.0",
      "model_name": "LayoutModel",
      "state": {}
     },
     "5c1e4726b37342e9ab8366e267374bcb": {
      "model_module": "@jupyter-widgets/controls",
      "model_module_version": "1.5.0",
      "model_name": "ProgressStyleModel",
      "state": {
       "description_width": ""
      }
     },
     "5c5006e1a12f43c0ab33a65b06d7784f": {
      "model_module": "@jupyter-widgets/controls",
      "model_module_version": "1.5.0",
      "model_name": "HTMLModel",
      "state": {
       "layout": "IPY_MODEL_a6cb830533c445e0b47038e617e193df",
       "style": "IPY_MODEL_af4bb789ddf4464da5fa7eae894dd6b5",
       "value": "Validation DataLoader 0: 100%"
      }
     },
     "5ca68a750cc34eb5bc9e2c14a5eccfa0": {
      "model_module": "@jupyter-widgets/controls",
      "model_module_version": "1.5.0",
      "model_name": "DescriptionStyleModel",
      "state": {
       "description_width": ""
      }
     },
     "5e3b76ebc9ea49d8bebfcfb14ebfd45b": {
      "model_module": "@jupyter-widgets/controls",
      "model_module_version": "1.5.0",
      "model_name": "FloatProgressModel",
      "state": {
       "layout": "IPY_MODEL_c83d905a29494744bf686a69da462104",
       "max": 892,
       "style": "IPY_MODEL_6b8017c8f18440ed9b080280770dbaa4",
       "value": 892
      }
     },
     "6050e9c4e45d444ea6d98b148663c311": {
      "model_module": "@jupyter-widgets/controls",
      "model_module_version": "1.5.0",
      "model_name": "DescriptionStyleModel",
      "state": {
       "description_width": ""
      }
     },
     "60c76349725d48238ef25d0c21e18b92": {
      "model_module": "@jupyter-widgets/base",
      "model_module_version": "1.2.0",
      "model_name": "LayoutModel",
      "state": {}
     },
     "61293a2f21c64643a0bdcfb5c8bfef3d": {
      "model_module": "@jupyter-widgets/controls",
      "model_module_version": "1.5.0",
      "model_name": "HTMLModel",
      "state": {
       "layout": "IPY_MODEL_b45eeeb62d334cae893e913c4698f844",
       "style": "IPY_MODEL_b14f4b8f567f477a917d49208013e4bc",
       "value": "Validation DataLoader 0: 100%"
      }
     },
     "6259a6116aa345959ebeffbeb4710535": {
      "model_module": "@jupyter-widgets/base",
      "model_module_version": "1.2.0",
      "model_name": "LayoutModel",
      "state": {}
     },
     "62697dd9d3e34d599e1c4910757490ff": {
      "model_module": "@jupyter-widgets/controls",
      "model_module_version": "1.5.0",
      "model_name": "ProgressStyleModel",
      "state": {
       "description_width": ""
      }
     },
     "626d977bfc71440c91ad18f2a145e7a5": {
      "model_module": "@jupyter-widgets/controls",
      "model_module_version": "1.5.0",
      "model_name": "ProgressStyleModel",
      "state": {
       "description_width": ""
      }
     },
     "6390777a7b764cae9b78b1f084bf7f95": {
      "model_module": "@jupyter-widgets/base",
      "model_module_version": "1.2.0",
      "model_name": "LayoutModel",
      "state": {
       "flex": "2"
      }
     },
     "63dcd640461447a695a0fe5be759fb0c": {
      "model_module": "@jupyter-widgets/controls",
      "model_module_version": "1.5.0",
      "model_name": "HTMLModel",
      "state": {
       "layout": "IPY_MODEL_889249c8619e49b39107596380c8b9a9",
       "style": "IPY_MODEL_c3d13a24213f410e93222000b63f8bc7",
       "value": " 892/892 [01:26&lt;00:00, 10.82it/s]"
      }
     },
     "647244e684504ea5bbd0b04d96eabc69": {
      "model_module": "@jupyter-widgets/base",
      "model_module_version": "1.2.0",
      "model_name": "LayoutModel",
      "state": {}
     },
     "648f082c3bbb4ec7b59db324167af264": {
      "model_module": "@jupyter-widgets/base",
      "model_module_version": "1.2.0",
      "model_name": "LayoutModel",
      "state": {}
     },
     "64aef4f3593047d18cc1de7ea52c698c": {
      "model_module": "@jupyter-widgets/base",
      "model_module_version": "1.2.0",
      "model_name": "LayoutModel",
      "state": {}
     },
     "655868fb755a482aa9edee03c3e346b8": {
      "model_module": "@jupyter-widgets/controls",
      "model_module_version": "1.5.0",
      "model_name": "DescriptionStyleModel",
      "state": {
       "description_width": ""
      }
     },
     "6578449b550340e38b5e8e8ed122d4eb": {
      "model_module": "@jupyter-widgets/base",
      "model_module_version": "1.2.0",
      "model_name": "LayoutModel",
      "state": {}
     },
     "66333872c6d848098b76cfd204bd6f9d": {
      "model_module": "@jupyter-widgets/base",
      "model_module_version": "1.2.0",
      "model_name": "LayoutModel",
      "state": {}
     },
     "66637916fae440eca4c32baf8cbc98a3": {
      "model_module": "@jupyter-widgets/controls",
      "model_module_version": "1.5.0",
      "model_name": "DescriptionStyleModel",
      "state": {
       "description_width": ""
      }
     },
     "67b80997137f49269b69c399e4c3adef": {
      "model_module": "@jupyter-widgets/controls",
      "model_module_version": "1.5.0",
      "model_name": "DescriptionStyleModel",
      "state": {
       "description_width": ""
      }
     },
     "67c177ae82fd42d5b54767d8d23d1d36": {
      "model_module": "@jupyter-widgets/base",
      "model_module_version": "1.2.0",
      "model_name": "LayoutModel",
      "state": {
       "display": "inline-flex",
       "flex_flow": "row wrap",
       "width": "100%"
      }
     },
     "6838a7b1698c43e6b2aae7dd0a00c554": {
      "model_module": "@jupyter-widgets/controls",
      "model_module_version": "1.5.0",
      "model_name": "DescriptionStyleModel",
      "state": {
       "description_width": ""
      }
     },
     "68e29c2f1d994cb986bcbb8a041e9924": {
      "model_module": "@jupyter-widgets/controls",
      "model_module_version": "1.5.0",
      "model_name": "DescriptionStyleModel",
      "state": {
       "description_width": ""
      }
     },
     "68eda6e535c747fa8451acdc82cf53cd": {
      "model_module": "@jupyter-widgets/base",
      "model_module_version": "1.2.0",
      "model_name": "LayoutModel",
      "state": {
       "flex": "2"
      }
     },
     "69dc4b1a7f6140c1968e2a8976194b0d": {
      "model_module": "@jupyter-widgets/controls",
      "model_module_version": "1.5.0",
      "model_name": "DescriptionStyleModel",
      "state": {
       "description_width": ""
      }
     },
     "6a1b9e70ce524c4781827ba966e3e26d": {
      "model_module": "@jupyter-widgets/base",
      "model_module_version": "1.2.0",
      "model_name": "LayoutModel",
      "state": {
       "flex": "2"
      }
     },
     "6a5ad2a402f5415285d6531300b38c59": {
      "model_module": "@jupyter-widgets/base",
      "model_module_version": "1.2.0",
      "model_name": "LayoutModel",
      "state": {
       "flex": "2"
      }
     },
     "6a7ccaa3a40443b0aae4d425e5be039a": {
      "model_module": "@jupyter-widgets/controls",
      "model_module_version": "1.5.0",
      "model_name": "ProgressStyleModel",
      "state": {
       "description_width": ""
      }
     },
     "6b8017c8f18440ed9b080280770dbaa4": {
      "model_module": "@jupyter-widgets/controls",
      "model_module_version": "1.5.0",
      "model_name": "ProgressStyleModel",
      "state": {
       "description_width": ""
      }
     },
     "6b900cba46d14631bc20883435cfab29": {
      "model_module": "@jupyter-widgets/controls",
      "model_module_version": "1.5.0",
      "model_name": "DescriptionStyleModel",
      "state": {
       "description_width": ""
      }
     },
     "6bc8c8fa4c01493c93859759cc83b561": {
      "model_module": "@jupyter-widgets/controls",
      "model_module_version": "1.5.0",
      "model_name": "ProgressStyleModel",
      "state": {
       "description_width": ""
      }
     },
     "6c1d4e14c570446eac68ab4649a27da5": {
      "model_module": "@jupyter-widgets/controls",
      "model_module_version": "1.5.0",
      "model_name": "FloatProgressModel",
      "state": {
       "layout": "IPY_MODEL_bb9ab6b6c85d48a49ab05c8cdfd97770",
       "max": 892,
       "style": "IPY_MODEL_88dfbb0eb75d41e38465ad71de4af862",
       "value": 892
      }
     },
     "6d54bdb93c6e49f9835c15f723cd435a": {
      "model_module": "@jupyter-widgets/base",
      "model_module_version": "1.2.0",
      "model_name": "LayoutModel",
      "state": {}
     },
     "6d67580bf7fd49a38eaff49d2e858786": {
      "model_module": "@jupyter-widgets/base",
      "model_module_version": "1.2.0",
      "model_name": "LayoutModel",
      "state": {
       "display": "inline-flex",
       "flex_flow": "row wrap",
       "width": "100%"
      }
     },
     "7099d8210944461f9aa236f67f422fde": {
      "model_module": "@jupyter-widgets/base",
      "model_module_version": "1.2.0",
      "model_name": "LayoutModel",
      "state": {}
     },
     "710226ab50e4478088f3dfba8afe3b77": {
      "model_module": "@jupyter-widgets/base",
      "model_module_version": "1.2.0",
      "model_name": "LayoutModel",
      "state": {}
     },
     "711b9bba03eb4d3b845f234455d83005": {
      "model_module": "@jupyter-widgets/controls",
      "model_module_version": "1.5.0",
      "model_name": "HTMLModel",
      "state": {
       "layout": "IPY_MODEL_c55a36b117ac4d0aa89a4b4489141c22",
       "style": "IPY_MODEL_47a46a2497cc4c278e9a746be25df7b5",
       "value": "Validation DataLoader 0: 100%"
      }
     },
     "712df9484bf0475bba7cbf1c4738530a": {
      "model_module": "@jupyter-widgets/controls",
      "model_module_version": "1.5.0",
      "model_name": "HTMLModel",
      "state": {
       "layout": "IPY_MODEL_64aef4f3593047d18cc1de7ea52c698c",
       "style": "IPY_MODEL_ba26976efb11486ea2b1e34cb1f46433",
       "value": " 892/892 [01:26&lt;00:00, 11.02it/s]"
      }
     },
     "714a1571603648988492667ca7dd4c30": {
      "model_module": "@jupyter-widgets/controls",
      "model_module_version": "1.5.0",
      "model_name": "DescriptionStyleModel",
      "state": {
       "description_width": ""
      }
     },
     "72ae0b28c12a4b82bda0aa7824bb698e": {
      "model_module": "@jupyter-widgets/controls",
      "model_module_version": "1.5.0",
      "model_name": "DescriptionStyleModel",
      "state": {
       "description_width": ""
      }
     },
     "72b02babf29b493899a739fda19ebfeb": {
      "model_module": "@jupyter-widgets/base",
      "model_module_version": "1.2.0",
      "model_name": "LayoutModel",
      "state": {
       "flex": "2"
      }
     },
     "73d79020a325401db32f53b3c05b4dab": {
      "model_module": "@jupyter-widgets/base",
      "model_module_version": "1.2.0",
      "model_name": "LayoutModel",
      "state": {}
     },
     "741aa8dc681c49c5832594c4d4097ec0": {
      "model_module": "@jupyter-widgets/controls",
      "model_module_version": "1.5.0",
      "model_name": "ProgressStyleModel",
      "state": {
       "description_width": ""
      }
     },
     "742c45cde6074f37866d4c61c0b8cc33": {
      "model_module": "@jupyter-widgets/controls",
      "model_module_version": "1.5.0",
      "model_name": "DescriptionStyleModel",
      "state": {
       "description_width": ""
      }
     },
     "74c5246527e04c4b9798199026f2bf9b": {
      "model_module": "@jupyter-widgets/controls",
      "model_module_version": "1.5.0",
      "model_name": "FloatProgressModel",
      "state": {
       "layout": "IPY_MODEL_99973d18551044d3b459a891d6191346",
       "max": 892,
       "style": "IPY_MODEL_e590df0b84104a61a2bef9843477ef01",
       "value": 892
      }
     },
     "752b6e935fbc45fa8200c15ce7c48894": {
      "model_module": "@jupyter-widgets/base",
      "model_module_version": "1.2.0",
      "model_name": "LayoutModel",
      "state": {}
     },
     "7568619aa49b46eaa4d8a55dffaeadba": {
      "model_module": "@jupyter-widgets/controls",
      "model_module_version": "1.5.0",
      "model_name": "HTMLModel",
      "state": {
       "layout": "IPY_MODEL_f2e98e550e044010b2e4ae0abee320bc",
       "style": "IPY_MODEL_e603a0af87b24f5cbf1e4116beb1004c",
       "value": " 892/892 [01:27&lt;00:00, 10.82it/s]"
      }
     },
     "758e9f30b33445b3a4440f27703b39e4": {
      "model_module": "@jupyter-widgets/controls",
      "model_module_version": "1.5.0",
      "model_name": "HTMLModel",
      "state": {
       "layout": "IPY_MODEL_f1ed5a4822ee43808d66f65ea2cd2ed1",
       "style": "IPY_MODEL_7a06003910424cbbaa0e14df70ada09c",
       "value": " 892/892 [01:27&lt;00:00, 10.79it/s]"
      }
     },
     "76346e40e50c4ba69223e03b6fe209a1": {
      "model_module": "@jupyter-widgets/base",
      "model_module_version": "1.2.0",
      "model_name": "LayoutModel",
      "state": {}
     },
     "769601abeaf34230891968f778e797db": {
      "model_module": "@jupyter-widgets/controls",
      "model_module_version": "1.5.0",
      "model_name": "HTMLModel",
      "state": {
       "layout": "IPY_MODEL_eb2a418b5e31420d839f470cebb55eb8",
       "style": "IPY_MODEL_e6dd0c97ec914a0bbb1adc5648be5596",
       "value": "Validation DataLoader 0: 100%"
      }
     },
     "76cbba3814934460984e8b8f24c7f915": {
      "model_module": "@jupyter-widgets/base",
      "model_module_version": "1.2.0",
      "model_name": "LayoutModel",
      "state": {}
     },
     "7765e3c7982b4594ba655436976b1153": {
      "model_module": "@jupyter-widgets/controls",
      "model_module_version": "1.5.0",
      "model_name": "DescriptionStyleModel",
      "state": {
       "description_width": ""
      }
     },
     "77b316e9afcd4255906b21ebeceaac9b": {
      "model_module": "@jupyter-widgets/base",
      "model_module_version": "1.2.0",
      "model_name": "LayoutModel",
      "state": {
       "display": "inline-flex",
       "flex_flow": "row wrap",
       "width": "100%"
      }
     },
     "77f6aaf7732845cf8952aa96330c7f84": {
      "model_module": "@jupyter-widgets/controls",
      "model_module_version": "1.5.0",
      "model_name": "FloatProgressModel",
      "state": {
       "layout": "IPY_MODEL_68eda6e535c747fa8451acdc82cf53cd",
       "max": 892,
       "style": "IPY_MODEL_e8615456843e47e680cab1bc4ddc38a0",
       "value": 892
      }
     },
     "7823c210123b4cd0b89b5d27ddbaec11": {
      "model_module": "@jupyter-widgets/controls",
      "model_module_version": "1.5.0",
      "model_name": "DescriptionStyleModel",
      "state": {
       "description_width": ""
      }
     },
     "785724483cd94f438fdce63266291355": {
      "model_module": "@jupyter-widgets/controls",
      "model_module_version": "1.5.0",
      "model_name": "ProgressStyleModel",
      "state": {
       "description_width": ""
      }
     },
     "78e0d684c10e46ea99d2724b96e93eed": {
      "model_module": "@jupyter-widgets/controls",
      "model_module_version": "1.5.0",
      "model_name": "HTMLModel",
      "state": {
       "layout": "IPY_MODEL_1c3cd42ebca4472bafda3fc2ae4d8d52",
       "style": "IPY_MODEL_f239b651ea78477283016bea2d5172a0",
       "value": " 892/892 [01:28&lt;00:00, 10.90it/s]"
      }
     },
     "78e8c12aab194683a46e7dad6a73109b": {
      "model_module": "@jupyter-widgets/base",
      "model_module_version": "1.2.0",
      "model_name": "LayoutModel",
      "state": {
       "flex": "2"
      }
     },
     "78f37a2382eb4965872b9f20965dccaa": {
      "model_module": "@jupyter-widgets/controls",
      "model_module_version": "1.5.0",
      "model_name": "HTMLModel",
      "state": {
       "layout": "IPY_MODEL_6259a6116aa345959ebeffbeb4710535",
       "style": "IPY_MODEL_c9f56ee104cf4941866d4a9c699a49ae",
       "value": " 892/892 [01:27&lt;00:00, 10.92it/s]"
      }
     },
     "7968d961b43b49e38ea1d6743ef39595": {
      "model_module": "@jupyter-widgets/base",
      "model_module_version": "1.2.0",
      "model_name": "LayoutModel",
      "state": {
       "display": "inline-flex",
       "flex_flow": "row wrap",
       "width": "100%"
      }
     },
     "79b75feda0fd469b9db84c9fa07da440": {
      "model_module": "@jupyter-widgets/controls",
      "model_module_version": "1.5.0",
      "model_name": "HTMLModel",
      "state": {
       "layout": "IPY_MODEL_b6446c82713b4db0be127ffb720f81e7",
       "style": "IPY_MODEL_bb1eb298994c423eb9add96e321faf56",
       "value": " 892/892 [01:28&lt;00:00, 10.74it/s]"
      }
     },
     "7a06003910424cbbaa0e14df70ada09c": {
      "model_module": "@jupyter-widgets/controls",
      "model_module_version": "1.5.0",
      "model_name": "DescriptionStyleModel",
      "state": {
       "description_width": ""
      }
     },
     "7a4f426c7f7b459e91569f4da2980e69": {
      "model_module": "@jupyter-widgets/controls",
      "model_module_version": "1.5.0",
      "model_name": "DescriptionStyleModel",
      "state": {
       "description_width": ""
      }
     },
     "7ad2b42499594819bdf49e503705ecdb": {
      "model_module": "@jupyter-widgets/controls",
      "model_module_version": "1.5.0",
      "model_name": "DescriptionStyleModel",
      "state": {
       "description_width": ""
      }
     },
     "7ba402e99cd441fda35908a46cd97432": {
      "model_module": "@jupyter-widgets/controls",
      "model_module_version": "1.5.0",
      "model_name": "FloatProgressModel",
      "state": {
       "layout": "IPY_MODEL_922cb095af59452bb7f427c2959d1a21",
       "max": 892,
       "style": "IPY_MODEL_3da198a249ec4c2d8621c062c9cdffe5",
       "value": 892
      }
     },
     "7bc494044d384982b5a96a754d72d43f": {
      "model_module": "@jupyter-widgets/base",
      "model_module_version": "1.2.0",
      "model_name": "LayoutModel",
      "state": {}
     },
     "7c012277c14041d6a062a43c23af70f7": {
      "model_module": "@jupyter-widgets/controls",
      "model_module_version": "1.5.0",
      "model_name": "DescriptionStyleModel",
      "state": {
       "description_width": ""
      }
     },
     "7c9e77fe3b734db9a7f148f199a8864a": {
      "model_module": "@jupyter-widgets/controls",
      "model_module_version": "1.5.0",
      "model_name": "FloatProgressModel",
      "state": {
       "layout": "IPY_MODEL_31130457e08147a9b80e81e61b07a93a",
       "max": 892,
       "style": "IPY_MODEL_58dab0bc41ac4eab8242e8282e72bc55",
       "value": 892
      }
     },
     "7cc8a945300f4856b2f7ab72d2d4ec04": {
      "model_module": "@jupyter-widgets/base",
      "model_module_version": "1.2.0",
      "model_name": "LayoutModel",
      "state": {
       "flex": "2"
      }
     },
     "7d7cae9243204681922a763ab2b6f564": {
      "model_module": "@jupyter-widgets/controls",
      "model_module_version": "1.5.0",
      "model_name": "DescriptionStyleModel",
      "state": {
       "description_width": ""
      }
     },
     "7daae3806b7147deaa7a21a4132dee67": {
      "model_module": "@jupyter-widgets/base",
      "model_module_version": "1.2.0",
      "model_name": "LayoutModel",
      "state": {
       "display": "inline-flex",
       "flex_flow": "row wrap",
       "width": "100%"
      }
     },
     "7e2f0613271a4c75ba5eb8f1f74148e3": {
      "model_module": "@jupyter-widgets/controls",
      "model_module_version": "1.5.0",
      "model_name": "FloatProgressModel",
      "state": {
       "layout": "IPY_MODEL_422984668e2a488bb1e38e4f5b41a65e",
       "max": 892,
       "style": "IPY_MODEL_5138d8f9e1e6470b9e13ce5270906fe9",
       "value": 892
      }
     },
     "7f06f15acae24f52a461c7dfefe03b9c": {
      "model_module": "@jupyter-widgets/base",
      "model_module_version": "1.2.0",
      "model_name": "LayoutModel",
      "state": {
       "flex": "2"
      }
     },
     "7f21f41952604f64955ce6cc654339c5": {
      "model_module": "@jupyter-widgets/controls",
      "model_module_version": "1.5.0",
      "model_name": "HTMLModel",
      "state": {
       "layout": "IPY_MODEL_90e1286ebb1c4abd910f8ddff299cd74",
       "style": "IPY_MODEL_742c45cde6074f37866d4c61c0b8cc33",
       "value": "Validation DataLoader 0: 100%"
      }
     },
     "7f261d5161a24428ae54e2d07a08154c": {
      "model_module": "@jupyter-widgets/controls",
      "model_module_version": "1.5.0",
      "model_name": "HTMLModel",
      "state": {
       "layout": "IPY_MODEL_44a1106a46c44d4fa26a42a44ccb12de",
       "style": "IPY_MODEL_2babb7931f064a728be24d4475c5b2e6",
       "value": "Validation DataLoader 0: 100%"
      }
     },
     "7f608bef9a0449ffae78bd1905af2f9c": {
      "model_module": "@jupyter-widgets/base",
      "model_module_version": "1.2.0",
      "model_name": "LayoutModel",
      "state": {}
     },
     "7f96518ae15e4a938b209f48a3d7fc85": {
      "model_module": "@jupyter-widgets/controls",
      "model_module_version": "1.5.0",
      "model_name": "DescriptionStyleModel",
      "state": {
       "description_width": ""
      }
     },
     "7fc938ec523143b8807ca9466d44cdff": {
      "model_module": "@jupyter-widgets/controls",
      "model_module_version": "1.5.0",
      "model_name": "FloatProgressModel",
      "state": {
       "layout": "IPY_MODEL_f3fe4014d89347ce95b38b539b3f1781",
       "max": 892,
       "style": "IPY_MODEL_9813ba1c3ccb42199d24c88415083d47",
       "value": 892
      }
     },
     "7fce8db1a613490e9aa7aff205b8cea2": {
      "model_module": "@jupyter-widgets/base",
      "model_module_version": "1.2.0",
      "model_name": "LayoutModel",
      "state": {}
     },
     "80642d0ea4944c4d80daed2077e82348": {
      "model_module": "@jupyter-widgets/controls",
      "model_module_version": "1.5.0",
      "model_name": "DescriptionStyleModel",
      "state": {
       "description_width": ""
      }
     },
     "80b92b1576c14cfaa2c4ac9205d7e0fe": {
      "model_module": "@jupyter-widgets/controls",
      "model_module_version": "1.5.0",
      "model_name": "HTMLModel",
      "state": {
       "layout": "IPY_MODEL_9bd923a8e0574b6096174fb562cb8cd4",
       "style": "IPY_MODEL_7ad2b42499594819bdf49e503705ecdb",
       "value": " 892/892 [01:27&lt;00:00, 11.00it/s]"
      }
     },
     "81b412eae9e44e128e640442e09a4ed6": {
      "model_module": "@jupyter-widgets/base",
      "model_module_version": "1.2.0",
      "model_name": "LayoutModel",
      "state": {}
     },
     "81cb7ba360ef4850b1aca3481e3508e3": {
      "model_module": "@jupyter-widgets/controls",
      "model_module_version": "1.5.0",
      "model_name": "DescriptionStyleModel",
      "state": {
       "description_width": ""
      }
     },
     "822705ccbe304c18827ee706d7e0e7cf": {
      "model_module": "@jupyter-widgets/controls",
      "model_module_version": "1.5.0",
      "model_name": "ProgressStyleModel",
      "state": {
       "description_width": ""
      }
     },
     "8298084c919f4e2bac5ee09551f0094f": {
      "model_module": "@jupyter-widgets/controls",
      "model_module_version": "1.5.0",
      "model_name": "HTMLModel",
      "state": {
       "layout": "IPY_MODEL_b41c5fcede5e4fef954df142f70b23ea",
       "style": "IPY_MODEL_b48a2e9cde5f412dbc363859133e577f",
       "value": "Validation DataLoader 0: 100%"
      }
     },
     "82f32e623ff7474eb6672211e265dae0": {
      "model_module": "@jupyter-widgets/base",
      "model_module_version": "1.2.0",
      "model_name": "LayoutModel",
      "state": {}
     },
     "8369944c2e394ab69eb8f8166d8e65db": {
      "model_module": "@jupyter-widgets/controls",
      "model_module_version": "1.5.0",
      "model_name": "HTMLModel",
      "state": {
       "layout": "IPY_MODEL_7bc494044d384982b5a96a754d72d43f",
       "style": "IPY_MODEL_bc668123e2774976b62796d0f81cffd3",
       "value": " 892/892 [01:28&lt;00:00, 10.67it/s]"
      }
     },
     "84b6e905d3dd4f7aafb2344063a36c4f": {
      "model_module": "@jupyter-widgets/base",
      "model_module_version": "1.2.0",
      "model_name": "LayoutModel",
      "state": {
       "flex": "2"
      }
     },
     "8534655f359a46e7824be2fa02fd11b3": {
      "model_module": "@jupyter-widgets/controls",
      "model_module_version": "1.5.0",
      "model_name": "HTMLModel",
      "state": {
       "layout": "IPY_MODEL_011e165745de451da5f9e44604ad00ee",
       "style": "IPY_MODEL_30907ae9228a4cb7870b6fd8c5b08bba",
       "value": " 892/892 [01:27&lt;00:00, 10.83it/s]"
      }
     },
     "85ae22fb05424529b90d6a9a9f32e129": {
      "model_module": "@jupyter-widgets/controls",
      "model_module_version": "1.5.0",
      "model_name": "HTMLModel",
      "state": {
       "layout": "IPY_MODEL_137b2354ff804088a371fe865ff0e61e",
       "style": "IPY_MODEL_2c4b0676eea44f27ba7d305839ab665a",
       "value": "Validation DataLoader 0: 100%"
      }
     },
     "8602b32ae6e64253b162c71b31f94df3": {
      "model_module": "@jupyter-widgets/controls",
      "model_module_version": "1.5.0",
      "model_name": "ProgressStyleModel",
      "state": {
       "description_width": ""
      }
     },
     "861a3aceb4fa4131aa5458ca857179ca": {
      "model_module": "@jupyter-widgets/controls",
      "model_module_version": "1.5.0",
      "model_name": "ProgressStyleModel",
      "state": {
       "description_width": ""
      }
     },
     "861ecc4044844096b6be27fa3782bc1e": {
      "model_module": "@jupyter-widgets/controls",
      "model_module_version": "1.5.0",
      "model_name": "HTMLModel",
      "state": {
       "layout": "IPY_MODEL_4bbb4822b72244da90cea6cdaa503262",
       "style": "IPY_MODEL_1b0c448da0074d0390f12de3849f4aa5",
       "value": " 892/892 [01:27&lt;00:00, 10.75it/s]"
      }
     },
     "878006d525814822a9f758f53899ae67": {
      "model_module": "@jupyter-widgets/controls",
      "model_module_version": "1.5.0",
      "model_name": "HTMLModel",
      "state": {
       "layout": "IPY_MODEL_500eb6a70377474ca6ab8bdfbed1423c",
       "style": "IPY_MODEL_223bd5c6caff424fb90d99532082eae0",
       "value": "Validation DataLoader 0: 100%"
      }
     },
     "87e1458925d44ced8eed570cbd2c2b83": {
      "model_module": "@jupyter-widgets/base",
      "model_module_version": "1.2.0",
      "model_name": "LayoutModel",
      "state": {}
     },
     "88853180dbd848fbb8733386155ac817": {
      "model_module": "@jupyter-widgets/controls",
      "model_module_version": "1.5.0",
      "model_name": "HTMLModel",
      "state": {
       "layout": "IPY_MODEL_66333872c6d848098b76cfd204bd6f9d",
       "style": "IPY_MODEL_4c4c9161ce5e4f56bde22a1391d32b33",
       "value": "Validation DataLoader 0: 100%"
      }
     },
     "88902caf3da94197930a076decbc5061": {
      "model_module": "@jupyter-widgets/controls",
      "model_module_version": "1.5.0",
      "model_name": "HTMLModel",
      "state": {
       "layout": "IPY_MODEL_38b60c2b89aa4ffc836d642b1e88d220",
       "style": "IPY_MODEL_4250558c278a44719a4975e5d64a5ea8",
       "value": " 892/892 [01:27&lt;00:00, 10.64it/s]"
      }
     },
     "889249c8619e49b39107596380c8b9a9": {
      "model_module": "@jupyter-widgets/base",
      "model_module_version": "1.2.0",
      "model_name": "LayoutModel",
      "state": {}
     },
     "88dfbb0eb75d41e38465ad71de4af862": {
      "model_module": "@jupyter-widgets/controls",
      "model_module_version": "1.5.0",
      "model_name": "ProgressStyleModel",
      "state": {
       "description_width": ""
      }
     },
     "88ede4521cda40fea9c3e4d0f1cb962f": {
      "model_module": "@jupyter-widgets/controls",
      "model_module_version": "1.5.0",
      "model_name": "HTMLModel",
      "state": {
       "layout": "IPY_MODEL_a8207b9bc1114088b03692b58db99bfe",
       "style": "IPY_MODEL_67b80997137f49269b69c399e4c3adef",
       "value": " 892/892 [01:28&lt;00:00, 10.74it/s]"
      }
     },
     "8950a456814645e9bc8a1f97e4637824": {
      "model_module": "@jupyter-widgets/controls",
      "model_module_version": "1.5.0",
      "model_name": "ProgressStyleModel",
      "state": {
       "description_width": ""
      }
     },
     "8a47240582814a5388777b5cd4a09b13": {
      "model_module": "@jupyter-widgets/controls",
      "model_module_version": "1.5.0",
      "model_name": "DescriptionStyleModel",
      "state": {
       "description_width": ""
      }
     },
     "8a5b97cb122b4668923eec7eda4b8c42": {
      "model_module": "@jupyter-widgets/controls",
      "model_module_version": "1.5.0",
      "model_name": "HTMLModel",
      "state": {
       "layout": "IPY_MODEL_7fce8db1a613490e9aa7aff205b8cea2",
       "style": "IPY_MODEL_497c2f40ea8f4812b4929d0cfb07cec4",
       "value": "Validation DataLoader 0: 100%"
      }
     },
     "8ab6c236c9a443b5bb39f8c10224fbe9": {
      "model_module": "@jupyter-widgets/controls",
      "model_module_version": "1.5.0",
      "model_name": "ProgressStyleModel",
      "state": {
       "description_width": ""
      }
     },
     "8abd65b7e32b40c1b576cb6c47a98dd4": {
      "model_module": "@jupyter-widgets/controls",
      "model_module_version": "1.5.0",
      "model_name": "FloatProgressModel",
      "state": {
       "layout": "IPY_MODEL_de9415eb300342578099690e71d52390",
       "max": 892,
       "style": "IPY_MODEL_2306f833d03348cc9b4d156e09bd4e3f",
       "value": 892
      }
     },
     "8bc72d928434456bbb1acfbe90e71383": {
      "model_module": "@jupyter-widgets/base",
      "model_module_version": "1.2.0",
      "model_name": "LayoutModel",
      "state": {}
     },
     "8c35d47a6ae14efe84ff63ac20de969d": {
      "model_module": "@jupyter-widgets/base",
      "model_module_version": "1.2.0",
      "model_name": "LayoutModel",
      "state": {
       "flex": "2"
      }
     },
     "8c3f922254f04cc2bfe44029d177eea6": {
      "model_module": "@jupyter-widgets/controls",
      "model_module_version": "1.5.0",
      "model_name": "HTMLModel",
      "state": {
       "layout": "IPY_MODEL_566ff8be4d12440b9ba63f6fc9321394",
       "style": "IPY_MODEL_ba1ea03639854aed9c9119d019851e55",
       "value": "Validation DataLoader 0: 100%"
      }
     },
     "8c4d7134d27346e19989a89fb50a80a6": {
      "model_module": "@jupyter-widgets/base",
      "model_module_version": "1.2.0",
      "model_name": "LayoutModel",
      "state": {}
     },
     "8cbd75e6ef284b5992af0e3ab8d811ed": {
      "model_module": "@jupyter-widgets/base",
      "model_module_version": "1.2.0",
      "model_name": "LayoutModel",
      "state": {
       "display": "inline-flex",
       "flex_flow": "row wrap",
       "width": "100%"
      }
     },
     "8d4250eb4f354eafa733c2f7907e74cd": {
      "model_module": "@jupyter-widgets/base",
      "model_module_version": "1.2.0",
      "model_name": "LayoutModel",
      "state": {
       "flex": "2"
      }
     },
     "8f4e1f7f28a54e63b82d36ea75644b9a": {
      "model_module": "@jupyter-widgets/controls",
      "model_module_version": "1.5.0",
      "model_name": "FloatProgressModel",
      "state": {
       "layout": "IPY_MODEL_d38a4138936a492c8d1c614edc6cb4fb",
       "max": 892,
       "style": "IPY_MODEL_dea2cb79f18841af8057993568308143",
       "value": 892
      }
     },
     "9076f151b71c4e199352ebf9684e7d10": {
      "model_module": "@jupyter-widgets/controls",
      "model_module_version": "1.5.0",
      "model_name": "HTMLModel",
      "state": {
       "layout": "IPY_MODEL_3f6a22630ba9450eb00af588af61e187",
       "style": "IPY_MODEL_31af036f19fd4d09bb1987cd9048e86e",
       "value": " 892/892 [01:27&lt;00:00, 10.98it/s]"
      }
     },
     "90e1286ebb1c4abd910f8ddff299cd74": {
      "model_module": "@jupyter-widgets/base",
      "model_module_version": "1.2.0",
      "model_name": "LayoutModel",
      "state": {}
     },
     "918424467bbd47f59da0b6a1e5f2017b": {
      "model_module": "@jupyter-widgets/controls",
      "model_module_version": "1.5.0",
      "model_name": "FloatProgressModel",
      "state": {
       "layout": "IPY_MODEL_19f742f4fef840319b8c53898613372f",
       "max": 892,
       "style": "IPY_MODEL_9e8e79c6db104826a8b58679a003177e",
       "value": 892
      }
     },
     "91eec9a8cbba4afc9244d2c5eb54b54a": {
      "model_module": "@jupyter-widgets/base",
      "model_module_version": "1.2.0",
      "model_name": "LayoutModel",
      "state": {}
     },
     "921ecacbabd6455d8d6ed638863284b3": {
      "model_module": "@jupyter-widgets/base",
      "model_module_version": "1.2.0",
      "model_name": "LayoutModel",
      "state": {
       "flex": "2"
      }
     },
     "922cb095af59452bb7f427c2959d1a21": {
      "model_module": "@jupyter-widgets/base",
      "model_module_version": "1.2.0",
      "model_name": "LayoutModel",
      "state": {
       "flex": "2"
      }
     },
     "9259592f8add473ab0f10221d9ee88ac": {
      "model_module": "@jupyter-widgets/controls",
      "model_module_version": "1.5.0",
      "model_name": "DescriptionStyleModel",
      "state": {
       "description_width": ""
      }
     },
     "93eef4393a0044f7955730d9ceb65562": {
      "model_module": "@jupyter-widgets/controls",
      "model_module_version": "1.5.0",
      "model_name": "DescriptionStyleModel",
      "state": {
       "description_width": ""
      }
     },
     "94634d1253ac444da1592cd49ea23c18": {
      "model_module": "@jupyter-widgets/controls",
      "model_module_version": "1.5.0",
      "model_name": "DescriptionStyleModel",
      "state": {
       "description_width": ""
      }
     },
     "94ac7be344ef4ff7a718236c31e92117": {
      "model_module": "@jupyter-widgets/base",
      "model_module_version": "1.2.0",
      "model_name": "LayoutModel",
      "state": {}
     },
     "952d7c45cd0c459d90125fb0afc44ca5": {
      "model_module": "@jupyter-widgets/controls",
      "model_module_version": "1.5.0",
      "model_name": "ProgressStyleModel",
      "state": {
       "description_width": ""
      }
     },
     "95520f6fc854473f8fe6bc16db557425": {
      "model_module": "@jupyter-widgets/controls",
      "model_module_version": "1.5.0",
      "model_name": "DescriptionStyleModel",
      "state": {
       "description_width": ""
      }
     },
     "969423e8e8ba4b3d87e49bc44aa475d3": {
      "model_module": "@jupyter-widgets/base",
      "model_module_version": "1.2.0",
      "model_name": "LayoutModel",
      "state": {
       "flex": "2"
      }
     },
     "9813ba1c3ccb42199d24c88415083d47": {
      "model_module": "@jupyter-widgets/controls",
      "model_module_version": "1.5.0",
      "model_name": "ProgressStyleModel",
      "state": {
       "description_width": ""
      }
     },
     "98322b99d7b44d8fac8d4e12bf9928bc": {
      "model_module": "@jupyter-widgets/controls",
      "model_module_version": "1.5.0",
      "model_name": "FloatProgressModel",
      "state": {
       "layout": "IPY_MODEL_2688b5340bb0472a8077e1af0c36fc07",
       "max": 892,
       "style": "IPY_MODEL_b893772907954a3dac9e951766c351cd",
       "value": 892
      }
     },
     "987f92f2de2c458bae30d0d20da763ee": {
      "model_module": "@jupyter-widgets/base",
      "model_module_version": "1.2.0",
      "model_name": "LayoutModel",
      "state": {}
     },
     "9909ea61143344f1b39851f23a13ed59": {
      "model_module": "@jupyter-widgets/controls",
      "model_module_version": "1.5.0",
      "model_name": "HTMLModel",
      "state": {
       "layout": "IPY_MODEL_45ff295b42a244569df062accb9336aa",
       "style": "IPY_MODEL_e3ae9c46e947497b88b92cf8678cb3f4",
       "value": "Validation DataLoader 0: 100%"
      }
     },
     "9978e025269b48bdb23b82808ec6cc3f": {
      "model_module": "@jupyter-widgets/base",
      "model_module_version": "1.2.0",
      "model_name": "LayoutModel",
      "state": {}
     },
     "99973d18551044d3b459a891d6191346": {
      "model_module": "@jupyter-widgets/base",
      "model_module_version": "1.2.0",
      "model_name": "LayoutModel",
      "state": {
       "flex": "2"
      }
     },
     "9a2f702dddb849dd92fc5ebb47a80ff5": {
      "model_module": "@jupyter-widgets/controls",
      "model_module_version": "1.5.0",
      "model_name": "FloatProgressModel",
      "state": {
       "layout": "IPY_MODEL_fb0da23b4c5143d6a24cc7c028ebd390",
       "max": 892,
       "style": "IPY_MODEL_822705ccbe304c18827ee706d7e0e7cf",
       "value": 892
      }
     },
     "9b04ea5aac224e3ab10b6f421fa320ed": {
      "model_module": "@jupyter-widgets/controls",
      "model_module_version": "1.5.0",
      "model_name": "DescriptionStyleModel",
      "state": {
       "description_width": ""
      }
     },
     "9bd923a8e0574b6096174fb562cb8cd4": {
      "model_module": "@jupyter-widgets/base",
      "model_module_version": "1.2.0",
      "model_name": "LayoutModel",
      "state": {}
     },
     "9c354e485f5c4749ada04d65c298bf6c": {
      "model_module": "@jupyter-widgets/base",
      "model_module_version": "1.2.0",
      "model_name": "LayoutModel",
      "state": {
       "display": "inline-flex",
       "flex_flow": "row wrap",
       "width": "100%"
      }
     },
     "9ccdf04bfa21427d915545365528a055": {
      "model_module": "@jupyter-widgets/controls",
      "model_module_version": "1.5.0",
      "model_name": "DescriptionStyleModel",
      "state": {
       "description_width": ""
      }
     },
     "9d791eece9c7466997bc506e1c0fc37b": {
      "model_module": "@jupyter-widgets/controls",
      "model_module_version": "1.5.0",
      "model_name": "DescriptionStyleModel",
      "state": {
       "description_width": ""
      }
     },
     "9d8538091f9d4ba5ba95ebc5da6c3ad5": {
      "model_module": "@jupyter-widgets/controls",
      "model_module_version": "1.5.0",
      "model_name": "ProgressStyleModel",
      "state": {
       "description_width": ""
      }
     },
     "9d9c730c12e742a5832f08fefec6e9de": {
      "model_module": "@jupyter-widgets/base",
      "model_module_version": "1.2.0",
      "model_name": "LayoutModel",
      "state": {
       "display": "inline-flex",
       "flex_flow": "row wrap",
       "width": "100%"
      }
     },
     "9daf73b1c1c546ee80c091b297e678fa": {
      "model_module": "@jupyter-widgets/base",
      "model_module_version": "1.2.0",
      "model_name": "LayoutModel",
      "state": {}
     },
     "9e8e79c6db104826a8b58679a003177e": {
      "model_module": "@jupyter-widgets/controls",
      "model_module_version": "1.5.0",
      "model_name": "ProgressStyleModel",
      "state": {
       "description_width": ""
      }
     },
     "9eb01a9bae3c42b3ae670f6bbf5f7270": {
      "model_module": "@jupyter-widgets/controls",
      "model_module_version": "1.5.0",
      "model_name": "DescriptionStyleModel",
      "state": {
       "description_width": ""
      }
     },
     "9f0fbd9cb5234782b3faac7266aa9854": {
      "model_module": "@jupyter-widgets/controls",
      "model_module_version": "1.5.0",
      "model_name": "FloatProgressModel",
      "state": {
       "layout": "IPY_MODEL_f8b6fea3dcb344c7b859613bc79d5737",
       "max": 892,
       "style": "IPY_MODEL_626d977bfc71440c91ad18f2a145e7a5",
       "value": 892
      }
     },
     "9f62dacb610b4b529d7692851cf3e1ee": {
      "model_module": "@jupyter-widgets/base",
      "model_module_version": "1.2.0",
      "model_name": "LayoutModel",
      "state": {
       "display": "inline-flex",
       "flex_flow": "row wrap",
       "width": "100%"
      }
     },
     "9ff14cd1d647431daf88d21361036904": {
      "model_module": "@jupyter-widgets/controls",
      "model_module_version": "1.5.0",
      "model_name": "FloatProgressModel",
      "state": {
       "layout": "IPY_MODEL_ff42cadae0a94e999c6a380eecc7cca6",
       "max": 892,
       "style": "IPY_MODEL_1edbc838cfff4fb5ac9e6dd4e64bc8e9",
       "value": 892
      }
     },
     "a1f859fcb72b4201aade293a19273c8f": {
      "model_module": "@jupyter-widgets/base",
      "model_module_version": "1.2.0",
      "model_name": "LayoutModel",
      "state": {
       "flex": "2"
      }
     },
     "a2685ae14620492fa42a1feabcc2abe0": {
      "model_module": "@jupyter-widgets/base",
      "model_module_version": "1.2.0",
      "model_name": "LayoutModel",
      "state": {}
     },
     "a294679163b64fe3a739b7317ed7ddd0": {
      "model_module": "@jupyter-widgets/controls",
      "model_module_version": "1.5.0",
      "model_name": "HTMLModel",
      "state": {
       "layout": "IPY_MODEL_fbfd1df70ae1413798400042228c9428",
       "style": "IPY_MODEL_05aa5625cb7a45b98e61449c500ef4c4",
       "value": "Validation DataLoader 0: 100%"
      }
     },
     "a2a6aec7c23d46938dbd6f46df89beaa": {
      "model_module": "@jupyter-widgets/base",
      "model_module_version": "1.2.0",
      "model_name": "LayoutModel",
      "state": {}
     },
     "a328ea9d5c3443c7a8a8c60c9d6da79d": {
      "model_module": "@jupyter-widgets/controls",
      "model_module_version": "1.5.0",
      "model_name": "DescriptionStyleModel",
      "state": {
       "description_width": ""
      }
     },
     "a339f2c8820e4bf282fd6b1230815852": {
      "model_module": "@jupyter-widgets/controls",
      "model_module_version": "1.5.0",
      "model_name": "HTMLModel",
      "state": {
       "layout": "IPY_MODEL_2f98b71ced7140a2b5768efa2157ee99",
       "style": "IPY_MODEL_ffde0a4e56a047e6948a37dc66f424d5",
       "value": "Validation DataLoader 0: 100%"
      }
     },
     "a4252a08e489491194530d4462a29c50": {
      "model_module": "@jupyter-widgets/controls",
      "model_module_version": "1.5.0",
      "model_name": "DescriptionStyleModel",
      "state": {
       "description_width": ""
      }
     },
     "a474ee3523cd44a78464e0d6d6801d67": {
      "model_module": "@jupyter-widgets/base",
      "model_module_version": "1.2.0",
      "model_name": "LayoutModel",
      "state": {
       "flex": "2"
      }
     },
     "a49c6348f2fd4ab6b7a1cdba9a2cf5ab": {
      "model_module": "@jupyter-widgets/base",
      "model_module_version": "1.2.0",
      "model_name": "LayoutModel",
      "state": {
       "display": "inline-flex",
       "flex_flow": "row wrap",
       "width": "100%"
      }
     },
     "a4bcb4286f1940c385fcf8799a08b3fd": {
      "model_module": "@jupyter-widgets/controls",
      "model_module_version": "1.5.0",
      "model_name": "HTMLModel",
      "state": {
       "layout": "IPY_MODEL_a2a6aec7c23d46938dbd6f46df89beaa",
       "style": "IPY_MODEL_7f96518ae15e4a938b209f48a3d7fc85",
       "value": "Validation DataLoader 0: 100%"
      }
     },
     "a583718827ba4f2f87aaffd29c88e465": {
      "model_module": "@jupyter-widgets/base",
      "model_module_version": "1.2.0",
      "model_name": "LayoutModel",
      "state": {}
     },
     "a65c0740b5a5418e916787dcb2e24024": {
      "model_module": "@jupyter-widgets/base",
      "model_module_version": "1.2.0",
      "model_name": "LayoutModel",
      "state": {
       "flex": "2"
      }
     },
     "a6a7a2ed5dc44c0ba63d4cc943bee695": {
      "model_module": "@jupyter-widgets/base",
      "model_module_version": "1.2.0",
      "model_name": "LayoutModel",
      "state": {
       "display": "inline-flex",
       "flex_flow": "row wrap",
       "width": "100%"
      }
     },
     "a6cb830533c445e0b47038e617e193df": {
      "model_module": "@jupyter-widgets/base",
      "model_module_version": "1.2.0",
      "model_name": "LayoutModel",
      "state": {}
     },
     "a6e1b503b0574b8fa342d00dee2581ff": {
      "model_module": "@jupyter-widgets/base",
      "model_module_version": "1.2.0",
      "model_name": "LayoutModel",
      "state": {}
     },
     "a78c67098c4349c082e3e90b5a137013": {
      "model_module": "@jupyter-widgets/controls",
      "model_module_version": "1.5.0",
      "model_name": "DescriptionStyleModel",
      "state": {
       "description_width": ""
      }
     },
     "a7cac0b7792342d3a88f973a052b9187": {
      "model_module": "@jupyter-widgets/controls",
      "model_module_version": "1.5.0",
      "model_name": "DescriptionStyleModel",
      "state": {
       "description_width": ""
      }
     },
     "a7ef73f4f3814deaaa7f8110ef325016": {
      "model_module": "@jupyter-widgets/base",
      "model_module_version": "1.2.0",
      "model_name": "LayoutModel",
      "state": {
       "display": "inline-flex",
       "flex_flow": "row wrap",
       "width": "100%"
      }
     },
     "a8207b9bc1114088b03692b58db99bfe": {
      "model_module": "@jupyter-widgets/base",
      "model_module_version": "1.2.0",
      "model_name": "LayoutModel",
      "state": {}
     },
     "a891eb9610ac4c47a22cd3fde7dff308": {
      "model_module": "@jupyter-widgets/controls",
      "model_module_version": "1.5.0",
      "model_name": "DescriptionStyleModel",
      "state": {
       "description_width": ""
      }
     },
     "aa88322c59a14d32b280a9f2f45d92f7": {
      "model_module": "@jupyter-widgets/base",
      "model_module_version": "1.2.0",
      "model_name": "LayoutModel",
      "state": {}
     },
     "abc9601cbeb842b8ba1f2267b99ec33e": {
      "model_module": "@jupyter-widgets/controls",
      "model_module_version": "1.5.0",
      "model_name": "FloatProgressModel",
      "state": {
       "layout": "IPY_MODEL_f243ea784ab04a5a9db09ef7e4c42312",
       "max": 892,
       "style": "IPY_MODEL_8ab6c236c9a443b5bb39f8c10224fbe9",
       "value": 892
      }
     },
     "ac4ae254805a43919aaa96147d3ad4d8": {
      "model_module": "@jupyter-widgets/base",
      "model_module_version": "1.2.0",
      "model_name": "LayoutModel",
      "state": {
       "display": "inline-flex",
       "flex_flow": "row wrap",
       "width": "100%"
      }
     },
     "acfbf4b5c13a4290850e4235d51c2574": {
      "model_module": "@jupyter-widgets/base",
      "model_module_version": "1.2.0",
      "model_name": "LayoutModel",
      "state": {
       "display": "inline-flex",
       "flex_flow": "row wrap",
       "width": "100%"
      }
     },
     "ae44392b662148dc9674356d4ee2726a": {
      "model_module": "@jupyter-widgets/controls",
      "model_module_version": "1.5.0",
      "model_name": "ProgressStyleModel",
      "state": {
       "description_width": ""
      }
     },
     "ae4a39fddab3425798b015a4001386c2": {
      "model_module": "@jupyter-widgets/controls",
      "model_module_version": "1.5.0",
      "model_name": "ProgressStyleModel",
      "state": {
       "description_width": ""
      }
     },
     "ae69ff1a2f4848829a40233f4641db91": {
      "model_module": "@jupyter-widgets/controls",
      "model_module_version": "1.5.0",
      "model_name": "DescriptionStyleModel",
      "state": {
       "description_width": ""
      }
     },
     "af3287969f454c9b97a7c309b970b08b": {
      "model_module": "@jupyter-widgets/base",
      "model_module_version": "1.2.0",
      "model_name": "LayoutModel",
      "state": {
       "display": "inline-flex",
       "flex_flow": "row wrap",
       "width": "100%"
      }
     },
     "af4bb789ddf4464da5fa7eae894dd6b5": {
      "model_module": "@jupyter-widgets/controls",
      "model_module_version": "1.5.0",
      "model_name": "DescriptionStyleModel",
      "state": {
       "description_width": ""
      }
     },
     "afb21db0dfb84245bae6a9049a694087": {
      "model_module": "@jupyter-widgets/base",
      "model_module_version": "1.2.0",
      "model_name": "LayoutModel",
      "state": {}
     },
     "b041855ee8ba4559a4ce3bea796f2920": {
      "model_module": "@jupyter-widgets/base",
      "model_module_version": "1.2.0",
      "model_name": "LayoutModel",
      "state": {
       "display": "inline-flex",
       "flex_flow": "row wrap",
       "width": "100%"
      }
     },
     "b09ab88864dd4c9e8e52bbe5ec7ea329": {
      "model_module": "@jupyter-widgets/base",
      "model_module_version": "1.2.0",
      "model_name": "LayoutModel",
      "state": {}
     },
     "b1072e52833b4f9b889c382aa9cda148": {
      "model_module": "@jupyter-widgets/controls",
      "model_module_version": "1.5.0",
      "model_name": "HTMLModel",
      "state": {
       "layout": "IPY_MODEL_1e1da4df104b4a859b4c28505830eb93",
       "style": "IPY_MODEL_6050e9c4e45d444ea6d98b148663c311",
       "value": " 892/892 [01:28&lt;00:00, 10.66it/s]"
      }
     },
     "b10c5cfcbbe54683b48d0e4bd10f8b2e": {
      "model_module": "@jupyter-widgets/controls",
      "model_module_version": "1.5.0",
      "model_name": "FloatProgressModel",
      "state": {
       "layout": "IPY_MODEL_84b6e905d3dd4f7aafb2344063a36c4f",
       "max": 892,
       "style": "IPY_MODEL_19a507bf032b42679bae7b13c1f30c28",
       "value": 892
      }
     },
     "b149f41195d74da5a0e1b9bebc2dad77": {
      "model_module": "@jupyter-widgets/base",
      "model_module_version": "1.2.0",
      "model_name": "LayoutModel",
      "state": {
       "flex": "2"
      }
     },
     "b14f4b8f567f477a917d49208013e4bc": {
      "model_module": "@jupyter-widgets/controls",
      "model_module_version": "1.5.0",
      "model_name": "DescriptionStyleModel",
      "state": {
       "description_width": ""
      }
     },
     "b1f980c6fc76447298c027a99f76b27c": {
      "model_module": "@jupyter-widgets/controls",
      "model_module_version": "1.5.0",
      "model_name": "DescriptionStyleModel",
      "state": {
       "description_width": ""
      }
     },
     "b20b4936deae476c8a1b0fc382247dd9": {
      "model_module": "@jupyter-widgets/controls",
      "model_module_version": "1.5.0",
      "model_name": "DescriptionStyleModel",
      "state": {
       "description_width": ""
      }
     },
     "b2d32168489b4cfdaa5daef610377d9a": {
      "model_module": "@jupyter-widgets/controls",
      "model_module_version": "1.5.0",
      "model_name": "HTMLModel",
      "state": {
       "layout": "IPY_MODEL_c697ef9d46c5424eaa554d707ccfb35f",
       "style": "IPY_MODEL_34b722579fdf43d19d488902555ea56e",
       "value": " 892/892 [01:27&lt;00:00, 10.67it/s]"
      }
     },
     "b34865b87e15409c8424a19fbb9c9c18": {
      "model_module": "@jupyter-widgets/controls",
      "model_module_version": "1.5.0",
      "model_name": "HTMLModel",
      "state": {
       "layout": "IPY_MODEL_afb21db0dfb84245bae6a9049a694087",
       "style": "IPY_MODEL_7a4f426c7f7b459e91569f4da2980e69",
       "value": " 892/892 [01:29&lt;00:00, 10.79it/s]"
      }
     },
     "b41c5fcede5e4fef954df142f70b23ea": {
      "model_module": "@jupyter-widgets/base",
      "model_module_version": "1.2.0",
      "model_name": "LayoutModel",
      "state": {}
     },
     "b45eeeb62d334cae893e913c4698f844": {
      "model_module": "@jupyter-widgets/base",
      "model_module_version": "1.2.0",
      "model_name": "LayoutModel",
      "state": {}
     },
     "b465e36be268437ab94d89311786e7ca": {
      "model_module": "@jupyter-widgets/base",
      "model_module_version": "1.2.0",
      "model_name": "LayoutModel",
      "state": {
       "flex": "2"
      }
     },
     "b48a2e9cde5f412dbc363859133e577f": {
      "model_module": "@jupyter-widgets/controls",
      "model_module_version": "1.5.0",
      "model_name": "DescriptionStyleModel",
      "state": {
       "description_width": ""
      }
     },
     "b587cbfc4e984d5687b65554a2830647": {
      "model_module": "@jupyter-widgets/controls",
      "model_module_version": "1.5.0",
      "model_name": "ProgressStyleModel",
      "state": {
       "description_width": ""
      }
     },
     "b5e674f24d3544389d84c7b6984fecf4": {
      "model_module": "@jupyter-widgets/controls",
      "model_module_version": "1.5.0",
      "model_name": "HTMLModel",
      "state": {
       "layout": "IPY_MODEL_2b73ee3daa564f27b436e9d7e2b5090e",
       "style": "IPY_MODEL_e52d590980ba468c98180608ccd99dbb",
       "value": " 892/892 [01:27&lt;00:00, 10.94it/s]"
      }
     },
     "b6446c82713b4db0be127ffb720f81e7": {
      "model_module": "@jupyter-widgets/base",
      "model_module_version": "1.2.0",
      "model_name": "LayoutModel",
      "state": {}
     },
     "b648129d14d74bf89cfc96bbb21511f3": {
      "model_module": "@jupyter-widgets/controls",
      "model_module_version": "1.5.0",
      "model_name": "DescriptionStyleModel",
      "state": {
       "description_width": ""
      }
     },
     "b66969a52cec4892a7cb28e656d077df": {
      "model_module": "@jupyter-widgets/base",
      "model_module_version": "1.2.0",
      "model_name": "LayoutModel",
      "state": {}
     },
     "b733de402e774ace87b6db6a9fd51a41": {
      "model_module": "@jupyter-widgets/base",
      "model_module_version": "1.2.0",
      "model_name": "LayoutModel",
      "state": {}
     },
     "b818e8bb5c824f42a2854cdb6a7023d8": {
      "model_module": "@jupyter-widgets/controls",
      "model_module_version": "1.5.0",
      "model_name": "FloatProgressModel",
      "state": {
       "layout": "IPY_MODEL_969423e8e8ba4b3d87e49bc44aa475d3",
       "max": 892,
       "style": "IPY_MODEL_9d8538091f9d4ba5ba95ebc5da6c3ad5",
       "value": 892
      }
     },
     "b893772907954a3dac9e951766c351cd": {
      "model_module": "@jupyter-widgets/controls",
      "model_module_version": "1.5.0",
      "model_name": "ProgressStyleModel",
      "state": {
       "description_width": ""
      }
     },
     "b8c214acfa194c72b8c12f4af1b7f0fe": {
      "model_module": "@jupyter-widgets/controls",
      "model_module_version": "1.5.0",
      "model_name": "ProgressStyleModel",
      "state": {
       "description_width": ""
      }
     },
     "ba1ea03639854aed9c9119d019851e55": {
      "model_module": "@jupyter-widgets/controls",
      "model_module_version": "1.5.0",
      "model_name": "DescriptionStyleModel",
      "state": {
       "description_width": ""
      }
     },
     "ba26976efb11486ea2b1e34cb1f46433": {
      "model_module": "@jupyter-widgets/controls",
      "model_module_version": "1.5.0",
      "model_name": "DescriptionStyleModel",
      "state": {
       "description_width": ""
      }
     },
     "bb1eb298994c423eb9add96e321faf56": {
      "model_module": "@jupyter-widgets/controls",
      "model_module_version": "1.5.0",
      "model_name": "DescriptionStyleModel",
      "state": {
       "description_width": ""
      }
     },
     "bb9ab6b6c85d48a49ab05c8cdfd97770": {
      "model_module": "@jupyter-widgets/base",
      "model_module_version": "1.2.0",
      "model_name": "LayoutModel",
      "state": {
       "flex": "2"
      }
     },
     "bc668123e2774976b62796d0f81cffd3": {
      "model_module": "@jupyter-widgets/controls",
      "model_module_version": "1.5.0",
      "model_name": "DescriptionStyleModel",
      "state": {
       "description_width": ""
      }
     },
     "bcb05f8d27d24e738b4f01cbdec2a391": {
      "model_module": "@jupyter-widgets/controls",
      "model_module_version": "1.5.0",
      "model_name": "DescriptionStyleModel",
      "state": {
       "description_width": ""
      }
     },
     "bcdd9d870e354224b09ff480f98695a8": {
      "model_module": "@jupyter-widgets/base",
      "model_module_version": "1.2.0",
      "model_name": "LayoutModel",
      "state": {}
     },
     "bdce44e52c534e5690477e347de35fd6": {
      "model_module": "@jupyter-widgets/controls",
      "model_module_version": "1.5.0",
      "model_name": "HTMLModel",
      "state": {
       "layout": "IPY_MODEL_76346e40e50c4ba69223e03b6fe209a1",
       "style": "IPY_MODEL_95520f6fc854473f8fe6bc16db557425",
       "value": "Validation DataLoader 0: 100%"
      }
     },
     "be2fe4b1291e4316a9959468a9e988e0": {
      "model_module": "@jupyter-widgets/controls",
      "model_module_version": "1.5.0",
      "model_name": "ProgressStyleModel",
      "state": {
       "description_width": ""
      }
     },
     "bec6cb933ab14991bb8f7f84704f2841": {
      "model_module": "@jupyter-widgets/base",
      "model_module_version": "1.2.0",
      "model_name": "LayoutModel",
      "state": {}
     },
     "c0ff5d99c92d494d8db3acf2ede54f32": {
      "model_module": "@jupyter-widgets/controls",
      "model_module_version": "1.5.0",
      "model_name": "FloatProgressModel",
      "state": {
       "layout": "IPY_MODEL_e21e861a0b6e46989f09307b7db89909",
       "max": 892,
       "style": "IPY_MODEL_f34dfa35a9fe4dcfb4304d42a9db4692",
       "value": 892
      }
     },
     "c16916afa85342d7bde05287a589aa80": {
      "model_module": "@jupyter-widgets/base",
      "model_module_version": "1.2.0",
      "model_name": "LayoutModel",
      "state": {}
     },
     "c1ab4f151271438fb82dac0c63ff42a3": {
      "model_module": "@jupyter-widgets/base",
      "model_module_version": "1.2.0",
      "model_name": "LayoutModel",
      "state": {
       "display": "inline-flex",
       "flex_flow": "row wrap",
       "width": "100%"
      }
     },
     "c21312859c404f07a0d06833821b8f3f": {
      "model_module": "@jupyter-widgets/base",
      "model_module_version": "1.2.0",
      "model_name": "LayoutModel",
      "state": {}
     },
     "c2c2a54a430a492ea27d422051b7c972": {
      "model_module": "@jupyter-widgets/controls",
      "model_module_version": "1.5.0",
      "model_name": "HTMLModel",
      "state": {
       "layout": "IPY_MODEL_bec6cb933ab14991bb8f7f84704f2841",
       "style": "IPY_MODEL_0c2431d9179649c9bd23a56b414d274c",
       "value": " 892/892 [01:27&lt;00:00, 10.84it/s]"
      }
     },
     "c3203347776c467e8a86ab92a65621c1": {
      "model_module": "@jupyter-widgets/controls",
      "model_module_version": "1.5.0",
      "model_name": "DescriptionStyleModel",
      "state": {
       "description_width": ""
      }
     },
     "c32b9d75fe18423e92a3d66029d05c9c": {
      "model_module": "@jupyter-widgets/base",
      "model_module_version": "1.2.0",
      "model_name": "LayoutModel",
      "state": {
       "display": "inline-flex",
       "flex_flow": "row wrap",
       "width": "100%"
      }
     },
     "c3300c6f59c34933a2428211b61bb5b2": {
      "model_module": "@jupyter-widgets/controls",
      "model_module_version": "1.5.0",
      "model_name": "FloatProgressModel",
      "state": {
       "layout": "IPY_MODEL_6a1b9e70ce524c4781827ba966e3e26d",
       "max": 892,
       "style": "IPY_MODEL_c46fe954b2474e4e85a5f609c4818712",
       "value": 892
      }
     },
     "c355f6d065dc429cbdbec425892fb421": {
      "model_module": "@jupyter-widgets/base",
      "model_module_version": "1.2.0",
      "model_name": "LayoutModel",
      "state": {}
     },
     "c3a081e4316b4e2684d12d76b9a09260": {
      "model_module": "@jupyter-widgets/controls",
      "model_module_version": "1.5.0",
      "model_name": "DescriptionStyleModel",
      "state": {
       "description_width": ""
      }
     },
     "c3d13a24213f410e93222000b63f8bc7": {
      "model_module": "@jupyter-widgets/controls",
      "model_module_version": "1.5.0",
      "model_name": "DescriptionStyleModel",
      "state": {
       "description_width": ""
      }
     },
     "c4455075765642ac894f3e5ec7d8dff4": {
      "model_module": "@jupyter-widgets/controls",
      "model_module_version": "1.5.0",
      "model_name": "HTMLModel",
      "state": {
       "layout": "IPY_MODEL_3c7a1f07f01d40379b8d03da494f850b",
       "style": "IPY_MODEL_a7cac0b7792342d3a88f973a052b9187",
       "value": " 892/892 [01:28&lt;00:00, 10.75it/s]"
      }
     },
     "c44da1a36849499a99b6d314341ec401": {
      "model_module": "@jupyter-widgets/controls",
      "model_module_version": "1.5.0",
      "model_name": "FloatProgressModel",
      "state": {
       "layout": "IPY_MODEL_ca0d616c0d4445ed85ce36e3c68354fd",
       "max": 892,
       "style": "IPY_MODEL_232ff6f8f8f14d809f1eb0c379298913",
       "value": 892
      }
     },
     "c46fe954b2474e4e85a5f609c4818712": {
      "model_module": "@jupyter-widgets/controls",
      "model_module_version": "1.5.0",
      "model_name": "ProgressStyleModel",
      "state": {
       "description_width": ""
      }
     },
     "c4e9a8a0b627436a87daa588f24c98c0": {
      "model_module": "@jupyter-widgets/controls",
      "model_module_version": "1.5.0",
      "model_name": "FloatProgressModel",
      "state": {
       "layout": "IPY_MODEL_a474ee3523cd44a78464e0d6d6801d67",
       "max": 892,
       "style": "IPY_MODEL_cb0862028a4341f69804310fc9dd8c7f",
       "value": 892
      }
     },
     "c504dbaf3dec41109e9132c6a5317621": {
      "model_module": "@jupyter-widgets/base",
      "model_module_version": "1.2.0",
      "model_name": "LayoutModel",
      "state": {}
     },
     "c55a36b117ac4d0aa89a4b4489141c22": {
      "model_module": "@jupyter-widgets/base",
      "model_module_version": "1.2.0",
      "model_name": "LayoutModel",
      "state": {}
     },
     "c59795dc80e5422895b22dbb9363c525": {
      "model_module": "@jupyter-widgets/controls",
      "model_module_version": "1.5.0",
      "model_name": "DescriptionStyleModel",
      "state": {
       "description_width": ""
      }
     },
     "c697ef9d46c5424eaa554d707ccfb35f": {
      "model_module": "@jupyter-widgets/base",
      "model_module_version": "1.2.0",
      "model_name": "LayoutModel",
      "state": {}
     },
     "c73ff9c0e6ed44a3a8a6846c87b07c2c": {
      "model_module": "@jupyter-widgets/controls",
      "model_module_version": "1.5.0",
      "model_name": "FloatProgressModel",
      "state": {
       "layout": "IPY_MODEL_f83e65b4c640406992764724f2be2341",
       "max": 892,
       "style": "IPY_MODEL_eb09370c09bc409c982e5236ef465a24",
       "value": 892
      }
     },
     "c762ebb161554916b256f5483294990f": {
      "model_module": "@jupyter-widgets/controls",
      "model_module_version": "1.5.0",
      "model_name": "FloatProgressModel",
      "state": {
       "layout": "IPY_MODEL_6390777a7b764cae9b78b1f084bf7f95",
       "max": 892,
       "style": "IPY_MODEL_1bfbdec6708e4d77be79763e94873eb9",
       "value": 892
      }
     },
     "c7ceece4e7a34864a78b2d352aaa0236": {
      "model_module": "@jupyter-widgets/base",
      "model_module_version": "1.2.0",
      "model_name": "LayoutModel",
      "state": {
       "display": "inline-flex",
       "flex_flow": "row wrap",
       "width": "100%"
      }
     },
     "c83d905a29494744bf686a69da462104": {
      "model_module": "@jupyter-widgets/base",
      "model_module_version": "1.2.0",
      "model_name": "LayoutModel",
      "state": {
       "flex": "2"
      }
     },
     "c8e01dbc6c1b49d282b7167bbcbb7b51": {
      "model_module": "@jupyter-widgets/controls",
      "model_module_version": "1.5.0",
      "model_name": "DescriptionStyleModel",
      "state": {
       "description_width": ""
      }
     },
     "c8f0d568f7ff40c0bf059611a794cb4f": {
      "model_module": "@jupyter-widgets/controls",
      "model_module_version": "1.5.0",
      "model_name": "HTMLModel",
      "state": {
       "layout": "IPY_MODEL_e7b77b876ad74574848c4d19bef511b8",
       "style": "IPY_MODEL_7765e3c7982b4594ba655436976b1153",
       "value": "Validation DataLoader 0: 100%"
      }
     },
     "c9f56ee104cf4941866d4a9c699a49ae": {
      "model_module": "@jupyter-widgets/controls",
      "model_module_version": "1.5.0",
      "model_name": "DescriptionStyleModel",
      "state": {
       "description_width": ""
      }
     },
     "ca0d616c0d4445ed85ce36e3c68354fd": {
      "model_module": "@jupyter-widgets/base",
      "model_module_version": "1.2.0",
      "model_name": "LayoutModel",
      "state": {
       "flex": "2"
      }
     },
     "ca180cf437f6494e9e4fb04ef8bc0828": {
      "model_module": "@jupyter-widgets/controls",
      "model_module_version": "1.5.0",
      "model_name": "FloatProgressModel",
      "state": {
       "layout": "IPY_MODEL_f0b71aac27624ac69bf2dc2f9681d185",
       "max": 892,
       "style": "IPY_MODEL_0f7f1ff0e685463e9caad5010f2fdfcc",
       "value": 892
      }
     },
     "cb0862028a4341f69804310fc9dd8c7f": {
      "model_module": "@jupyter-widgets/controls",
      "model_module_version": "1.5.0",
      "model_name": "ProgressStyleModel",
      "state": {
       "description_width": ""
      }
     },
     "cb10eb4b213e4be48fa90bae6c0b85b9": {
      "model_module": "@jupyter-widgets/controls",
      "model_module_version": "1.5.0",
      "model_name": "HTMLModel",
      "state": {
       "layout": "IPY_MODEL_648f082c3bbb4ec7b59db324167af264",
       "style": "IPY_MODEL_b1f980c6fc76447298c027a99f76b27c",
       "value": " 892/892 [01:27&lt;00:00, 11.00it/s]"
      }
     },
     "ccf8dc0f5aea452b86a7c45017932de8": {
      "model_module": "@jupyter-widgets/base",
      "model_module_version": "1.2.0",
      "model_name": "LayoutModel",
      "state": {}
     },
     "ce81ac92a603489ebe05f0e840d68c15": {
      "model_module": "@jupyter-widgets/controls",
      "model_module_version": "1.5.0",
      "model_name": "ProgressStyleModel",
      "state": {
       "description_width": ""
      }
     },
     "ce8782b71e1f4339b02dc3fa5731461d": {
      "model_module": "@jupyter-widgets/base",
      "model_module_version": "1.2.0",
      "model_name": "LayoutModel",
      "state": {
       "flex": "2"
      }
     },
     "cf5509a765744e3d875996b0fb99e007": {
      "model_module": "@jupyter-widgets/base",
      "model_module_version": "1.2.0",
      "model_name": "LayoutModel",
      "state": {
       "display": "inline-flex",
       "flex_flow": "row wrap",
       "width": "100%"
      }
     },
     "cf57f4a2716f4a78adeed09e833ef202": {
      "model_module": "@jupyter-widgets/controls",
      "model_module_version": "1.5.0",
      "model_name": "HTMLModel",
      "state": {
       "layout": "IPY_MODEL_8c4d7134d27346e19989a89fb50a80a6",
       "style": "IPY_MODEL_44762c5ff1264baf8960ff938d11dce2",
       "value": " 892/892 [01:28&lt;00:00, 10.82it/s]"
      }
     },
     "cfe7b1cca9ce449fb8fd97c5e3289a91": {
      "model_module": "@jupyter-widgets/controls",
      "model_module_version": "1.5.0",
      "model_name": "ProgressStyleModel",
      "state": {
       "description_width": ""
      }
     },
     "d1aed294421249e1b7e2a35e2a748bd7": {
      "model_module": "@jupyter-widgets/base",
      "model_module_version": "1.2.0",
      "model_name": "LayoutModel",
      "state": {
       "display": "inline-flex",
       "flex_flow": "row wrap",
       "width": "100%"
      }
     },
     "d2f06cfd4c8542929b97b8e5b2000415": {
      "model_module": "@jupyter-widgets/base",
      "model_module_version": "1.2.0",
      "model_name": "LayoutModel",
      "state": {
       "flex": "2"
      }
     },
     "d3172c070c55490fa372cd1d3ac7788e": {
      "model_module": "@jupyter-widgets/controls",
      "model_module_version": "1.5.0",
      "model_name": "HTMLModel",
      "state": {
       "layout": "IPY_MODEL_6578449b550340e38b5e8e8ed122d4eb",
       "style": "IPY_MODEL_bcb05f8d27d24e738b4f01cbdec2a391",
       "value": "Validation DataLoader 0: 100%"
      }
     },
     "d38a4138936a492c8d1c614edc6cb4fb": {
      "model_module": "@jupyter-widgets/base",
      "model_module_version": "1.2.0",
      "model_name": "LayoutModel",
      "state": {
       "flex": "2"
      }
     },
     "d38e71eb74304401bb48df02aed69d34": {
      "model_module": "@jupyter-widgets/base",
      "model_module_version": "1.2.0",
      "model_name": "LayoutModel",
      "state": {
       "display": "inline-flex",
       "flex_flow": "row wrap",
       "width": "100%"
      }
     },
     "d3f8a7d4ed424764bfd0e12383a30110": {
      "model_module": "@jupyter-widgets/controls",
      "model_module_version": "1.5.0",
      "model_name": "HTMLModel",
      "state": {
       "layout": "IPY_MODEL_6d54bdb93c6e49f9835c15f723cd435a",
       "style": "IPY_MODEL_6838a7b1698c43e6b2aae7dd0a00c554",
       "value": "Validation DataLoader 0: 100%"
      }
     },
     "d40d2b51634a4622b679f459d7bde6cb": {
      "model_module": "@jupyter-widgets/controls",
      "model_module_version": "1.5.0",
      "model_name": "HTMLModel",
      "state": {
       "layout": "IPY_MODEL_a583718827ba4f2f87aaffd29c88e465",
       "style": "IPY_MODEL_f86b79ede8b940adad58a9bb143cf403",
       "value": "Validation DataLoader 0: 100%"
      }
     },
     "d414ffa0da0343efa2a25e8495fa6915": {
      "model_module": "@jupyter-widgets/base",
      "model_module_version": "1.2.0",
      "model_name": "LayoutModel",
      "state": {}
     },
     "d51391dfa1fe4f288d726c67d56fb254": {
      "model_module": "@jupyter-widgets/base",
      "model_module_version": "1.2.0",
      "model_name": "LayoutModel",
      "state": {
       "flex": "2"
      }
     },
     "d650da765fc34c0fafb5856dc344e348": {
      "model_module": "@jupyter-widgets/base",
      "model_module_version": "1.2.0",
      "model_name": "LayoutModel",
      "state": {
       "display": "inline-flex",
       "flex_flow": "row wrap",
       "width": "100%"
      }
     },
     "d70a46d696b14ad382b2ae5047ffa169": {
      "model_module": "@jupyter-widgets/controls",
      "model_module_version": "1.5.0",
      "model_name": "FloatProgressModel",
      "state": {
       "layout": "IPY_MODEL_6a5ad2a402f5415285d6531300b38c59",
       "max": 892,
       "style": "IPY_MODEL_ce81ac92a603489ebe05f0e840d68c15",
       "value": 892
      }
     },
     "da128e93d2334abd83528b31c454bf1b": {
      "model_module": "@jupyter-widgets/base",
      "model_module_version": "1.2.0",
      "model_name": "LayoutModel",
      "state": {
       "display": "inline-flex",
       "flex_flow": "row wrap",
       "width": "100%"
      }
     },
     "db347afbf4684b3f8e9b5404f28dfa38": {
      "model_module": "@jupyter-widgets/base",
      "model_module_version": "1.2.0",
      "model_name": "LayoutModel",
      "state": {}
     },
     "dbc658414b67418f8f65330f519e0f9e": {
      "model_module": "@jupyter-widgets/controls",
      "model_module_version": "1.5.0",
      "model_name": "HTMLModel",
      "state": {
       "layout": "IPY_MODEL_7f608bef9a0449ffae78bd1905af2f9c",
       "style": "IPY_MODEL_3d8dfba879e74fdeb528f5e12721b8e7",
       "value": " 892/892 [01:27&lt;00:00, 10.72it/s]"
      }
     },
     "dc1a205ad5d04e19a7d646975945f556": {
      "model_module": "@jupyter-widgets/base",
      "model_module_version": "1.2.0",
      "model_name": "LayoutModel",
      "state": {}
     },
     "de9415eb300342578099690e71d52390": {
      "model_module": "@jupyter-widgets/base",
      "model_module_version": "1.2.0",
      "model_name": "LayoutModel",
      "state": {
       "flex": "2"
      }
     },
     "de9aa5714ceb45afafbe8cb1b4132ca7": {
      "model_module": "@jupyter-widgets/controls",
      "model_module_version": "1.5.0",
      "model_name": "HTMLModel",
      "state": {
       "layout": "IPY_MODEL_2e9192d12a724d429fad62044051b3fc",
       "style": "IPY_MODEL_c8e01dbc6c1b49d282b7167bbcbb7b51",
       "value": "Validation DataLoader 0: 100%"
      }
     },
     "dea2cb79f18841af8057993568308143": {
      "model_module": "@jupyter-widgets/controls",
      "model_module_version": "1.5.0",
      "model_name": "ProgressStyleModel",
      "state": {
       "description_width": ""
      }
     },
     "e02f7feeb19c4fdc9f80b5f9cdc40fa2": {
      "model_module": "@jupyter-widgets/controls",
      "model_module_version": "1.5.0",
      "model_name": "HTMLModel",
      "state": {
       "layout": "IPY_MODEL_1a8b5ca8af6649738065a5636b5635da",
       "style": "IPY_MODEL_a78c67098c4349c082e3e90b5a137013",
       "value": " 892/892 [01:27&lt;00:00, 11.05it/s]"
      }
     },
     "e0a51a3cc640483f9699e8a7277413cf": {
      "model_module": "@jupyter-widgets/controls",
      "model_module_version": "1.5.0",
      "model_name": "HTMLModel",
      "state": {
       "layout": "IPY_MODEL_e3ce27065bf74c76aaf5bf00c8df635c",
       "style": "IPY_MODEL_7c012277c14041d6a062a43c23af70f7",
       "value": " 892/892 [01:28&lt;00:00, 10.44it/s]"
      }
     },
     "e21e861a0b6e46989f09307b7db89909": {
      "model_module": "@jupyter-widgets/base",
      "model_module_version": "1.2.0",
      "model_name": "LayoutModel",
      "state": {
       "flex": "2"
      }
     },
     "e24af094d40f4747a75ed4b7a7db1427": {
      "model_module": "@jupyter-widgets/controls",
      "model_module_version": "1.5.0",
      "model_name": "ProgressStyleModel",
      "state": {
       "description_width": ""
      }
     },
     "e327cef2f2c04bc5a8ab3b3dfc31779d": {
      "model_module": "@jupyter-widgets/controls",
      "model_module_version": "1.5.0",
      "model_name": "HTMLModel",
      "state": {
       "layout": "IPY_MODEL_9978e025269b48bdb23b82808ec6cc3f",
       "style": "IPY_MODEL_f39bc775a72846df89a8d07eb092c0ff",
       "value": " 892/892 [01:27&lt;00:00, 10.70it/s]"
      }
     },
     "e3ae9c46e947497b88b92cf8678cb3f4": {
      "model_module": "@jupyter-widgets/controls",
      "model_module_version": "1.5.0",
      "model_name": "DescriptionStyleModel",
      "state": {
       "description_width": ""
      }
     },
     "e3ce27065bf74c76aaf5bf00c8df635c": {
      "model_module": "@jupyter-widgets/base",
      "model_module_version": "1.2.0",
      "model_name": "LayoutModel",
      "state": {}
     },
     "e43a62ad2331446681e2a846ba53e75d": {
      "model_module": "@jupyter-widgets/controls",
      "model_module_version": "1.5.0",
      "model_name": "HTMLModel",
      "state": {
       "layout": "IPY_MODEL_b09ab88864dd4c9e8e52bbe5ec7ea329",
       "style": "IPY_MODEL_9d791eece9c7466997bc506e1c0fc37b",
       "value": "Validation DataLoader 0: 100%"
      }
     },
     "e52d590980ba468c98180608ccd99dbb": {
      "model_module": "@jupyter-widgets/controls",
      "model_module_version": "1.5.0",
      "model_name": "DescriptionStyleModel",
      "state": {
       "description_width": ""
      }
     },
     "e590df0b84104a61a2bef9843477ef01": {
      "model_module": "@jupyter-widgets/controls",
      "model_module_version": "1.5.0",
      "model_name": "ProgressStyleModel",
      "state": {
       "description_width": ""
      }
     },
     "e603a0af87b24f5cbf1e4116beb1004c": {
      "model_module": "@jupyter-widgets/controls",
      "model_module_version": "1.5.0",
      "model_name": "DescriptionStyleModel",
      "state": {
       "description_width": ""
      }
     },
     "e61cd2eb0c82419ead3ff519de13035e": {
      "model_module": "@jupyter-widgets/controls",
      "model_module_version": "1.5.0",
      "model_name": "HTMLModel",
      "state": {
       "layout": "IPY_MODEL_bcdd9d870e354224b09ff480f98695a8",
       "style": "IPY_MODEL_7d7cae9243204681922a763ab2b6f564",
       "value": " 892/892 [01:27&lt;00:00, 10.60it/s]"
      }
     },
     "e6507a4307274bd8b75329032d295656": {
      "model_module": "@jupyter-widgets/controls",
      "model_module_version": "1.5.0",
      "model_name": "HTMLModel",
      "state": {
       "layout": "IPY_MODEL_5533153fcded4ea689ca1f94f91f0f37",
       "style": "IPY_MODEL_93eef4393a0044f7955730d9ceb65562",
       "value": " 892/892 [01:26&lt;00:00, 10.95it/s]"
      }
     },
     "e6b4cbf87b454bd494e7b479bee90e52": {
      "model_module": "@jupyter-widgets/controls",
      "model_module_version": "1.5.0",
      "model_name": "HTMLModel",
      "state": {
       "layout": "IPY_MODEL_b66969a52cec4892a7cb28e656d077df",
       "style": "IPY_MODEL_08a4ff028d3e4320a606b7d97beb6476",
       "value": " 892/892 [01:26&lt;00:00, 10.96it/s]"
      }
     },
     "e6dd0c97ec914a0bbb1adc5648be5596": {
      "model_module": "@jupyter-widgets/controls",
      "model_module_version": "1.5.0",
      "model_name": "DescriptionStyleModel",
      "state": {
       "description_width": ""
      }
     },
     "e6e66dd419a2401a9d814a59cbcbed6c": {
      "model_module": "@jupyter-widgets/controls",
      "model_module_version": "1.5.0",
      "model_name": "HTMLModel",
      "state": {
       "layout": "IPY_MODEL_87e1458925d44ced8eed570cbd2c2b83",
       "style": "IPY_MODEL_ecdf628b32094aad9cf35389f1bceddc",
       "value": " 892/892 [01:28&lt;00:00, 10.93it/s]"
      }
     },
     "e7281cdea7d544cc8003b1468a0c22ba": {
      "model_module": "@jupyter-widgets/controls",
      "model_module_version": "1.5.0",
      "model_name": "ProgressStyleModel",
      "state": {
       "description_width": ""
      }
     },
     "e7b77b876ad74574848c4d19bef511b8": {
      "model_module": "@jupyter-widgets/base",
      "model_module_version": "1.2.0",
      "model_name": "LayoutModel",
      "state": {}
     },
     "e845ef2fa7ed4fbaa6c02a460fb906a9": {
      "model_module": "@jupyter-widgets/controls",
      "model_module_version": "1.5.0",
      "model_name": "FloatProgressModel",
      "state": {
       "layout": "IPY_MODEL_17f69b2218c648dc8b8f07756a6fd664",
       "max": 892,
       "style": "IPY_MODEL_b587cbfc4e984d5687b65554a2830647",
       "value": 892
      }
     },
     "e8615456843e47e680cab1bc4ddc38a0": {
      "model_module": "@jupyter-widgets/controls",
      "model_module_version": "1.5.0",
      "model_name": "ProgressStyleModel",
      "state": {
       "description_width": ""
      }
     },
     "e86227cb61674deb98d21446813e1a5a": {
      "model_module": "@jupyter-widgets/controls",
      "model_module_version": "1.5.0",
      "model_name": "HTMLModel",
      "state": {
       "layout": "IPY_MODEL_5417ce94454f407b8f52748faa9b774f",
       "style": "IPY_MODEL_714a1571603648988492667ca7dd4c30",
       "value": "Validation DataLoader 0: 100%"
      }
     },
     "e890b1844b07448e9e04facada7951ea": {
      "model_module": "@jupyter-widgets/base",
      "model_module_version": "1.2.0",
      "model_name": "LayoutModel",
      "state": {}
     },
     "e9290c6439a8403eb968184540a9d2f1": {
      "model_module": "@jupyter-widgets/controls",
      "model_module_version": "1.5.0",
      "model_name": "HTMLModel",
      "state": {
       "layout": "IPY_MODEL_fad6cabcb9624689bd020c4b0aaaec6a",
       "style": "IPY_MODEL_7823c210123b4cd0b89b5d27ddbaec11",
       "value": "Validation DataLoader 0: 100%"
      }
     },
     "e93dfad5296f4bf8852401252685d320": {
      "model_module": "@jupyter-widgets/controls",
      "model_module_version": "1.5.0",
      "model_name": "ProgressStyleModel",
      "state": {
       "description_width": ""
      }
     },
     "ea30aef48bf142ebb2665a9578e42ade": {
      "model_module": "@jupyter-widgets/controls",
      "model_module_version": "1.5.0",
      "model_name": "HTMLModel",
      "state": {
       "layout": "IPY_MODEL_81b412eae9e44e128e640442e09a4ed6",
       "style": "IPY_MODEL_72ae0b28c12a4b82bda0aa7824bb698e",
       "value": " 892/892 [01:27&lt;00:00, 10.77it/s]"
      }
     },
     "ea44c566777f49989781b1f80a2241ae": {
      "model_module": "@jupyter-widgets/base",
      "model_module_version": "1.2.0",
      "model_name": "LayoutModel",
      "state": {
       "display": "inline-flex",
       "flex_flow": "row wrap",
       "width": "100%"
      }
     },
     "eace8f99a0754d23a4277529fd2b0578": {
      "model_module": "@jupyter-widgets/controls",
      "model_module_version": "1.5.0",
      "model_name": "HTMLModel",
      "state": {
       "layout": "IPY_MODEL_7099d8210944461f9aa236f67f422fde",
       "style": "IPY_MODEL_b648129d14d74bf89cfc96bbb21511f3",
       "value": "Validation DataLoader 0: 100%"
      }
     },
     "eb03321b3a624212bd00a8744f0042af": {
      "model_module": "@jupyter-widgets/base",
      "model_module_version": "1.2.0",
      "model_name": "LayoutModel",
      "state": {
       "display": "inline-flex",
       "flex_flow": "row wrap",
       "width": "100%"
      }
     },
     "eb09370c09bc409c982e5236ef465a24": {
      "model_module": "@jupyter-widgets/controls",
      "model_module_version": "1.5.0",
      "model_name": "ProgressStyleModel",
      "state": {
       "description_width": ""
      }
     },
     "eb190b05f24e4b42bb254ae6f8cfa239": {
      "model_module": "@jupyter-widgets/base",
      "model_module_version": "1.2.0",
      "model_name": "LayoutModel",
      "state": {}
     },
     "eb2a418b5e31420d839f470cebb55eb8": {
      "model_module": "@jupyter-widgets/base",
      "model_module_version": "1.2.0",
      "model_name": "LayoutModel",
      "state": {}
     },
     "ecbdf56764a440faad0aba36a45cc9f1": {
      "model_module": "@jupyter-widgets/controls",
      "model_module_version": "1.5.0",
      "model_name": "HTMLModel",
      "state": {
       "layout": "IPY_MODEL_8bc72d928434456bbb1acfbe90e71383",
       "style": "IPY_MODEL_c3203347776c467e8a86ab92a65621c1",
       "value": "Validation DataLoader 0: 100%"
      }
     },
     "ecdf628b32094aad9cf35389f1bceddc": {
      "model_module": "@jupyter-widgets/controls",
      "model_module_version": "1.5.0",
      "model_name": "DescriptionStyleModel",
      "state": {
       "description_width": ""
      }
     },
     "ed24a68a458d434fa07b1b7fd76aaa96": {
      "model_module": "@jupyter-widgets/controls",
      "model_module_version": "1.5.0",
      "model_name": "FloatProgressModel",
      "state": {
       "layout": "IPY_MODEL_4336da111d6f4e8195f56b7c5456f341",
       "max": 892,
       "style": "IPY_MODEL_952d7c45cd0c459d90125fb0afc44ca5",
       "value": 892
      }
     },
     "ee36297d0b3d42d4b44648a675c54ef9": {
      "model_module": "@jupyter-widgets/controls",
      "model_module_version": "1.5.0",
      "model_name": "DescriptionStyleModel",
      "state": {
       "description_width": ""
      }
     },
     "ee5769a3e1294a108cf2113345801045": {
      "model_module": "@jupyter-widgets/base",
      "model_module_version": "1.2.0",
      "model_name": "LayoutModel",
      "state": {
       "display": "inline-flex",
       "flex_flow": "row wrap",
       "width": "100%"
      }
     },
     "ef7322d15c53451d80702b4e87a59864": {
      "model_module": "@jupyter-widgets/controls",
      "model_module_version": "1.5.0",
      "model_name": "HTMLModel",
      "state": {
       "layout": "IPY_MODEL_987f92f2de2c458bae30d0d20da763ee",
       "style": "IPY_MODEL_3cadf72292404de68782d7087d63ddaa",
       "value": " 892/892 [01:27&lt;00:00, 10.79it/s]"
      }
     },
     "eff3d535e75e4f1181ec41372041bd2e": {
      "model_module": "@jupyter-widgets/controls",
      "model_module_version": "1.5.0",
      "model_name": "HTMLModel",
      "state": {
       "layout": "IPY_MODEL_76cbba3814934460984e8b8f24c7f915",
       "style": "IPY_MODEL_36e08a685ab845e796d92884c0ea2c3b",
       "value": "Validation DataLoader 0: 100%"
      }
     },
     "f0b71aac27624ac69bf2dc2f9681d185": {
      "model_module": "@jupyter-widgets/base",
      "model_module_version": "1.2.0",
      "model_name": "LayoutModel",
      "state": {
       "flex": "2"
      }
     },
     "f1ed5a4822ee43808d66f65ea2cd2ed1": {
      "model_module": "@jupyter-widgets/base",
      "model_module_version": "1.2.0",
      "model_name": "LayoutModel",
      "state": {}
     },
     "f239b651ea78477283016bea2d5172a0": {
      "model_module": "@jupyter-widgets/controls",
      "model_module_version": "1.5.0",
      "model_name": "DescriptionStyleModel",
      "state": {
       "description_width": ""
      }
     },
     "f243ea784ab04a5a9db09ef7e4c42312": {
      "model_module": "@jupyter-widgets/base",
      "model_module_version": "1.2.0",
      "model_name": "LayoutModel",
      "state": {
       "flex": "2"
      }
     },
     "f2987b34355345ad9e8f230ce1fefd90": {
      "model_module": "@jupyter-widgets/controls",
      "model_module_version": "1.5.0",
      "model_name": "FloatProgressModel",
      "state": {
       "layout": "IPY_MODEL_2d9a3a101b93424e9870a306f12b0818",
       "max": 892,
       "style": "IPY_MODEL_5c1e4726b37342e9ab8366e267374bcb",
       "value": 892
      }
     },
     "f2a115da9b58442f8f03bb9ae2eadf4d": {
      "model_module": "@jupyter-widgets/controls",
      "model_module_version": "1.5.0",
      "model_name": "HTMLModel",
      "state": {
       "layout": "IPY_MODEL_f84e747618ab486783b2216471d2c023",
       "style": "IPY_MODEL_9eb01a9bae3c42b3ae670f6bbf5f7270",
       "value": "Validation DataLoader 0: 100%"
      }
     },
     "f2dc86ca5c3c406ba3bf8b73a977a8ad": {
      "model_module": "@jupyter-widgets/base",
      "model_module_version": "1.2.0",
      "model_name": "LayoutModel",
      "state": {
       "flex": "2"
      }
     },
     "f2e98e550e044010b2e4ae0abee320bc": {
      "model_module": "@jupyter-widgets/base",
      "model_module_version": "1.2.0",
      "model_name": "LayoutModel",
      "state": {}
     },
     "f34dfa35a9fe4dcfb4304d42a9db4692": {
      "model_module": "@jupyter-widgets/controls",
      "model_module_version": "1.5.0",
      "model_name": "ProgressStyleModel",
      "state": {
       "description_width": ""
      }
     },
     "f39bc775a72846df89a8d07eb092c0ff": {
      "model_module": "@jupyter-widgets/controls",
      "model_module_version": "1.5.0",
      "model_name": "DescriptionStyleModel",
      "state": {
       "description_width": ""
      }
     },
     "f3fe4014d89347ce95b38b539b3f1781": {
      "model_module": "@jupyter-widgets/base",
      "model_module_version": "1.2.0",
      "model_name": "LayoutModel",
      "state": {
       "flex": "2"
      }
     },
     "f45500f2ce3544f38cadcaa3df583266": {
      "model_module": "@jupyter-widgets/controls",
      "model_module_version": "1.5.0",
      "model_name": "HTMLModel",
      "state": {
       "layout": "IPY_MODEL_710226ab50e4478088f3dfba8afe3b77",
       "style": "IPY_MODEL_9b04ea5aac224e3ab10b6f421fa320ed",
       "value": "Validation DataLoader 0: 100%"
      }
     },
     "f54200839f1841138d71d70e363308e8": {
      "model_module": "@jupyter-widgets/controls",
      "model_module_version": "1.5.0",
      "model_name": "FloatProgressModel",
      "state": {
       "layout": "IPY_MODEL_26647afe37db44ea806e254c6e735e49",
       "max": 892,
       "style": "IPY_MODEL_62697dd9d3e34d599e1c4910757490ff",
       "value": 892
      }
     },
     "f74998097da34c57ac98a65af744eb3c": {
      "model_module": "@jupyter-widgets/controls",
      "model_module_version": "1.5.0",
      "model_name": "FloatProgressModel",
      "state": {
       "layout": "IPY_MODEL_a65c0740b5a5418e916787dcb2e24024",
       "max": 892,
       "style": "IPY_MODEL_e93dfad5296f4bf8852401252685d320",
       "value": 892
      }
     },
     "f7e28913902d419b874fd8773593255c": {
      "model_module": "@jupyter-widgets/base",
      "model_module_version": "1.2.0",
      "model_name": "LayoutModel",
      "state": {
       "flex": "2"
      }
     },
     "f83e65b4c640406992764724f2be2341": {
      "model_module": "@jupyter-widgets/base",
      "model_module_version": "1.2.0",
      "model_name": "LayoutModel",
      "state": {
       "flex": "2"
      }
     },
     "f84e747618ab486783b2216471d2c023": {
      "model_module": "@jupyter-widgets/base",
      "model_module_version": "1.2.0",
      "model_name": "LayoutModel",
      "state": {}
     },
     "f86b79ede8b940adad58a9bb143cf403": {
      "model_module": "@jupyter-widgets/controls",
      "model_module_version": "1.5.0",
      "model_name": "DescriptionStyleModel",
      "state": {
       "description_width": ""
      }
     },
     "f8b6fea3dcb344c7b859613bc79d5737": {
      "model_module": "@jupyter-widgets/base",
      "model_module_version": "1.2.0",
      "model_name": "LayoutModel",
      "state": {
       "flex": "2"
      }
     },
     "f8c48830097f4d7b85df024fe94172d8": {
      "model_module": "@jupyter-widgets/controls",
      "model_module_version": "1.5.0",
      "model_name": "HTMLModel",
      "state": {
       "layout": "IPY_MODEL_ccf8dc0f5aea452b86a7c45017932de8",
       "style": "IPY_MODEL_ae69ff1a2f4848829a40233f4641db91",
       "value": " 892/892 [01:28&lt;00:00, 10.92it/s]"
      }
     },
     "fa1428ac057e4b0da83478da1b29a9a0": {
      "model_module": "@jupyter-widgets/base",
      "model_module_version": "1.2.0",
      "model_name": "LayoutModel",
      "state": {
       "display": "inline-flex",
       "flex_flow": "row wrap",
       "width": "100%"
      }
     },
     "fa2be6efb3f947d49817760093edceae": {
      "model_module": "@jupyter-widgets/controls",
      "model_module_version": "1.5.0",
      "model_name": "HTMLModel",
      "state": {
       "layout": "IPY_MODEL_fd63140c9a884ad0b78349fc28137d15",
       "style": "IPY_MODEL_9ccdf04bfa21427d915545365528a055",
       "value": " 892/892 [01:28&lt;00:00, 10.58it/s]"
      }
     },
     "fa634674b48a4cd2a319521d39d1cd69": {
      "model_module": "@jupyter-widgets/controls",
      "model_module_version": "1.5.0",
      "model_name": "HTMLModel",
      "state": {
       "layout": "IPY_MODEL_3d87d0c7862344b98c1460fe1cf93b4d",
       "style": "IPY_MODEL_3a658f417eed46ac886e5e2e3e0d1383",
       "value": "Epoch 49: 100%"
      }
     },
     "fac737d57fd1470bba6e63e6e92f4db0": {
      "model_module": "@jupyter-widgets/controls",
      "model_module_version": "1.5.0",
      "model_name": "FloatProgressModel",
      "state": {
       "layout": "IPY_MODEL_0d55e24de3ff4d8389e27fe972439614",
       "max": 892,
       "style": "IPY_MODEL_fe1eeeccf9094e599fd52bd4b4040cc1",
       "value": 892
      }
     },
     "fad6cabcb9624689bd020c4b0aaaec6a": {
      "model_module": "@jupyter-widgets/base",
      "model_module_version": "1.2.0",
      "model_name": "LayoutModel",
      "state": {}
     },
     "fb0da23b4c5143d6a24cc7c028ebd390": {
      "model_module": "@jupyter-widgets/base",
      "model_module_version": "1.2.0",
      "model_name": "LayoutModel",
      "state": {
       "flex": "2"
      }
     },
     "fb2b8d808a0b403883952941e8f2b972": {
      "model_module": "@jupyter-widgets/base",
      "model_module_version": "1.2.0",
      "model_name": "LayoutModel",
      "state": {}
     },
     "fbfd1df70ae1413798400042228c9428": {
      "model_module": "@jupyter-widgets/base",
      "model_module_version": "1.2.0",
      "model_name": "LayoutModel",
      "state": {}
     },
     "fc81e10f243448458513371d418416e3": {
      "model_module": "@jupyter-widgets/base",
      "model_module_version": "1.2.0",
      "model_name": "LayoutModel",
      "state": {
       "display": "inline-flex",
       "flex_flow": "row wrap",
       "width": "100%"
      }
     },
     "fca0bd0fbed84d2dbb13a62dd0768402": {
      "model_module": "@jupyter-widgets/controls",
      "model_module_version": "1.5.0",
      "model_name": "HTMLModel",
      "state": {
       "layout": "IPY_MODEL_0a700d39d8bc44a79d09f85d7e0c83c9",
       "style": "IPY_MODEL_68e29c2f1d994cb986bcbb8a041e9924",
       "value": " 892/892 [01:28&lt;00:00, 10.79it/s]"
      }
     },
     "fca93c0b6f7440d2b12f60b6b74d3114": {
      "model_module": "@jupyter-widgets/controls",
      "model_module_version": "1.5.0",
      "model_name": "DescriptionStyleModel",
      "state": {
       "description_width": ""
      }
     },
     "fd5ee8fc3e2b4920b6ee1217e62712fd": {
      "model_module": "@jupyter-widgets/controls",
      "model_module_version": "1.5.0",
      "model_name": "HTMLModel",
      "state": {
       "layout": "IPY_MODEL_c21312859c404f07a0d06833821b8f3f",
       "style": "IPY_MODEL_c59795dc80e5422895b22dbb9363c525",
       "value": " 892/892 [01:28&lt;00:00, 10.76it/s]"
      }
     },
     "fd63140c9a884ad0b78349fc28137d15": {
      "model_module": "@jupyter-widgets/base",
      "model_module_version": "1.2.0",
      "model_name": "LayoutModel",
      "state": {}
     },
     "fd925cda43fe4776acf5cd4e7c008724": {
      "model_module": "@jupyter-widgets/base",
      "model_module_version": "1.2.0",
      "model_name": "LayoutModel",
      "state": {
       "display": "inline-flex",
       "flex_flow": "row wrap",
       "width": "100%"
      }
     },
     "fda0de6fdcbe4e029db1240797ba5db0": {
      "model_module": "@jupyter-widgets/controls",
      "model_module_version": "1.5.0",
      "model_name": "HTMLModel",
      "state": {
       "layout": "IPY_MODEL_c504dbaf3dec41109e9132c6a5317621",
       "style": "IPY_MODEL_1f929cc80bbe472e9c5aa30f6831e340",
       "value": "Validation DataLoader 0: 100%"
      }
     },
     "fdc119af0a644909969a11e346e69cd8": {
      "model_module": "@jupyter-widgets/base",
      "model_module_version": "1.2.0",
      "model_name": "LayoutModel",
      "state": {
       "flex": "2"
      }
     },
     "fe1eeeccf9094e599fd52bd4b4040cc1": {
      "model_module": "@jupyter-widgets/controls",
      "model_module_version": "1.5.0",
      "model_name": "ProgressStyleModel",
      "state": {
       "description_width": ""
      }
     },
     "fe5649b6bcee4cf6bbda1882dd4dd9df": {
      "model_module": "@jupyter-widgets/controls",
      "model_module_version": "1.5.0",
      "model_name": "FloatProgressModel",
      "state": {
       "layout": "IPY_MODEL_7cc8a945300f4856b2f7ab72d2d4ec04",
       "max": 892,
       "style": "IPY_MODEL_034a6f9de2ad48f696376c4e19c59e5a",
       "value": 892
      }
     },
     "fefaedc383e347cb84c202708170aa52": {
      "model_module": "@jupyter-widgets/controls",
      "model_module_version": "1.5.0",
      "model_name": "HTMLModel",
      "state": {
       "layout": "IPY_MODEL_94ac7be344ef4ff7a718236c31e92117",
       "style": "IPY_MODEL_8a47240582814a5388777b5cd4a09b13",
       "value": "Validation DataLoader 0: 100%"
      }
     },
     "ff01843be5e04a258b0f2b44040ba53a": {
      "model_module": "@jupyter-widgets/base",
      "model_module_version": "1.2.0",
      "model_name": "LayoutModel",
      "state": {}
     },
     "ff42cadae0a94e999c6a380eecc7cca6": {
      "model_module": "@jupyter-widgets/base",
      "model_module_version": "1.2.0",
      "model_name": "LayoutModel",
      "state": {
       "flex": "2"
      }
     },
     "ffde0a4e56a047e6948a37dc66f424d5": {
      "model_module": "@jupyter-widgets/controls",
      "model_module_version": "1.5.0",
      "model_name": "DescriptionStyleModel",
      "state": {
       "description_width": ""
      }
     }
    },
    "version_major": 2,
    "version_minor": 0
   }
  }
 },
 "nbformat": 4,
 "nbformat_minor": 5
}
