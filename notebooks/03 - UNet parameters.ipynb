{
 "cells": [
  {
   "cell_type": "code",
   "execution_count": 1,
   "id": "6db6a05a",
   "metadata": {},
   "outputs": [
    {
     "data": {
      "text/plain": [
       "[GpuDevice(id=0, process_index=0),\n",
       " GpuDevice(id=1, process_index=0),\n",
       " GpuDevice(id=2, process_index=0),\n",
       " GpuDevice(id=3, process_index=0),\n",
       " GpuDevice(id=4, process_index=0),\n",
       " GpuDevice(id=5, process_index=0),\n",
       " GpuDevice(id=6, process_index=0),\n",
       " GpuDevice(id=7, process_index=0)]"
      ]
     },
     "execution_count": 1,
     "metadata": {},
     "output_type": "execute_result"
    }
   ],
   "source": [
    "%load_ext autoreload\n",
    "%autoreload 2\n",
    "\n",
    "import pathlib\n",
    "import os\n",
    "\n",
    "import flax\n",
    "from flax import jax_utils\n",
    "import jax\n",
    "import jax.numpy as jnp\n",
    "import numpy as np\n",
    "import optax\n",
    "import torch\n",
    "import tensorflow as tf\n",
    "import tqdm\n",
    "\n",
    "import init2winit\n",
    "import fastmri\n",
    "\n",
    "import i2w\n",
    "\n",
    "from fastmri.models import unet as t_unet\n",
    "from fastmri.pl_modules import data_module\n",
    "from fastmri.pl_modules import unet_module\n",
    "from fastmri.data.transforms import UnetDataTransform\n",
    "from fastmri.data.subsample import create_mask_for_mask_type\n",
    "\n",
    "from init2winit.model_lib import unet as f_unet\n",
    "from init2winit.dataset_lib import fastmri_dataset\n",
    "from init2winit.dataset_lib import data_utils\n",
    "from init2winit.optimizer_lib import optimizers\n",
    "\n",
    "jax.devices()"
   ]
  },
  {
   "cell_type": "markdown",
   "id": "a0763a57",
   "metadata": {},
   "source": [
    "# U-Net parameters"
   ]
  },
  {
   "cell_type": "markdown",
   "id": "065fd19c",
   "metadata": {},
   "source": [
    "## `fastmri`"
   ]
  },
  {
   "cell_type": "code",
   "execution_count": 2,
   "id": "8ab77242",
   "metadata": {},
   "outputs": [],
   "source": [
    "t_model = t_unet.Unet(in_chans=1, out_chans=1, chans=32, num_pool_layers=4, drop_prob=0.0)"
   ]
  },
  {
   "cell_type": "markdown",
   "id": "10395837",
   "metadata": {},
   "source": [
    "## `init2winit`"
   ]
  },
  {
   "cell_type": "code",
   "execution_count": 3,
   "id": "64845d5a",
   "metadata": {},
   "outputs": [
    {
     "name": "stdout",
     "output_type": "stream",
     "text": [
      "Abs sum diff: 0.08570768\n",
      "Abs sum diff: 2233292.0\n"
     ]
    }
   ],
   "source": [
    "f_model = f_unet.UNet(out_chans=1, chans=32, num_pool_layers=4, drop_prob=0.0)\n",
    "f_params = i2w.convert_params(t_model, f_model, batch_size=1)\n",
    "f_params8 = i2w.convert_params(t_model, f_model, batch_size=8)"
   ]
  },
  {
   "cell_type": "markdown",
   "id": "748b7ecb",
   "metadata": {},
   "source": [
    "## Compared"
   ]
  },
  {
   "cell_type": "code",
   "execution_count": 4,
   "id": "f6145ff9",
   "metadata": {},
   "outputs": [
    {
     "data": {
      "text/plain": [
       "{'params': {'ConvBlock_0': {'Conv_0': {'kernel': DeviceArray(True, dtype=bool)},\n",
       "   'Conv_1': {'kernel': DeviceArray(True, dtype=bool)}},\n",
       "  'ConvBlock_1': {'Conv_0': {'kernel': DeviceArray(True, dtype=bool)},\n",
       "   'Conv_1': {'kernel': DeviceArray(True, dtype=bool)}},\n",
       "  'ConvBlock_2': {'Conv_0': {'kernel': DeviceArray(True, dtype=bool)},\n",
       "   'Conv_1': {'kernel': DeviceArray(True, dtype=bool)}},\n",
       "  'ConvBlock_3': {'Conv_0': {'kernel': DeviceArray(True, dtype=bool)},\n",
       "   'Conv_1': {'kernel': DeviceArray(True, dtype=bool)}},\n",
       "  'ConvBlock_4': {'Conv_0': {'kernel': DeviceArray(True, dtype=bool)},\n",
       "   'Conv_1': {'kernel': DeviceArray(True, dtype=bool)}},\n",
       "  'ConvBlock_5': {'Conv_0': {'kernel': DeviceArray(True, dtype=bool)},\n",
       "   'Conv_1': {'kernel': DeviceArray(True, dtype=bool)}},\n",
       "  'ConvBlock_6': {'Conv_0': {'kernel': DeviceArray(True, dtype=bool)},\n",
       "   'Conv_1': {'kernel': DeviceArray(True, dtype=bool)}},\n",
       "  'ConvBlock_7': {'Conv_0': {'kernel': DeviceArray(True, dtype=bool)},\n",
       "   'Conv_1': {'kernel': DeviceArray(True, dtype=bool)}},\n",
       "  'ConvBlock_8': {'Conv_0': {'kernel': DeviceArray(True, dtype=bool)},\n",
       "   'Conv_1': {'kernel': DeviceArray(True, dtype=bool)}},\n",
       "  'Conv_0': {'bias': DeviceArray(True, dtype=bool),\n",
       "   'kernel': DeviceArray(True, dtype=bool)},\n",
       "  'TransposeConvBlock_0': {'ConvTranspose_0': {'kernel': DeviceArray(True, dtype=bool)}},\n",
       "  'TransposeConvBlock_1': {'ConvTranspose_0': {'kernel': DeviceArray(True, dtype=bool)}},\n",
       "  'TransposeConvBlock_2': {'ConvTranspose_0': {'kernel': DeviceArray(True, dtype=bool)}},\n",
       "  'TransposeConvBlock_3': {'ConvTranspose_0': {'kernel': DeviceArray(True, dtype=bool)}}}}"
      ]
     },
     "execution_count": 4,
     "metadata": {},
     "output_type": "execute_result"
    }
   ],
   "source": [
    "jax.tree_map(jnp.allclose, f_params8, f_params)"
   ]
  }
 ],
 "metadata": {
  "kernelspec": {
   "display_name": "Python 3 (ipykernel)",
   "language": "python",
   "name": "python3"
  },
  "language_info": {
   "codemirror_mode": {
    "name": "ipython",
    "version": 3
   },
   "file_extension": ".py",
   "mimetype": "text/x-python",
   "name": "python",
   "nbconvert_exporter": "python",
   "pygments_lexer": "ipython3",
   "version": "3.7.12"
  }
 },
 "nbformat": 4,
 "nbformat_minor": 5
}
