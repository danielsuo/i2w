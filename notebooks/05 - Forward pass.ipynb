{
 "cells": [
  {
   "cell_type": "code",
   "execution_count": 1,
   "id": "6db6a05a",
   "metadata": {},
   "outputs": [
    {
     "data": {
      "text/plain": [
       "[GpuDevice(id=0, process_index=0),\n",
       " GpuDevice(id=1, process_index=0),\n",
       " GpuDevice(id=2, process_index=0),\n",
       " GpuDevice(id=3, process_index=0),\n",
       " GpuDevice(id=4, process_index=0),\n",
       " GpuDevice(id=5, process_index=0),\n",
       " GpuDevice(id=6, process_index=0),\n",
       " GpuDevice(id=7, process_index=0)]"
      ]
     },
     "execution_count": 1,
     "metadata": {},
     "output_type": "execute_result"
    }
   ],
   "source": [
    "%load_ext autoreload\n",
    "%autoreload 2\n",
    "\n",
    "import pathlib\n",
    "import os\n",
    "\n",
    "import flax\n",
    "from flax import jax_utils\n",
    "import jax\n",
    "import jax.numpy as jnp\n",
    "import numpy as np\n",
    "import optax\n",
    "import torch\n",
    "import tensorflow as tf\n",
    "import tqdm\n",
    "\n",
    "import init2winit\n",
    "import fastmri\n",
    "\n",
    "import i2w\n",
    "\n",
    "from fastmri.models import unet as t_unet\n",
    "from fastmri.pl_modules import data_module\n",
    "from fastmri.pl_modules import unet_module\n",
    "from fastmri.data.transforms import UnetDataTransform\n",
    "from fastmri.data.subsample import create_mask_for_mask_type\n",
    "\n",
    "from init2winit.model_lib import unet as f_unet\n",
    "from init2winit.dataset_lib import fastmri_dataset\n",
    "from init2winit.dataset_lib import data_utils\n",
    "from init2winit.optimizer_lib import optimizers\n",
    "\n",
    "jax.devices()"
   ]
  },
  {
   "cell_type": "markdown",
   "id": "a0763a57",
   "metadata": {},
   "source": [
    "# Forward pass"
   ]
  },
  {
   "cell_type": "code",
   "execution_count": 2,
   "id": "8338941a",
   "metadata": {},
   "outputs": [],
   "source": [
    "data_path = pathlib.Path('../../')\n",
    "challenge = 'singlecoil'\n",
    "center_fractions = [0.08]\n",
    "accelerations = [4]\n",
    "mask_type = None  # Should be `random`, but tying out without\n",
    "test_split = 'test'\n",
    "batch_size = 8"
   ]
  },
  {
   "cell_type": "code",
   "execution_count": 3,
   "id": "5430a77e",
   "metadata": {},
   "outputs": [],
   "source": [
    "def create_batch(t_batch):\n",
    "    batch_size = len(t_batch.slice_num)\n",
    "    inputs = [i2w.get_slice(os.path.join('../../singlecoil_train', t_batch.fname[i]), t_batch.slice_num[i]) for i in range(batch_size)]\n",
    "    processed = [fastmri_dataset._process_example(*input, tf.cast(jax.random.PRNGKey(0), tf.int64)) for input in inputs]\n",
    "    batched = [{key: tf.expand_dims(value, 0) for key, value in f.items()} for f in processed]\n",
    "\n",
    "    f_batch = {}\n",
    "    for key in batched[0].keys():\n",
    "        f_batch[key] = tf.concat([batched[i][key] for i in range(batch_size)], axis=0).numpy()\n",
    "        \n",
    "    return f_batch"
   ]
  },
  {
   "cell_type": "code",
   "execution_count": 4,
   "id": "e2e456ad",
   "metadata": {},
   "outputs": [],
   "source": [
    "# mask = create_mask_for_mask_type(mask_type, center_fractions, accelerations)\n",
    "mask = None\n",
    "\n",
    "train_transform = UnetDataTransform(challenge, mask_func=mask, use_seed=False)\n",
    "val_transform = UnetDataTransform(challenge, mask_func=mask)\n",
    "test_transform = UnetDataTransform(challenge)\n",
    "\n",
    "dm8 = data_module.FastMriDataModule(\n",
    "    data_path=data_path,\n",
    "    challenge=challenge,\n",
    "    train_transform=train_transform,\n",
    "    val_transform=val_transform,\n",
    "    test_transform=test_transform,\n",
    "    test_split=test_split,\n",
    "    batch_size=batch_size,\n",
    "    num_workers=4,\n",
    ")\n",
    "\n",
    "dl8 = iter(dm8.train_dataloader())"
   ]
  },
  {
   "cell_type": "markdown",
   "id": "065fd19c",
   "metadata": {},
   "source": [
    "## `fastmri`"
   ]
  },
  {
   "cell_type": "code",
   "execution_count": 5,
   "id": "8ab77242",
   "metadata": {},
   "outputs": [],
   "source": [
    "t_model = unet_module.UnetModule()"
   ]
  },
  {
   "cell_type": "markdown",
   "id": "10395837",
   "metadata": {},
   "source": [
    "## `init2winit`"
   ]
  },
  {
   "cell_type": "code",
   "execution_count": 6,
   "id": "ae4c88da",
   "metadata": {},
   "outputs": [
    {
     "name": "stdout",
     "output_type": "stream",
     "text": [
      "Abs sum diff: 0.104931116\n"
     ]
    }
   ],
   "source": [
    "f_model = f_unet.UNetModel(f_unet.DEFAULT_HPARAMS, {}, 'mean_absolute_error', 'image_reconstruction_metrics')\n",
    "f_params = i2w.convert_params(t_model.unet, f_model.flax_module)"
   ]
  },
  {
   "cell_type": "code",
   "execution_count": 7,
   "id": "b5ff1698",
   "metadata": {},
   "outputs": [
    {
     "name": "stdout",
     "output_type": "stream",
     "text": [
      "-3.874302e-06\n",
      "-3.8146973e-06\n",
      "-3.6358833e-06\n",
      "-3.695488e-06\n",
      "-3.5762787e-06\n",
      "-3.993511e-06\n",
      "-3.7550926e-06\n",
      "-3.8146973e-06\n",
      "-3.874302e-06\n",
      "-4.2915344e-06\n"
     ]
    }
   ],
   "source": [
    "count = 0\n",
    "for i, t_batch in enumerate(dl8):\n",
    "    if count == 10:\n",
    "        break\n",
    "    t_loss = t_model.training_step(t_batch, i).detach().numpy()\n",
    "    f_batch = data_utils.shard(create_batch(t_batch))\n",
    "    f_out = jax_utils.unreplicate(jax.pmap(f_model.evaluate_batch, axis_name='batch')(\n",
    "        jax_utils.replicate(f_params['params']),\n",
    "        jax_utils.replicate(jax.tree_map(jnp.zeros_like, f_params['params'])),\n",
    "        f_batch)).compute()\n",
    "    print(t_loss - f_out['l1_loss'])\n",
    "    count += 1"
   ]
  },
  {
   "cell_type": "code",
   "execution_count": null,
   "id": "376249b6",
   "metadata": {},
   "outputs": [],
   "source": []
  }
 ],
 "metadata": {
  "kernelspec": {
   "display_name": "Python 3 (ipykernel)",
   "language": "python",
   "name": "python3"
  },
  "language_info": {
   "codemirror_mode": {
    "name": "ipython",
    "version": 3
   },
   "file_extension": ".py",
   "mimetype": "text/x-python",
   "name": "python",
   "nbconvert_exporter": "python",
   "pygments_lexer": "ipython3",
   "version": "3.7.12"
  }
 },
 "nbformat": 4,
 "nbformat_minor": 5
}
